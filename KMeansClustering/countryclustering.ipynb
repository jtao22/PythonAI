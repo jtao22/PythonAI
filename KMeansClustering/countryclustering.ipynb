{
  "nbformat": 4,
  "nbformat_minor": 0,
  "metadata": {
    "colab": {
      "name": "countryclustering.ipynb",
      "provenance": [],
      "authorship_tag": "ABX9TyMj3C/OaFBxeU5UgeBO2qk5",
      "include_colab_link": true
    },
    "kernelspec": {
      "name": "python3",
      "display_name": "Python 3"
    },
    "language_info": {
      "name": "python"
    }
  },
  "cells": [
    {
      "cell_type": "markdown",
      "metadata": {
        "id": "view-in-github",
        "colab_type": "text"
      },
      "source": [
        "<a href=\"https://colab.research.google.com/github/jtao22/PythonAI/blob/main/KMeansClustering/countryclustering.ipynb\" target=\"_parent\"><img src=\"https://colab.research.google.com/assets/colab-badge.svg\" alt=\"Open In Colab\"/></a>"
      ]
    },
    {
      "cell_type": "code",
      "metadata": {
        "id": "n-x7vUWDG7W2"
      },
      "source": [
        "#import \n",
        "import pandas as pd \n",
        "import numpy as np\n",
        "import seaborn as sns\n",
        "import plotly.express as exp\n",
        "from sklearn.cluster import KMeans as KM\n",
        "from sklearn.decomposition import PCA\n",
        "from sklearn.preprocessing import StandardScaler as SS\n",
        "from matplotlib import cm\n",
        "import matplotlib.pyplot as plt\n",
        "from google.colab import files"
      ],
      "execution_count": 40,
      "outputs": []
    },
    {
      "cell_type": "code",
      "metadata": {
        "id": "5SCPOM8yHzgG"
      },
      "source": [
        "files.upload()"
      ],
      "execution_count": null,
      "outputs": []
    },
    {
      "cell_type": "code",
      "metadata": {
        "colab": {
          "base_uri": "https://localhost:8080/",
          "height": 204
        },
        "id": "2HevPLBNItIV",
        "outputId": "2d35045e-345b-4905-d571-b7434dacc799"
      },
      "source": [
        "data = pd.read_csv('country.csv')\n",
        "data.head(5)"
      ],
      "execution_count": 42,
      "outputs": [
        {
          "output_type": "execute_result",
          "data": {
            "text/html": [
              "<div>\n",
              "<style scoped>\n",
              "    .dataframe tbody tr th:only-of-type {\n",
              "        vertical-align: middle;\n",
              "    }\n",
              "\n",
              "    .dataframe tbody tr th {\n",
              "        vertical-align: top;\n",
              "    }\n",
              "\n",
              "    .dataframe thead th {\n",
              "        text-align: right;\n",
              "    }\n",
              "</style>\n",
              "<table border=\"1\" class=\"dataframe\">\n",
              "  <thead>\n",
              "    <tr style=\"text-align: right;\">\n",
              "      <th></th>\n",
              "      <th>country</th>\n",
              "      <th>child_mort</th>\n",
              "      <th>exports</th>\n",
              "      <th>health</th>\n",
              "      <th>imports</th>\n",
              "      <th>income</th>\n",
              "      <th>inflation</th>\n",
              "      <th>life_expec</th>\n",
              "      <th>total_fer</th>\n",
              "      <th>gdpp</th>\n",
              "    </tr>\n",
              "  </thead>\n",
              "  <tbody>\n",
              "    <tr>\n",
              "      <th>0</th>\n",
              "      <td>Afghanistan</td>\n",
              "      <td>90.2</td>\n",
              "      <td>10.0</td>\n",
              "      <td>7.58</td>\n",
              "      <td>44.9</td>\n",
              "      <td>1610</td>\n",
              "      <td>9.44</td>\n",
              "      <td>56.2</td>\n",
              "      <td>5.82</td>\n",
              "      <td>553</td>\n",
              "    </tr>\n",
              "    <tr>\n",
              "      <th>1</th>\n",
              "      <td>Albania</td>\n",
              "      <td>16.6</td>\n",
              "      <td>28.0</td>\n",
              "      <td>6.55</td>\n",
              "      <td>48.6</td>\n",
              "      <td>9930</td>\n",
              "      <td>4.49</td>\n",
              "      <td>76.3</td>\n",
              "      <td>1.65</td>\n",
              "      <td>4090</td>\n",
              "    </tr>\n",
              "    <tr>\n",
              "      <th>2</th>\n",
              "      <td>Algeria</td>\n",
              "      <td>27.3</td>\n",
              "      <td>38.4</td>\n",
              "      <td>4.17</td>\n",
              "      <td>31.4</td>\n",
              "      <td>12900</td>\n",
              "      <td>16.10</td>\n",
              "      <td>76.5</td>\n",
              "      <td>2.89</td>\n",
              "      <td>4460</td>\n",
              "    </tr>\n",
              "    <tr>\n",
              "      <th>3</th>\n",
              "      <td>Angola</td>\n",
              "      <td>119.0</td>\n",
              "      <td>62.3</td>\n",
              "      <td>2.85</td>\n",
              "      <td>42.9</td>\n",
              "      <td>5900</td>\n",
              "      <td>22.40</td>\n",
              "      <td>60.1</td>\n",
              "      <td>6.16</td>\n",
              "      <td>3530</td>\n",
              "    </tr>\n",
              "    <tr>\n",
              "      <th>4</th>\n",
              "      <td>Antigua and Barbuda</td>\n",
              "      <td>10.3</td>\n",
              "      <td>45.5</td>\n",
              "      <td>6.03</td>\n",
              "      <td>58.9</td>\n",
              "      <td>19100</td>\n",
              "      <td>1.44</td>\n",
              "      <td>76.8</td>\n",
              "      <td>2.13</td>\n",
              "      <td>12200</td>\n",
              "    </tr>\n",
              "  </tbody>\n",
              "</table>\n",
              "</div>"
            ],
            "text/plain": [
              "               country  child_mort  exports  ...  life_expec  total_fer   gdpp\n",
              "0          Afghanistan        90.2     10.0  ...        56.2       5.82    553\n",
              "1              Albania        16.6     28.0  ...        76.3       1.65   4090\n",
              "2              Algeria        27.3     38.4  ...        76.5       2.89   4460\n",
              "3               Angola       119.0     62.3  ...        60.1       6.16   3530\n",
              "4  Antigua and Barbuda        10.3     45.5  ...        76.8       2.13  12200\n",
              "\n",
              "[5 rows x 10 columns]"
            ]
          },
          "metadata": {
            "tags": []
          },
          "execution_count": 42
        }
      ]
    },
    {
      "cell_type": "code",
      "metadata": {
        "colab": {
          "base_uri": "https://localhost:8080/",
          "height": 493
        },
        "id": "r4BaGaguI2lZ",
        "outputId": "94995deb-0e59-4a45-e96f-5714a98249b9"
      },
      "source": [
        "corr = data.corr(method='pearson')\n",
        "fig = plt.figure(figsize=(8,8))\n",
        "plot = fig.add_subplot(1,1,1)\n",
        "mask = np.triu(np.ones_like(corr, dtype = bool))\n",
        "sns.heatmap(corr, annot = True, \n",
        "            vmin=-1, vmax=1, center= 0, \n",
        "            cmap= cm.pink,\n",
        "            linewidths=0.5, linecolor='black',\n",
        "            square=True, mask = mask, \n",
        "            cbar_kws={\"shrink\": .75})\n",
        "plt.tight_layout()"
      ],
      "execution_count": 43,
      "outputs": [
        {
          "output_type": "display_data",
          "data": {
            "image/png": "[encoded data removed]",
            "text/plain": [
              "<Figure size 576x576 with 2 Axes>"
            ]
          },
          "metadata": {
            "tags": [],
            "needs_background": "light"
          }
        }
      ]
    },
    {
      "cell_type": "code",
      "metadata": {
        "id": "YI34rbiCJ8F0"
      },
      "source": [
        "ss = SS()\n",
        "countries = data['country']\n",
        "data = data.drop(columns=['country'],axis=1)\n",
        "data = ss.fit_transform(data)"
      ],
      "execution_count": 44,
      "outputs": []
    },
    {
      "cell_type": "code",
      "metadata": {
        "id": "1OP5S6FUKYWk"
      },
      "source": [
        "ssd = []\n",
        "for k in range(1,10):\n",
        "    km = KM(n_clusters=k)\n",
        "    km = km.fit(data)\n",
        "    ssd.append(km.inertia_) "
      ],
      "execution_count": 45,
      "outputs": []
    },
    {
      "cell_type": "code",
      "metadata": {
        "colab": {
          "base_uri": "https://localhost:8080/",
          "height": 241
        },
        "id": "Rvfw2VCXKuIO",
        "outputId": "e1db3a15-3831-4b16-cea3-02398b2a0e69"
      },
      "source": [
        "fig = plt.figure(figsize=(5,3))\n",
        "plot = fig.add_subplot(1,1,1)\n",
        "sns.lineplot(x=range(1,10), y=ssd, ax=plot)\n",
        "plot.set_xlabel('k')\n",
        "plot.set_ylabel('ssd')\n",
        "plot.set_title('SSD vs K')\n",
        "plt.show()"
      ],
      "execution_count": 27,
      "outputs": [
        {
          "output_type": "display_data",
          "data": {
            "image/png": "[encoded data removed]",
            "text/plain": [
              "<Figure size 360x216 with 1 Axes>"
            ]
          },
          "metadata": {
            "tags": [],
            "needs_background": "light"
          }
        }
      ]
    },
    {
      "cell_type": "code",
      "metadata": {
        "colab": {
          "base_uri": "https://localhost:8080/"
        },
        "id": "4wQ56TC7LJen",
        "outputId": "01b6feb5-0427-4f3b-ec24-ed786053fda1"
      },
      "source": [
        "km = KM(n_clusters=3)\n",
        "km.fit(data)\n",
        "predictions = km.labels_\n",
        "for i in range(167):\n",
        "  print(countries[i], predictions[i])"
      ],
      "execution_count": 63,
      "outputs": [
        {
          "output_type": "stream",
          "text": [
            "Afghanistan 2\n",
            "Albania 0\n",
            "Algeria 0\n",
            "Angola 2\n",
            "Antigua and Barbuda 0\n",
            "Argentina 0\n",
            "Armenia 0\n",
            "Australia 1\n",
            "Austria 1\n",
            "Azerbaijan 0\n",
            "Bahamas 0\n",
            "Bahrain 1\n",
            "Bangladesh 0\n",
            "Barbados 0\n",
            "Belarus 0\n",
            "Belgium 1\n",
            "Belize 0\n",
            "Benin 2\n",
            "Bhutan 0\n",
            "Bolivia 0\n",
            "Bosnia and Herzegovina 0\n",
            "Botswana 2\n",
            "Brazil 0\n",
            "Brunei 1\n",
            "Bulgaria 0\n",
            "Burkina Faso 2\n",
            "Burundi 2\n",
            "Cambodia 0\n",
            "Cameroon 2\n",
            "Canada 1\n",
            "Cape Verde 0\n",
            "Central African Republic 2\n",
            "Chad 2\n",
            "Chile 0\n",
            "China 0\n",
            "Colombia 0\n",
            "Comoros 2\n",
            "Congo, Dem. Rep. 2\n",
            "Congo, Rep. 2\n",
            "Costa Rica 0\n",
            "Cote d'Ivoire 2\n",
            "Croatia 0\n",
            "Cyprus 1\n",
            "Czech Republic 1\n",
            "Denmark 1\n",
            "Dominican Republic 0\n",
            "Ecuador 0\n",
            "Egypt 0\n",
            "El Salvador 0\n",
            "Equatorial Guinea 2\n",
            "Eritrea 2\n",
            "Estonia 0\n",
            "Fiji 0\n",
            "Finland 1\n",
            "France 1\n",
            "Gabon 2\n",
            "Gambia 2\n",
            "Georgia 0\n",
            "Germany 1\n",
            "Ghana 2\n",
            "Greece 1\n",
            "Grenada 0\n",
            "Guatemala 0\n",
            "Guinea 2\n",
            "Guinea-Bissau 2\n",
            "Guyana 0\n",
            "Haiti 2\n",
            "Hungary 0\n",
            "Iceland 1\n",
            "India 0\n",
            "Indonesia 0\n",
            "Iran 0\n",
            "Iraq 2\n",
            "Ireland 1\n",
            "Israel 1\n",
            "Italy 1\n",
            "Jamaica 0\n",
            "Japan 1\n",
            "Jordan 0\n",
            "Kazakhstan 0\n",
            "Kenya 2\n",
            "Kiribati 2\n",
            "Kuwait 1\n",
            "Kyrgyz Republic 0\n",
            "Lao 2\n",
            "Latvia 0\n",
            "Lebanon 0\n",
            "Lesotho 2\n",
            "Liberia 2\n",
            "Libya 0\n",
            "Lithuania 0\n",
            "Luxembourg 1\n",
            "Macedonia, FYR 0\n",
            "Madagascar 2\n",
            "Malawi 2\n",
            "Malaysia 0\n",
            "Maldives 0\n",
            "Mali 2\n",
            "Malta 1\n",
            "Mauritania 2\n",
            "Mauritius 0\n",
            "Micronesia, Fed. Sts. 0\n",
            "Moldova 0\n",
            "Mongolia 0\n",
            "Montenegro 0\n",
            "Morocco 0\n",
            "Mozambique 2\n",
            "Myanmar 0\n",
            "Namibia 2\n",
            "Nepal 0\n",
            "Netherlands 1\n",
            "New Zealand 1\n",
            "Niger 2\n",
            "Nigeria 2\n",
            "Norway 1\n",
            "Oman 0\n",
            "Pakistan 2\n",
            "Panama 0\n",
            "Paraguay 0\n",
            "Peru 0\n",
            "Philippines 0\n",
            "Poland 0\n",
            "Portugal 1\n",
            "Qatar 1\n",
            "Romania 0\n",
            "Russia 0\n",
            "Rwanda 2\n",
            "Samoa 0\n",
            "Saudi Arabia 0\n",
            "Senegal 2\n",
            "Serbia 0\n",
            "Seychelles 0\n",
            "Sierra Leone 2\n",
            "Singapore 1\n",
            "Slovak Republic 1\n",
            "Slovenia 1\n",
            "Solomon Islands 0\n",
            "South Africa 2\n",
            "South Korea 1\n",
            "Spain 1\n",
            "Sri Lanka 0\n",
            "St. Vincent and the Grenadines 0\n",
            "Sudan 2\n",
            "Suriname 0\n",
            "Sweden 1\n",
            "Switzerland 1\n",
            "Tajikistan 0\n",
            "Tanzania 2\n",
            "Thailand 0\n",
            "Timor-Leste 2\n",
            "Togo 2\n",
            "Tonga 0\n",
            "Tunisia 0\n",
            "Turkey 0\n",
            "Turkmenistan 0\n",
            "Uganda 2\n",
            "Ukraine 0\n",
            "United Arab Emirates 1\n",
            "United Kingdom 1\n",
            "United States 1\n",
            "Uruguay 0\n",
            "Uzbekistan 0\n",
            "Vanuatu 0\n",
            "Venezuela 0\n",
            "Vietnam 0\n",
            "Yemen 2\n",
            "Zambia 2\n"
          ],
          "name": "stdout"
        }
      ]
    }
  ]
}