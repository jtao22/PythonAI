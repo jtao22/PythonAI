{
  "nbformat": 4,
  "nbformat_minor": 0,
  "metadata": {
    "colab": {
      "name": "basicsentimentanalysis.ipynb",
      "provenance": [],
      "authorship_tag": "ABX9TyOteA9txlY9Xw6eD8Y4Hl8p",
      "include_colab_link": true
    },
    "kernelspec": {
      "name": "python3",
      "display_name": "Python 3"
    }
  },
  "cells": [
    {
      "cell_type": "markdown",
      "metadata": {
        "id": "view-in-github",
        "colab_type": "text"
      },
      "source": [
        "<a href=\"https://colab.research.google.com/github/jtao22/PythonAI/blob/main/NLP/basicsentimentanalysis.ipynb\" target=\"_parent\"><img src=\"https://colab.research.google.com/assets/colab-badge.svg\" alt=\"Open In Colab\"/></a>"
      ]
    },
    {
      "cell_type": "code",
      "metadata": {
        "id": "qbu09Lf31mwy"
      },
      "source": [
        "pip install newspaper3k"
      ],
      "execution_count": null,
      "outputs": []
    },
    {
      "cell_type": "code",
      "metadata": {
        "id": "uiSBb96LLrdY"
      },
      "source": [
        "#import\n",
        "from textblob import TextBlob as TB\n",
        "import nltk\n",
        "from newspaper import Article "
      ],
      "execution_count": 3,
      "outputs": []
    },
    {
      "cell_type": "code",
      "metadata": {
        "id": "2uhfejy_MX7N"
      },
      "source": [
        "#upload article \n",
        "data = Article('https://jtao22.wixsite.com/jonathantaotutoring')"
      ],
      "execution_count": 7,
      "outputs": []
    },
    {
      "cell_type": "code",
      "metadata": {
        "colab": {
          "base_uri": "https://localhost:8080/"
        },
        "id": "6JCZ5SFFM03M",
        "outputId": "9b100a36-3d5a-4bf5-dcba-c5b0439b34e3"
      },
      "source": [
        "#NLP\n",
        "data.download()\n",
        "data.parse()\n",
        "nltk.download('punkt')\n",
        "data.nlp()\n",
        "print(data.summary)"
      ],
      "execution_count": 10,
      "outputs": [
        {
          "output_type": "stream",
          "text": [
            "[nltk_data] Downloading package punkt to /root/nltk_data...\n",
            "[nltk_data]   Package punkt is already up-to-date!\n",
            "I'm Jonathan Tao, a rising Junior at Mission San Jose High School.\n",
            "Over the course of COVID-19 and the ensuing quarantine, it has been brought to my attention that many students are not receiving the academic instruction or help they need.\n",
            "High school is a time where students' interests in potential careers will blossom, and unfortunately, COVID-19 has made it nigh impossible to explore a variety of subjects.\n",
            "I decided to start this service to help combat the lack of educational resources and provide the community.\n",
            "However, once the situation reattains some pseudo-normality, donations are welcome and will go to local relief organizations.\n"
          ],
          "name": "stdout"
        }
      ]
    },
    {
      "cell_type": "code",
      "metadata": {
        "id": "FiPjWfzWNF35"
      },
      "source": [
        "#Sentiment analysis\n",
        "text = TB(data.summary)\n",
        "sp = text.sentiment.polarity #ranges from -1 to 1, -1 is very negative, 1 is very positive"
      ],
      "execution_count": 15,
      "outputs": []
    }
  ]
}