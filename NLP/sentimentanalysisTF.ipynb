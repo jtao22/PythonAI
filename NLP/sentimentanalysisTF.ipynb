{
  "nbformat": 4,
  "nbformat_minor": 0,
  "metadata": {
    "colab": {
      "name": "sentimentanalysisTF.ipynb",
      "provenance": [],
      "authorship_tag": "ABX9TyNZdJ4GvoplICB5BF9ImFUI",
      "include_colab_link": true
    },
    "kernelspec": {
      "name": "python3",
      "display_name": "Python 3"
    },
    "accelerator": "GPU"
  },
  "cells": [
    {
      "cell_type": "markdown",
      "metadata": {
        "id": "view-in-github",
        "colab_type": "text"
      },
      "source": [
        "<a href=\"https://colab.research.google.com/github/jtao22/PythonAI/blob/main/NLP/sentimentanalysisTF.ipynb\" target=\"_parent\"><img src=\"https://colab.research.google.com/assets/colab-badge.svg\" alt=\"Open In Colab\"/></a>"
      ]
    },
    {
      "cell_type": "code",
      "metadata": {
        "colab": {
          "base_uri": "https://localhost:8080/"
        },
        "id": "mFdM59BYimvG",
        "outputId": "ef16006f-0688-4bfe-d11f-54b81dd9f05f"
      },
      "source": [
        "#import\n",
        "from keras.datasets import imdb\n",
        "from keras.preprocessing import sequence\n",
        "import tensorflow as tf\n",
        "import os\n",
        "import numpy as np\n",
        "import pandas as pd\n",
        "\n",
        "(trainX,trainY),(testX,testY) = imdb.load_data(num_words = 88584)"
      ],
      "execution_count": 2,
      "outputs": [
        {
          "output_type": "stream",
          "text": [
            "Downloading data from https://storage.googleapis.com/tensorflow/tf-keras-datasets/imdb.npz\n",
            "17465344/17464789 [==============================] - 0s 0us/step\n"
          ],
          "name": "stdout"
        },
        {
          "output_type": "stream",
          "text": [
            "<string>:6: VisibleDeprecationWarning: Creating an ndarray from ragged nested sequences (which is a list-or-tuple of lists-or-tuples-or ndarrays with different lengths or shapes) is deprecated. If you meant to do this, you must specify 'dtype=object' when creating the ndarray\n",
            "/usr/local/lib/python3.7/dist-packages/tensorflow/python/keras/datasets/imdb.py:159: VisibleDeprecationWarning: Creating an ndarray from ragged nested sequences (which is a list-or-tuple of lists-or-tuples-or ndarrays with different lengths or shapes) is deprecated. If you meant to do this, you must specify 'dtype=object' when creating the ndarray\n",
            "  x_train, y_train = np.array(xs[:idx]), np.array(labels[:idx])\n",
            "/usr/local/lib/python3.7/dist-packages/tensorflow/python/keras/datasets/imdb.py:160: VisibleDeprecationWarning: Creating an ndarray from ragged nested sequences (which is a list-or-tuple of lists-or-tuples-or ndarrays with different lengths or shapes) is deprecated. If you meant to do this, you must specify 'dtype=object' when creating the ndarray\n",
            "  x_test, y_test = np.array(xs[idx:]), np.array(labels[idx:])\n"
          ],
          "name": "stderr"
        }
      ]
    },
    {
      "cell_type": "code",
      "metadata": {
        "id": "jvJvhhszjzlT"
      },
      "source": [
        "maxlen = 0\n",
        "for i in range(len(trainX)):\n",
        "  maxlen = max(maxlen, len(trainX[i]))\n",
        "for i in range(len(testX)):\n",
        "  maxlen = max(maxlen,len(testX[i]))"
      ],
      "execution_count": 3,
      "outputs": []
    },
    {
      "cell_type": "code",
      "metadata": {
        "id": "TCLwDoXNjoy0"
      },
      "source": [
        "trainX = sequence.pad_sequences(trainX,maxlen)\n",
        "testX = sequence.pad_sequences(testX,maxlen)"
      ],
      "execution_count": 4,
      "outputs": []
    },
    {
      "cell_type": "code",
      "metadata": {
        "id": "bV4Q7HIlkgxE"
      },
      "source": [
        "arch = tf.keras.Sequential([\n",
        "  tf.keras.layers.Embedding(88584,32),\n",
        "  tf.keras.layers.LSTM(32),\n",
        "  tf.keras.layers.Dense(1,activation='sigmoid')\n",
        "])"
      ],
      "execution_count": 8,
      "outputs": []
    },
    {
      "cell_type": "code",
      "metadata": {
        "colab": {
          "base_uri": "https://localhost:8080/"
        },
        "id": "FQOboHIGlYZI",
        "outputId": "7deec279-9758-418d-f864-5ef71f4f5990"
      },
      "source": [
        "arch.summary()"
      ],
      "execution_count": 6,
      "outputs": [
        {
          "output_type": "stream",
          "text": [
            "Model: \"sequential\"\n",
            "_________________________________________________________________\n",
            "Layer (type)                 Output Shape              Param #   \n",
            "=================================================================\n",
            "embedding (Embedding)        (None, None, 32)          2834688   \n",
            "_________________________________________________________________\n",
            "lstm (LSTM)                  (None, 32)                8320      \n",
            "_________________________________________________________________\n",
            "dense (Dense)                (None, 1)                 33        \n",
            "=================================================================\n",
            "Total params: 2,843,041\n",
            "Trainable params: 2,843,041\n",
            "Non-trainable params: 0\n",
            "_________________________________________________________________\n"
          ],
          "name": "stdout"
        }
      ]
    },
    {
      "cell_type": "code",
      "metadata": {
        "colab": {
          "base_uri": "https://localhost:8080/"
        },
        "id": "3P1N5KSUlmXH",
        "outputId": "a23c2a86-dac2-4c95-c6f5-46f8fe9ea822"
      },
      "source": [
        "arch.compile(loss='binary_crossentropy', optimizer='adam', metrics=['acc'])\n",
        "hist = arch.fit(trainX,trainY,epochs=4,batch_size = 64, validation_split=0.2, shuffle=True)"
      ],
      "execution_count": 9,
      "outputs": [
        {
          "output_type": "stream",
          "text": [
            "Epoch 1/4\n",
            "313/313 [==============================] - 35s 108ms/step - loss: 0.5853 - acc: 0.6656 - val_loss: 0.3549 - val_acc: 0.8472\n",
            "Epoch 2/4\n",
            "313/313 [==============================] - 34s 110ms/step - loss: 0.2266 - acc: 0.9139 - val_loss: 0.2886 - val_acc: 0.8870\n",
            "Epoch 3/4\n",
            "313/313 [==============================] - 34s 109ms/step - loss: 0.0987 - acc: 0.9686 - val_loss: 0.3305 - val_acc: 0.8848\n",
            "Epoch 4/4\n",
            "313/313 [==============================] - 34s 108ms/step - loss: 0.0421 - acc: 0.9887 - val_loss: 0.4080 - val_acc: 0.8740\n"
          ],
          "name": "stdout"
        }
      ]
    },
    {
      "cell_type": "code",
      "metadata": {
        "colab": {
          "base_uri": "https://localhost:8080/"
        },
        "id": "q903SsqlCiY6",
        "outputId": "07a09037-c49e-461e-a2c3-bad9072ea899"
      },
      "source": [
        "arch.evaluate(testX,testY)"
      ],
      "execution_count": 10,
      "outputs": [
        {
          "output_type": "stream",
          "text": [
            "782/782 [==============================] - 23s 30ms/step - loss: 0.4612 - acc: 0.8518\n"
          ],
          "name": "stdout"
        },
        {
          "output_type": "execute_result",
          "data": {
            "text/plain": [
              "[0.4611981511116028, 0.8518000245094299]"
            ]
          },
          "metadata": {
            "tags": []
          },
          "execution_count": 10
        }
      ]
    }
  ]
}