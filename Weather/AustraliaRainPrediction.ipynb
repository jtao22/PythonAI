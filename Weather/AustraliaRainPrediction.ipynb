{
  "nbformat": 4,
  "nbformat_minor": 0,
  "metadata": {
    "colab": {
      "name": "AustraliaRainPrediction.ipynb",
      "provenance": [],
      "authorship_tag": "ABX9TyMN2+ilxBFucHB/f6CTulpW",
      "include_colab_link": true
    },
    "kernelspec": {
      "name": "python3",
      "display_name": "Python 3"
    }
  },
  "cells": [
    {
      "cell_type": "markdown",
      "metadata": {
        "id": "view-in-github",
        "colab_type": "text"
      },
      "source": [
        "<a href=\"https://colab.research.google.com/github/jtao22/PythonAI/blob/main/Weather/AustraliaRainPrediction.ipynb\" target=\"_parent\"><img src=\"https://colab.research.google.com/assets/colab-badge.svg\" alt=\"Open In Colab\"/></a>"
      ]
    },
    {
      "cell_type": "code",
      "metadata": {
        "id": "4syQx0wUw1JB"
      },
      "source": [
        "#import \n",
        "import numpy as np\n",
        "import pandas as pd \n",
        "from sklearn.preprocessing import LabelEncoder as LE\n",
        "from sklearn.preprocessing import MinMaxScaler as MMS\n",
        "from sklearn.model_selection import train_test_split as tts\n",
        "from sklearn.linear_model import LogisticRegression as LR\n",
        "from sklearn.neighbors import KNeighborsClassifier as KNC\n",
        "from sklearn.svm import SVC \n",
        "from sklearn.metrics import accuracy_score as acc"
      ],
      "execution_count": 33,
      "outputs": []
    },
    {
      "cell_type": "code",
      "metadata": {
        "id": "edN27NmRyOQw"
      },
      "source": [
        "from google.colab import files\n",
        "files.upload()"
      ],
      "execution_count": null,
      "outputs": []
    },
    {
      "cell_type": "code",
      "metadata": {
        "colab": {
          "base_uri": "https://localhost:8080/"
        },
        "id": "9pWzf6uuy6FJ",
        "outputId": "067f6cc8-0a03-4445-944f-d54e3a86a7c2"
      },
      "source": [
        "data = pd.read_csv('rain.csv')\n",
        "data.shape"
      ],
      "execution_count": 80,
      "outputs": [
        {
          "output_type": "execute_result",
          "data": {
            "text/plain": [
              "(145460, 23)"
            ]
          },
          "metadata": {
            "tags": []
          },
          "execution_count": 80
        }
      ]
    },
    {
      "cell_type": "code",
      "metadata": {
        "colab": {
          "base_uri": "https://localhost:8080/"
        },
        "id": "fI27PFwLzF_z",
        "outputId": "ceadedcd-78b3-4cc2-f666-59fb0576be8f"
      },
      "source": [
        "#data cleaning \n",
        "data = data.fillna(data.mean())\n",
        "data = data.dropna()\n",
        "data.drop_duplicates(inplace = True)\n",
        "data.isnull().sum()"
      ],
      "execution_count": 81,
      "outputs": [
        {
          "output_type": "execute_result",
          "data": {
            "text/plain": [
              "Date             0\n",
              "Location         0\n",
              "MinTemp          0\n",
              "MaxTemp          0\n",
              "Rainfall         0\n",
              "Evaporation      0\n",
              "Sunshine         0\n",
              "WindGustDir      0\n",
              "WindGustSpeed    0\n",
              "WindDir9am       0\n",
              "WindDir3pm       0\n",
              "WindSpeed9am     0\n",
              "WindSpeed3pm     0\n",
              "Humidity9am      0\n",
              "Humidity3pm      0\n",
              "Pressure9am      0\n",
              "Pressure3pm      0\n",
              "Cloud9am         0\n",
              "Cloud3pm         0\n",
              "Temp9am          0\n",
              "Temp3pm          0\n",
              "RainToday        0\n",
              "RainTomorrow     0\n",
              "dtype: int64"
            ]
          },
          "metadata": {
            "tags": []
          },
          "execution_count": 81
        }
      ]
    },
    {
      "cell_type": "code",
      "metadata": {
        "colab": {
          "base_uri": "https://localhost:8080/"
        },
        "id": "nus0A9DhzbF7",
        "outputId": "ccc8681e-64b1-41f4-f0f6-a4001610aadf"
      },
      "source": [
        "#parsing date into day, month, year\n",
        "data['Date']= pd.to_datetime(data[\"Date\"])\n",
        "data['month'] = (data.Date.dt.month)/12\n",
        "data['day'] = (data.Date.dt.day)/31\n",
        "data = data.drop(columns=['Date'])\n",
        "data.head(5)\n",
        "data.dtypes"
      ],
      "execution_count": 82,
      "outputs": [
        {
          "output_type": "execute_result",
          "data": {
            "text/plain": [
              "Location          object\n",
              "MinTemp          float64\n",
              "MaxTemp          float64\n",
              "Rainfall         float64\n",
              "Evaporation      float64\n",
              "Sunshine         float64\n",
              "WindGustDir       object\n",
              "WindGustSpeed    float64\n",
              "WindDir9am        object\n",
              "WindDir3pm        object\n",
              "WindSpeed9am     float64\n",
              "WindSpeed3pm     float64\n",
              "Humidity9am      float64\n",
              "Humidity3pm      float64\n",
              "Pressure9am      float64\n",
              "Pressure3pm      float64\n",
              "Cloud9am         float64\n",
              "Cloud3pm         float64\n",
              "Temp9am          float64\n",
              "Temp3pm          float64\n",
              "RainToday         object\n",
              "RainTomorrow      object\n",
              "month            float64\n",
              "day              float64\n",
              "dtype: object"
            ]
          },
          "metadata": {
            "tags": []
          },
          "execution_count": 82
        }
      ]
    },
    {
      "cell_type": "code",
      "metadata": {
        "id": "mpxBW2_z1Kpf"
      },
      "source": [
        "#one-hot encoding and min-max scaling\n",
        "le = LE()\n",
        "Y = data['RainTomorrow']\n",
        "Y = le.fit_transform(Y)\n",
        "data = data.drop(columns=['RainTomorrow'])\n",
        "for col in data:\n",
        "  if (data[col].dtypes == np.float64):\n",
        "    maxim = np.max(data[col])\n",
        "    minim = np.min(data[col])\n",
        "    data[col] = (data[col]-minim)/(maxim-minim)\n",
        "  else:\n",
        "    data[col] = le.fit_transform(data[col])\n",
        "data = data.values"
      ],
      "execution_count": 83,
      "outputs": []
    },
    {
      "cell_type": "code",
      "metadata": {
        "id": "7ERqLsPB5IzS"
      },
      "source": [
        "trainX,testX,trainY,testY = tts(data,Y,test_size=0.2, random_state=42)"
      ],
      "execution_count": 84,
      "outputs": []
    },
    {
      "cell_type": "code",
      "metadata": {
        "colab": {
          "base_uri": "https://localhost:8080/"
        },
        "id": "eovnamqz8FAq",
        "outputId": "12efe6ea-f888-4f5f-8b0a-a04e10d2dd22"
      },
      "source": [
        "#create models\n",
        "#linear regression\n",
        "lr=LR()\n",
        "lr.fit(trainX,trainY)\n",
        "#K Neighbors Classifier\n",
        "knc=KNC(n_neighbors=8)\n",
        "knc.fit(trainX,trainY)\n",
        "#Support Vector Machine\n",
        "svc = SVC()\n",
        "svc.fit(trainX,trainY)"
      ],
      "execution_count": 86,
      "outputs": [
        {
          "output_type": "stream",
          "text": [
            "/usr/local/lib/python3.7/dist-packages/sklearn/linear_model/_logistic.py:940: ConvergenceWarning: lbfgs failed to converge (status=1):\n",
            "STOP: TOTAL NO. of ITERATIONS REACHED LIMIT.\n",
            "\n",
            "Increase the number of iterations (max_iter) or scale the data as shown in:\n",
            "    https://scikit-learn.org/stable/modules/preprocessing.html\n",
            "Please also refer to the documentation for alternative solver options:\n",
            "    https://scikit-learn.org/stable/modules/linear_model.html#logistic-regression\n",
            "  extra_warning_msg=_LOGISTIC_SOLVER_CONVERGENCE_MSG)\n"
          ],
          "name": "stderr"
        },
        {
          "output_type": "execute_result",
          "data": {
            "text/plain": [
              "SVC(C=1.0, break_ties=False, cache_size=200, class_weight=None, coef0=0.0,\n",
              "    decision_function_shape='ovr', degree=3, gamma='scale', kernel='rbf',\n",
              "    max_iter=-1, probability=False, random_state=None, shrinking=True,\n",
              "    tol=0.001, verbose=False)"
            ]
          },
          "metadata": {
            "tags": []
          },
          "execution_count": 86
        }
      ]
    },
    {
      "cell_type": "code",
      "metadata": {
        "colab": {
          "base_uri": "https://localhost:8080/"
        },
        "id": "jQn9eUju8uVy",
        "outputId": "e28b16bf-9b74-4368-bf75-e5aded3db56e"
      },
      "source": [
        "#predict\n",
        "lpredict=lr.predict(testX)\n",
        "kpredict = knc.predict(testX)\n",
        "spredict = svc.predict(testX)\n",
        "print(acc(testY,lpredict))\n",
        "print(acc(testY,kpredict))\n",
        "print(acc(testY,spredict))"
      ],
      "execution_count": 87,
      "outputs": [
        {
          "output_type": "stream",
          "text": [
            "0.8416053673914801\n",
            "0.8022795246948509\n",
            "0.8286314768409991\n"
          ],
          "name": "stdout"
        }
      ]
    }
  ]
}