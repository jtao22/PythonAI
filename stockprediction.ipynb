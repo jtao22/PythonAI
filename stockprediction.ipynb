{
  "nbformat": 4,
  "nbformat_minor": 0,
  "metadata": {
    "colab": {
      "name": "stockprediction.ipynb",
      "provenance": [],
      "authorship_tag": "ABX9TyPl8SN8JXZbGJ5DlyojyqP4",
      "include_colab_link": true
    },
    "kernelspec": {
      "name": "python3",
      "display_name": "Python 3"
    }
  },
  "cells": [
    {
      "cell_type": "markdown",
      "metadata": {
        "id": "view-in-github",
        "colab_type": "text"
      },
      "source": [
        "<a href=\"https://colab.research.google.com/github/jtao22/PythonML/blob/main/stockprediction.ipynb\" target=\"_parent\"><img src=\"https://colab.research.google.com/assets/colab-badge.svg\" alt=\"Open In Colab\"/></a>"
      ]
    },
    {
      "cell_type": "code",
      "metadata": {
        "id": "aYukyETA3tGd"
      },
      "source": [
        "#Import\n",
        "import numpy as np\n",
        "import pandas_datareader as pdr\n",
        "import math\n",
        "import datetime\n",
        "import matplotlib.pyplot as pyplot\n",
        "import pandas as pd\n",
        "from sklearn.preprocessing import MinMaxScaler as mms\n",
        "from keras.layers import Dense, LSTM\n",
        "from keras.models import Sequential\n",
        "pyplot.style.use('fivethirtyeight')\n"
      ],
      "execution_count": 65,
      "outputs": []
    },
    {
      "cell_type": "code",
      "metadata": {
        "colab": {
          "base_uri": "https://localhost:8080/",
          "height": 450
        },
        "id": "CgzHfzl643Gv",
        "outputId": "909aac0c-ddc9-46af-892a-eb7aa2a89e0e"
      },
      "source": [
        "#Retrieve data\n",
        "#startdate = (datetime.datetime.now() - datetime.timedelta(days=365)).strftime(\"%m-%d-%Y\")\n",
        "data = pdr.DataReader('MSFT', data_source=\"yahoo\", start = \"2010-1-1\")\n",
        "data"
      ],
      "execution_count": 88,
      "outputs": [
        {
          "output_type": "execute_result",
          "data": {
            "text/html": [
              "<div>\n",
              "<style scoped>\n",
              "    .dataframe tbody tr th:only-of-type {\n",
              "        vertical-align: middle;\n",
              "    }\n",
              "\n",
              "    .dataframe tbody tr th {\n",
              "        vertical-align: top;\n",
              "    }\n",
              "\n",
              "    .dataframe thead th {\n",
              "        text-align: right;\n",
              "    }\n",
              "</style>\n",
              "<table border=\"1\" class=\"dataframe\">\n",
              "  <thead>\n",
              "    <tr style=\"text-align: right;\">\n",
              "      <th></th>\n",
              "      <th>High</th>\n",
              "      <th>Low</th>\n",
              "      <th>Open</th>\n",
              "      <th>Close</th>\n",
              "      <th>Volume</th>\n",
              "      <th>Adj Close</th>\n",
              "    </tr>\n",
              "    <tr>\n",
              "      <th>Date</th>\n",
              "      <th></th>\n",
              "      <th></th>\n",
              "      <th></th>\n",
              "      <th></th>\n",
              "      <th></th>\n",
              "      <th></th>\n",
              "    </tr>\n",
              "  </thead>\n",
              "  <tbody>\n",
              "    <tr>\n",
              "      <th>2010-01-04</th>\n",
              "      <td>31.100000</td>\n",
              "      <td>30.590000</td>\n",
              "      <td>30.620001</td>\n",
              "      <td>30.950001</td>\n",
              "      <td>38409100.0</td>\n",
              "      <td>24.105360</td>\n",
              "    </tr>\n",
              "    <tr>\n",
              "      <th>2010-01-05</th>\n",
              "      <td>31.100000</td>\n",
              "      <td>30.639999</td>\n",
              "      <td>30.850000</td>\n",
              "      <td>30.959999</td>\n",
              "      <td>49749600.0</td>\n",
              "      <td>24.113148</td>\n",
              "    </tr>\n",
              "    <tr>\n",
              "      <th>2010-01-06</th>\n",
              "      <td>31.080000</td>\n",
              "      <td>30.520000</td>\n",
              "      <td>30.879999</td>\n",
              "      <td>30.770000</td>\n",
              "      <td>58182400.0</td>\n",
              "      <td>23.965164</td>\n",
              "    </tr>\n",
              "    <tr>\n",
              "      <th>2010-01-07</th>\n",
              "      <td>30.700001</td>\n",
              "      <td>30.190001</td>\n",
              "      <td>30.629999</td>\n",
              "      <td>30.450001</td>\n",
              "      <td>50559700.0</td>\n",
              "      <td>23.715933</td>\n",
              "    </tr>\n",
              "    <tr>\n",
              "      <th>2010-01-08</th>\n",
              "      <td>30.879999</td>\n",
              "      <td>30.240000</td>\n",
              "      <td>30.280001</td>\n",
              "      <td>30.660000</td>\n",
              "      <td>51197400.0</td>\n",
              "      <td>23.879499</td>\n",
              "    </tr>\n",
              "    <tr>\n",
              "      <th>...</th>\n",
              "      <td>...</td>\n",
              "      <td>...</td>\n",
              "      <td>...</td>\n",
              "      <td>...</td>\n",
              "      <td>...</td>\n",
              "      <td>...</td>\n",
              "    </tr>\n",
              "    <tr>\n",
              "      <th>2021-01-04</th>\n",
              "      <td>223.000000</td>\n",
              "      <td>214.809998</td>\n",
              "      <td>222.529999</td>\n",
              "      <td>217.690002</td>\n",
              "      <td>37113600.0</td>\n",
              "      <td>217.690002</td>\n",
              "    </tr>\n",
              "    <tr>\n",
              "      <th>2021-01-05</th>\n",
              "      <td>218.520004</td>\n",
              "      <td>215.699997</td>\n",
              "      <td>217.259995</td>\n",
              "      <td>217.899994</td>\n",
              "      <td>23800200.0</td>\n",
              "      <td>217.899994</td>\n",
              "    </tr>\n",
              "    <tr>\n",
              "      <th>2021-01-06</th>\n",
              "      <td>216.490005</td>\n",
              "      <td>211.940002</td>\n",
              "      <td>212.169998</td>\n",
              "      <td>212.250000</td>\n",
              "      <td>35883400.0</td>\n",
              "      <td>212.250000</td>\n",
              "    </tr>\n",
              "    <tr>\n",
              "      <th>2021-01-07</th>\n",
              "      <td>219.339996</td>\n",
              "      <td>213.710007</td>\n",
              "      <td>214.039993</td>\n",
              "      <td>218.289993</td>\n",
              "      <td>27671000.0</td>\n",
              "      <td>218.289993</td>\n",
              "    </tr>\n",
              "    <tr>\n",
              "      <th>2021-01-08</th>\n",
              "      <td>220.580002</td>\n",
              "      <td>217.029999</td>\n",
              "      <td>218.679993</td>\n",
              "      <td>219.619995</td>\n",
              "      <td>22956206.0</td>\n",
              "      <td>219.619995</td>\n",
              "    </tr>\n",
              "  </tbody>\n",
              "</table>\n",
              "<p>2774 rows × 6 columns</p>\n",
              "</div>"
            ],
            "text/plain": [
              "                  High         Low  ...      Volume   Adj Close\n",
              "Date                                ...                        \n",
              "2010-01-04   31.100000   30.590000  ...  38409100.0   24.105360\n",
              "2010-01-05   31.100000   30.639999  ...  49749600.0   24.113148\n",
              "2010-01-06   31.080000   30.520000  ...  58182400.0   23.965164\n",
              "2010-01-07   30.700001   30.190001  ...  50559700.0   23.715933\n",
              "2010-01-08   30.879999   30.240000  ...  51197400.0   23.879499\n",
              "...                ...         ...  ...         ...         ...\n",
              "2021-01-04  223.000000  214.809998  ...  37113600.0  217.690002\n",
              "2021-01-05  218.520004  215.699997  ...  23800200.0  217.899994\n",
              "2021-01-06  216.490005  211.940002  ...  35883400.0  212.250000\n",
              "2021-01-07  219.339996  213.710007  ...  27671000.0  218.289993\n",
              "2021-01-08  220.580002  217.029999  ...  22956206.0  219.619995\n",
              "\n",
              "[2774 rows x 6 columns]"
            ]
          },
          "metadata": {
            "tags": []
          },
          "execution_count": 88
        }
      ]
    },
    {
      "cell_type": "code",
      "metadata": {
        "id": "OoGpGPB06Bya"
      },
      "source": [
        "#filter data, convert to array\n",
        "newdata = data.filter(['Close'])\n",
        "dataset = newdata.values\n",
        "#set variables\n",
        "traindatalength = math.ceil(len(dataset)*0.8)\n",
        "#scale data\n",
        "scaler = mms(feature_range=(0,1))\n",
        "scaled = scaler.fit_transform(dataset)"
      ],
      "execution_count": 89,
      "outputs": []
    },
    {
      "cell_type": "code",
      "metadata": {
        "id": "5rPTjtIC7Seu"
      },
      "source": [
        "#create data to train architecture\n",
        "train = scaled[0:traindatalength, :]\n",
        "trainX = [] #independent\n",
        "trainY = [] #dependent\n",
        "for i in range(30,len(train)):\n",
        "  trainX.append(train[i-30:i,0])\n",
        "  trainY.append(train[i,0])\n",
        "#convert data into numpy array\n",
        "trainX = np.array(trainX)\n",
        "trainY = np.array(trainY)\n",
        "#fit dimensions for LSTM\n",
        "trainX = np.reshape(trainX, (trainX.shape[0],trainX.shape[1],1))"
      ],
      "execution_count": 90,
      "outputs": []
    },
    {
      "cell_type": "code",
      "metadata": {
        "id": "JzK23Xlj8mfV"
      },
      "source": [
        "#build LSTM architecture\n",
        "arch = Sequential()\n",
        "arch.add(LSTM(50, return_sequences = True, input_shape = (trainX.shape[1],1)))\n",
        "arch.add(LSTM(50, return_sequences = False))\n",
        "arch.add(Dense(25))\n",
        "arch.add(Dense(1))\n",
        "#compile\n",
        "arch.compile(optimizer='adam', loss = 'mean_squared_error')"
      ],
      "execution_count": 91,
      "outputs": []
    },
    {
      "cell_type": "code",
      "metadata": {
        "colab": {
          "base_uri": "https://localhost:8080/"
        },
        "id": "tViAOj3a-SWx",
        "outputId": "afd7fdd8-2f1f-4d6b-eb39-eeb28e50b8f9"
      },
      "source": [
        "#train architecture\n",
        "arch.fit(trainX, trainY, batch_size = 1, epochs = 1)\n"
      ],
      "execution_count": 92,
      "outputs": [
        {
          "output_type": "stream",
          "text": [
            "2190/2190 [==============================] - 31s 13ms/step - loss: 7.7318e-04\n"
          ],
          "name": "stdout"
        },
        {
          "output_type": "execute_result",
          "data": {
            "text/plain": [
              "<tensorflow.python.keras.callbacks.History at 0x7fa615295278>"
            ]
          },
          "metadata": {
            "tags": []
          },
          "execution_count": 92
        }
      ]
    },
    {
      "cell_type": "code",
      "metadata": {
        "id": "dLB-WEba-hfy"
      },
      "source": [
        "#make test data\n",
        "test = scaled[traindatalength-30: , :]\n",
        "testX = []\n",
        "testY = dataset[traindatalength:, :]\n",
        "for i in range(30,len(test)):\n",
        "  testX.append(test[i-30:i,0])\n",
        "#convert data into numpy array\n",
        "testX = np.array(testX)\n",
        "#fit dimensions for LSTM \n",
        "testX = np.reshape(testX, (testX.shape[0], testX.shape[1], 1))"
      ],
      "execution_count": 93,
      "outputs": []
    },
    {
      "cell_type": "code",
      "metadata": {
        "colab": {
          "base_uri": "https://localhost:8080/"
        },
        "id": "Qsl1fjitX-IY",
        "outputId": "093c2b8b-435f-4a94-a76c-580e08e2f633"
      },
      "source": [
        "#run\n",
        "predictions = arch.predict(testX)\n",
        "predictions = scaler.inverse_transform(predictions)\n",
        "#RMSE\n",
        "rmse = np.sqrt(np.mean(np.power((np.array(testY)-np.array(predictions)),2)))\n",
        "rmse"
      ],
      "execution_count": 94,
      "outputs": [
        {
          "output_type": "execute_result",
          "data": {
            "text/plain": [
              "7.042550640657758"
            ]
          },
          "metadata": {
            "tags": []
          },
          "execution_count": 94
        }
      ]
    },
    {
      "cell_type": "code",
      "metadata": {
        "colab": {
          "base_uri": "https://localhost:8080/",
          "height": 458
        },
        "id": "GxGxpKADYqj0",
        "outputId": "8d96436d-b0f7-42c3-ddf7-164433f01727"
      },
      "source": [
        "#visualize\n",
        "traindata = newdata[:traindatalength]\n",
        "valid = newdata[traindatalength:]\n",
        "valid['Predictions'] = predictions\n",
        "pyplot.figure(figsize=(16,8))\n",
        "pyplot.title('Predictions')\n",
        "pyplot.xlabel('Date', fontsize=17)\n",
        "pyplot.ylabel ('Close Price ($)', fontsize=17)\n",
        "pyplot.plot(traindata['Close'])\n",
        "pyplot.plot(valid[['Close', 'Predictions']])\n",
        "pyplot.legend(['Train', 'Validation', 'Predictions'], loc='lower right')\n",
        "pyplot.show()"
      ],
      "execution_count": 95,
      "outputs": [
        {
          "output_type": "stream",
          "text": [
            "/usr/local/lib/python3.6/dist-packages/ipykernel_launcher.py:4: SettingWithCopyWarning: \n",
            "A value is trying to be set on a copy of a slice from a DataFrame.\n",
            "Try using .loc[row_indexer,col_indexer] = value instead\n",
            "\n",
            "See the caveats in the documentation: https://pandas.pydata.org/pandas-docs/stable/user_guide/indexing.html#returning-a-view-versus-a-copy\n",
            "  after removing the cwd from sys.path.\n"
          ],
          "name": "stderr"
        },
        {
          "output_type": "display_data",
          "data": {
            "image/png": "[encoded data removed]",
            "text/plain": [
              "<Figure size 1152x576 with 1 Axes>"
            ]
          },
          "metadata": {
            "tags": []
          }
        }
      ]
    },
    {
      "cell_type": "code",
      "metadata": {
        "colab": {
          "base_uri": "https://localhost:8080/",
          "height": 450
        },
        "id": "1wn38Y1wfbP7",
        "outputId": "dac75ac5-839b-488e-c1ea-d6987bee5d24"
      },
      "source": [
        "valid"
      ],
      "execution_count": 96,
      "outputs": [
        {
          "output_type": "execute_result",
          "data": {
            "text/html": [
              "<div>\n",
              "<style scoped>\n",
              "    .dataframe tbody tr th:only-of-type {\n",
              "        vertical-align: middle;\n",
              "    }\n",
              "\n",
              "    .dataframe tbody tr th {\n",
              "        vertical-align: top;\n",
              "    }\n",
              "\n",
              "    .dataframe thead th {\n",
              "        text-align: right;\n",
              "    }\n",
              "</style>\n",
              "<table border=\"1\" class=\"dataframe\">\n",
              "  <thead>\n",
              "    <tr style=\"text-align: right;\">\n",
              "      <th></th>\n",
              "      <th>Close</th>\n",
              "      <th>Predictions</th>\n",
              "    </tr>\n",
              "    <tr>\n",
              "      <th>Date</th>\n",
              "      <th></th>\n",
              "      <th></th>\n",
              "    </tr>\n",
              "  </thead>\n",
              "  <tbody>\n",
              "    <tr>\n",
              "      <th>2018-10-26</th>\n",
              "      <td>106.959999</td>\n",
              "      <td>111.022110</td>\n",
              "    </tr>\n",
              "    <tr>\n",
              "      <th>2018-10-29</th>\n",
              "      <td>103.849998</td>\n",
              "      <td>110.708290</td>\n",
              "    </tr>\n",
              "    <tr>\n",
              "      <th>2018-10-30</th>\n",
              "      <td>103.730003</td>\n",
              "      <td>110.187897</td>\n",
              "    </tr>\n",
              "    <tr>\n",
              "      <th>2018-10-31</th>\n",
              "      <td>106.809998</td>\n",
              "      <td>109.594292</td>\n",
              "    </tr>\n",
              "    <tr>\n",
              "      <th>2018-11-01</th>\n",
              "      <td>105.919998</td>\n",
              "      <td>109.289116</td>\n",
              "    </tr>\n",
              "    <tr>\n",
              "      <th>...</th>\n",
              "      <td>...</td>\n",
              "      <td>...</td>\n",
              "    </tr>\n",
              "    <tr>\n",
              "      <th>2021-01-04</th>\n",
              "      <td>217.690002</td>\n",
              "      <td>211.030502</td>\n",
              "    </tr>\n",
              "    <tr>\n",
              "      <th>2021-01-05</th>\n",
              "      <td>217.899994</td>\n",
              "      <td>210.814865</td>\n",
              "    </tr>\n",
              "    <tr>\n",
              "      <th>2021-01-06</th>\n",
              "      <td>212.250000</td>\n",
              "      <td>210.429398</td>\n",
              "    </tr>\n",
              "    <tr>\n",
              "      <th>2021-01-07</th>\n",
              "      <td>218.289993</td>\n",
              "      <td>209.576797</td>\n",
              "    </tr>\n",
              "    <tr>\n",
              "      <th>2021-01-08</th>\n",
              "      <td>219.619995</td>\n",
              "      <td>209.021927</td>\n",
              "    </tr>\n",
              "  </tbody>\n",
              "</table>\n",
              "<p>554 rows × 2 columns</p>\n",
              "</div>"
            ],
            "text/plain": [
              "                 Close  Predictions\n",
              "Date                               \n",
              "2018-10-26  106.959999   111.022110\n",
              "2018-10-29  103.849998   110.708290\n",
              "2018-10-30  103.730003   110.187897\n",
              "2018-10-31  106.809998   109.594292\n",
              "2018-11-01  105.919998   109.289116\n",
              "...                ...          ...\n",
              "2021-01-04  217.690002   211.030502\n",
              "2021-01-05  217.899994   210.814865\n",
              "2021-01-06  212.250000   210.429398\n",
              "2021-01-07  218.289993   209.576797\n",
              "2021-01-08  219.619995   209.021927\n",
              "\n",
              "[554 rows x 2 columns]"
            ]
          },
          "metadata": {
            "tags": []
          },
          "execution_count": 96
        }
      ]
    },
    {
      "cell_type": "code",
      "metadata": {
        "id": "vt66G7Z6fs_L"
      },
      "source": [
        "#Get quote to predict different price, filter data\n",
        "SNP = pdr.DataReader('MSFT', data_source=\"yahoo\",start='2010-01-01', end='2020-12-31')\n",
        "new_data = SNP.filter(['Close'])\n",
        "past_two_months = new_data[-60:].values\n",
        "past_two_months_scaled = scaler.transform(past_two_months)\n"
      ],
      "execution_count": 97,
      "outputs": []
    },
    {
      "cell_type": "code",
      "metadata": {
        "id": "SeifGG3YgWrB"
      },
      "source": [
        "Xtest = []\n",
        "Xtest.append(past_two_months_scaled)\n",
        "#convert to numpy array\n",
        "Xtest = np.array(Xtest)\n",
        "#fit dimensions for LSTM \n",
        "Xtest = np.reshape(Xtest, (Xtest.shape[0], Xtest.shape[1],1))"
      ],
      "execution_count": 98,
      "outputs": []
    },
    {
      "cell_type": "code",
      "metadata": {
        "colab": {
          "base_uri": "https://localhost:8080/"
        },
        "id": "l-9XYL01g2zS",
        "outputId": "b085e676-11f7-400a-89d0-7a3524cb4af8"
      },
      "source": [
        "#run\n",
        "predicted = arch.predict(Xtest)\n",
        "predicted = scaler.inverse_transform(predicted)\n",
        "print(predicted)"
      ],
      "execution_count": 99,
      "outputs": [
        {
          "output_type": "stream",
          "text": [
            "WARNING:tensorflow:Model was constructed with shape (None, 30, 1) for input KerasTensor(type_spec=TensorSpec(shape=(None, 30, 1), dtype=tf.float32, name='lstm_8_input'), name='lstm_8_input', description=\"created by layer 'lstm_8_input'\"), but it was called on an input with incompatible shape (None, 60, 1).\n",
            "[[211.07092]]\n"
          ],
          "name": "stdout"
        }
      ]
    }
  ]
}