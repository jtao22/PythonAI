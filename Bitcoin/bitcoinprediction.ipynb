{
  "nbformat": 4,
  "nbformat_minor": 0,
  "metadata": {
    "colab": {
      "name": "bitcoinprediction.ipynb",
      "provenance": [],
      "authorship_tag": "ABX9TyNFwDu2Cr4pBwiSptPJVmRi",
      "include_colab_link": true
    },
    "kernelspec": {
      "name": "python3",
      "display_name": "Python 3"
    }
  },
  "cells": [
    {
      "cell_type": "markdown",
      "metadata": {
        "id": "view-in-github",
        "colab_type": "text"
      },
      "source": [
        "<a href=\"https://colab.research.google.com/github/jtao22/PythonAI/blob/main/Bitcoin/bitcoinprediction.ipynb\" target=\"_parent\"><img src=\"https://colab.research.google.com/assets/colab-badge.svg\" alt=\"Open In Colab\"/></a>"
      ]
    },
    {
      "cell_type": "code",
      "metadata": {
        "id": "f3T1rNFuM2Xb"
      },
      "source": [
        "#import \n",
        "import numpy as np\n",
        "import pandas as pd\n",
        "import matplotlib.pyplot as pyplot \n",
        "from sklearn.preprocessing import MinMaxScaler as mms\n",
        "from keras.layers import Dense, LSTM\n",
        "from keras.models import Sequential\n",
        "from sklearn.model_selection import train_test_split as tts\n",
        "pyplot.style.use('fivethirtyeight')\n",
        "from sklearn.ensemble import RandomForestRegressor as RFR\n",
        "from sklearn.metrics import r2_score as r2"
      ],
      "execution_count": 5,
      "outputs": []
    },
    {
      "cell_type": "code",
      "metadata": {
        "id": "LU5nusbgOITQ"
      },
      "source": [
        "#upload data\n",
        "from google.colab import files\n",
        "files.upload()"
      ],
      "execution_count": null,
      "outputs": []
    },
    {
      "cell_type": "code",
      "metadata": {
        "id": "Qhv9k2syUZ3t"
      },
      "source": [
        "data = pd.read_csv('bitcoin.csv')\n",
        "data = data.dropna(axis = 0);\n",
        "data.shape\n",
        "data.head(5)"
      ],
      "execution_count": null,
      "outputs": []
    },
    {
      "cell_type": "code",
      "metadata": {
        "id": "cXkL-SVqVF9G"
      },
      "source": [
        "#filter\n",
        "Y = data['Weighted_Price'].values\n",
        "data = data.drop(labels=['Close', 'Weighted_Price'], axis = 1)\n",
        "scaler = mms(feature_range=(0,1))\n",
        "data = scaler.fit_transform(data)\n",
        "type(data)"
      ],
      "execution_count": null,
      "outputs": []
    },
    {
      "cell_type": "code",
      "metadata": {
        "id": "dKuj95geXQDX"
      },
      "source": [
        "#split\n",
        "trainX,testX,trainY,testY = tts(data, Y, test_size = 0.2, random_state = 42)\n",
        "trainX.shape"
      ],
      "execution_count": null,
      "outputs": []
    },
    {
      "cell_type": "code",
      "metadata": {
        "id": "xuDbpP9iXEOP"
      },
      "source": [
        "#create architecture\n",
        "arch = RFR()\n",
        "arch.fit(trainX, trainY)"
      ],
      "execution_count": null,
      "outputs": []
    },
    {
      "cell_type": "code",
      "metadata": {
        "id": "IlNbDx7B7AKB"
      },
      "source": [
        "predictions = arch.predict(testX)\n",
        "r2(testY,predictions)*100"
      ],
      "execution_count": null,
      "outputs": []
    }
  ]
}