{
  "nbformat": 4,
  "nbformat_minor": 0,
  "metadata": {
    "colab": {
      "name": "pimadiabetes.ipynb",
      "provenance": [],
      "authorship_tag": "ABX9TyMADejuIYaPXY4mHqUEvHtO",
      "include_colab_link": true
    },
    "kernelspec": {
      "name": "python3",
      "display_name": "Python 3"
    }
  },
  "cells": [
    {
      "cell_type": "markdown",
      "metadata": {
        "id": "view-in-github",
        "colab_type": "text"
      },
      "source": [
        "<a href=\"https://colab.research.google.com/github/jtao22/PythonAI/blob/main/Diabetes/pimadiabetes.ipynb\" target=\"_parent\"><img src=\"https://colab.research.google.com/assets/colab-badge.svg\" alt=\"Open In Colab\"/></a>"
      ]
    },
    {
      "cell_type": "code",
      "metadata": {
        "id": "q9E1suHsihOO"
      },
      "source": [
        "#Import\n",
        "import tensorflow as tf\n",
        "from tensorflow import keras\n",
        "from keras.models import Sequential as seq\n",
        "from keras.layers import Dense, Flatten, Conv2D, Dropout\n",
        "from keras.layers import MaxPooling2D as mp2d \n",
        "from tensorflow.keras import layers\n",
        "from keras.utils import to_categorical\n",
        "from sklearn.model_selection import train_test_split as tts\n",
        "import numpy as np\n",
        "import pandas as pd\n",
        "from sklearn.preprocessing import LabelEncoder as LE\n",
        "from sklearn.preprocessing import MinMaxScaler as MMS\n",
        "from sklearn.metrics import accuracy_score as acc\n",
        "from sklearn.linear_model import LogisticRegression as LR\n",
        "from sklearn.tree import DecisionTreeClassifier as DTC\n",
        "from sklearn.ensemble import RandomForestClassifier as RFC\n",
        "from sklearn.neighbors import KNeighborsClassifier as KNC\n",
        "from sklearn.svm import SVC"
      ],
      "execution_count": 36,
      "outputs": []
    },
    {
      "cell_type": "code",
      "metadata": {
        "id": "q6zgj-7_llvE"
      },
      "source": [
        "from google.colab import files \n",
        "files.upload()"
      ],
      "execution_count": null,
      "outputs": []
    },
    {
      "cell_type": "code",
      "metadata": {
        "colab": {
          "base_uri": "https://localhost:8080/"
        },
        "id": "5rwcFcvWme5i",
        "outputId": "bcde2ca0-5c62-403b-85bb-e6e5db48fe8c"
      },
      "source": [
        "data = pd.read_csv('diabetes.csv')\n",
        "data.head(5)\n",
        "data.dtypes"
      ],
      "execution_count": 47,
      "outputs": [
        {
          "output_type": "execute_result",
          "data": {
            "text/plain": [
              "Pregnancies                   int64\n",
              "Glucose                       int64\n",
              "BloodPressure                 int64\n",
              "SkinThickness                 int64\n",
              "Insulin                       int64\n",
              "BMI                         float64\n",
              "DiabetesPedigreeFunction    float64\n",
              "Age                           int64\n",
              "Outcome                       int64\n",
              "dtype: object"
            ]
          },
          "metadata": {
            "tags": []
          },
          "execution_count": 47
        }
      ]
    },
    {
      "cell_type": "code",
      "metadata": {
        "id": "cvE-_9KRoMXC"
      },
      "source": [
        "Y = data['Outcome']\n",
        "data = data.drop(columns=['Outcome'])"
      ],
      "execution_count": 48,
      "outputs": []
    },
    {
      "cell_type": "code",
      "metadata": {
        "id": "d2IZWG4yoSMI"
      },
      "source": [
        "#clean data\n",
        "for col in data:\n",
        "    maxim = np.max(data[col])\n",
        "    minim = np.min(data[col])\n",
        "    data[col] = (data[col]-minim)/(maxim-minim)"
      ],
      "execution_count": 49,
      "outputs": []
    },
    {
      "cell_type": "code",
      "metadata": {
        "id": "B39Ls0XcrCCy"
      },
      "source": [
        "#split\n",
        "trainX,testX,trainY,testY = tts(data, Y.values, test_size = 0.15, random_state = 42)"
      ],
      "execution_count": 50,
      "outputs": []
    },
    {
      "cell_type": "code",
      "metadata": {
        "id": "A-_Ngmp8ov8T"
      },
      "source": [
        "#model\n",
        "def model(trainX, trainY):\n",
        "  #Logistic Regression\n",
        "  lr = LR(random_state = 42)\n",
        "  lr.fit(trainX, trainY)\n",
        "  #Decision Tree\n",
        "  dtc = DTC(criterion='entropy', random_state = 42)\n",
        "  dtc.fit(trainX, trainY)\n",
        "  #Random Forest Classifier\n",
        "  rfc = RFC(n_estimators = 10, criterion = 'entropy', random_state = 42)\n",
        "  rfc.fit(trainX, trainY)\n",
        "  #K Neighbors Classifier\n",
        "  knc=KNC(n_neighbors=8)\n",
        "  knc.fit(trainX,trainY)\n",
        "  #Support Vector Machine\n",
        "  svc = SVC()\n",
        "  svc.fit(trainX,trainY)\n",
        "  #print\n",
        "  print('Logistic Regression Training Accuracy: ', lr.score(trainX,trainY) * 100, '%')\n",
        "  print('Decision Tree Classifier Accuracy: ', dtc.score(trainX,trainY)*100, '%')\n",
        "  print('Random Forest Classifier Accuracy: ', rfc.score(trainX,trainY)*100, '%') \n",
        "  print('K-Neighbors Classifier Accuracy: ', knc.score(trainX,trainY)*100, '%')\n",
        "  print('Support Vector Classifier Accuracy: ', svc.score(trainX,trainY)*100, '%') \n",
        "  #return\n",
        "  return lr, dtc, rfc, knc, svc"
      ],
      "execution_count": 51,
      "outputs": []
    },
    {
      "cell_type": "code",
      "metadata": {
        "colab": {
          "base_uri": "https://localhost:8080/"
        },
        "id": "rGWdpmdNr38R",
        "outputId": "f1461b0f-ad87-426d-ffd3-84d5bfd47271"
      },
      "source": [
        "models = model(trainX,trainY)"
      ],
      "execution_count": 52,
      "outputs": [
        {
          "output_type": "stream",
          "text": [
            "Logistic Regression Training Accuracy:  76.22699386503068 %\n",
            "Decision Tree Classifier Accuracy:  100.0 %\n",
            "Random Forest Classifier Accuracy:  98.46625766871165 %\n",
            "K-Neighbors Classifier Accuracy:  78.52760736196319 %\n",
            "Support Vector Classifier Accuracy:  80.06134969325154 %\n"
          ],
          "name": "stdout"
        }
      ]
    },
    {
      "cell_type": "code",
      "metadata": {
        "id": "oLi_uQlCpjpV"
      },
      "source": [
        "#create dense neural network\n",
        "arch = seq()\n",
        "arch.add(Dense(units = 9, input_shape= (8,), activation = 'relu')) #input layer\n",
        "arch.add(Dense(units = 16, activation = 'relu')) #first dense layer\n",
        "arch.add(Dense(units = 2, activation = 'softmax')) #output layer\n",
        "arch.compile(optimizer= 'adam', loss = 'sparse_categorical_crossentropy', metrics = ['accuracy'])"
      ],
      "execution_count": 53,
      "outputs": []
    },
    {
      "cell_type": "code",
      "metadata": {
        "colab": {
          "base_uri": "https://localhost:8080/"
        },
        "id": "SHZqKfxhq39x",
        "outputId": "c99ea0ea-d2c5-4b5d-db20-ff37ae377fed"
      },
      "source": [
        "arch.fit(trainX, trainY, batch_size= 8, epochs = 10, validation_split= 0.15, shuffle = True,verbose = 2)\n"
      ],
      "execution_count": 54,
      "outputs": [
        {
          "output_type": "stream",
          "text": [
            "Epoch 1/10\n",
            "70/70 - 1s - loss: 0.6833 - accuracy: 0.6390 - val_loss: 0.6762 - val_accuracy: 0.6327\n",
            "Epoch 2/10\n",
            "70/70 - 0s - loss: 0.6642 - accuracy: 0.6534 - val_loss: 0.6601 - val_accuracy: 0.6327\n",
            "Epoch 3/10\n",
            "70/70 - 0s - loss: 0.6492 - accuracy: 0.6534 - val_loss: 0.6517 - val_accuracy: 0.6327\n",
            "Epoch 4/10\n",
            "70/70 - 0s - loss: 0.6406 - accuracy: 0.6534 - val_loss: 0.6442 - val_accuracy: 0.6327\n",
            "Epoch 5/10\n",
            "70/70 - 0s - loss: 0.6330 - accuracy: 0.6534 - val_loss: 0.6358 - val_accuracy: 0.6327\n",
            "Epoch 6/10\n",
            "70/70 - 0s - loss: 0.6241 - accuracy: 0.6534 - val_loss: 0.6265 - val_accuracy: 0.6327\n",
            "Epoch 7/10\n",
            "70/70 - 0s - loss: 0.6142 - accuracy: 0.6534 - val_loss: 0.6151 - val_accuracy: 0.6327\n",
            "Epoch 8/10\n",
            "70/70 - 0s - loss: 0.6031 - accuracy: 0.6534 - val_loss: 0.6041 - val_accuracy: 0.6327\n",
            "Epoch 9/10\n",
            "70/70 - 0s - loss: 0.5911 - accuracy: 0.6534 - val_loss: 0.5917 - val_accuracy: 0.6327\n",
            "Epoch 10/10\n",
            "70/70 - 0s - loss: 0.5800 - accuracy: 0.6552 - val_loss: 0.5799 - val_accuracy: 0.6327\n"
          ],
          "name": "stdout"
        },
        {
          "output_type": "execute_result",
          "data": {
            "text/plain": [
              "<tensorflow.python.keras.callbacks.History at 0x7f1dfec5fb10>"
            ]
          },
          "metadata": {
            "tags": []
          },
          "execution_count": 54
        }
      ]
    },
    {
      "cell_type": "code",
      "metadata": {
        "colab": {
          "base_uri": "https://localhost:8080/"
        },
        "id": "GF8mdCPQrv7l",
        "outputId": "d6ab220a-ba32-42df-800c-23b182dbf99d"
      },
      "source": [
        "#predict \n",
        "predictions = arch.predict(testX, batch_size= 2, verbose=0)\n",
        "rounded = np.argmax(predictions, axis = 1)\n",
        "count = 0\n",
        "total = len(rounded)\n",
        "for i in range(len(rounded)):\n",
        "  if (rounded[i] == testY[i]):\n",
        "    count = count+1\n",
        "\n",
        "print('Dense Neural Network Accuracy: ', count/total*100, '%')\n",
        "print()\n",
        "names = ['Logistic Regression', 'Decision Tree Classifier', 'Random Forest Classifier', 'K-Neighbors Classifier', 'Support Vector Classifier']\n",
        "for i in range(len(models)):\n",
        "  accuracy = acc(testY, models[i].predict(testX))\n",
        "  print(names[i], 'Accuracy: ', accuracy * 100, '%')\n",
        "  print()"
      ],
      "execution_count": 58,
      "outputs": [
        {
          "output_type": "stream",
          "text": [
            "Dense Neural Network Accuracy:  65.51724137931035 %\n",
            "\n",
            "Logistic Regression Accuracy:  76.72413793103449 %\n",
            "\n",
            "Decision Tree Classifier Accuracy:  77.58620689655173 %\n",
            "\n",
            "Random Forest Classifier Accuracy:  73.27586206896551 %\n",
            "\n",
            "K-Neighbors Classifier Accuracy:  69.82758620689656 %\n",
            "\n",
            "Support Vector Classifier Accuracy:  75.0 %\n",
            "\n"
          ],
          "name": "stdout"
        }
      ]
    }
  ]
}