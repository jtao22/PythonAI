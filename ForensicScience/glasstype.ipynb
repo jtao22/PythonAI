{
  "nbformat": 4,
  "nbformat_minor": 0,
  "metadata": {
    "colab": {
      "name": "glasstype.ipynb",
      "provenance": [],
      "authorship_tag": "ABX9TyNJWsEv0n9p0qfLgUn8a0uo",
      "include_colab_link": true
    },
    "kernelspec": {
      "name": "python3",
      "display_name": "Python 3"
    },
    "language_info": {
      "name": "python"
    }
  },
  "cells": [
    {
      "cell_type": "markdown",
      "metadata": {
        "id": "view-in-github",
        "colab_type": "text"
      },
      "source": [
        "<a href=\"https://colab.research.google.com/github/jtao22/PythonAI/blob/main/ForensicScience/glasstype.ipynb\" target=\"_parent\"><img src=\"https://colab.research.google.com/assets/colab-badge.svg\" alt=\"Open In Colab\"/></a>"
      ]
    },
    {
      "cell_type": "code",
      "metadata": {
        "id": "2pDkllp5L85x"
      },
      "source": [
        "#import \n",
        "import pandas as pd \n",
        "import numpy as np\n",
        "from sklearn.preprocessing import StandardScaler as SS\n",
        "from sklearn.model_selection import train_test_split as tts\n",
        "from sklearn.metrics import accuracy_score as acc\n",
        "from sklearn.metrics import confusion_matrix as cm\n",
        "from sklearn.linear_model import LogisticRegression as LR\n",
        "from sklearn.tree import DecisionTreeClassifier as DTC\n",
        "from sklearn.ensemble import RandomForestClassifier as RFC\n",
        "from sklearn.neighbors import KNeighborsClassifier as KNC\n",
        "from sklearn.svm import SVC\n",
        "from google.colab import files "
      ],
      "execution_count": 14,
      "outputs": []
    },
    {
      "cell_type": "code",
      "metadata": {
        "id": "2fzFogmsNRQl"
      },
      "source": [
        "files.upload()"
      ],
      "execution_count": null,
      "outputs": []
    },
    {
      "cell_type": "code",
      "metadata": {
        "colab": {
          "base_uri": "https://localhost:8080/"
        },
        "id": "SnUYtNRjNRTP",
        "outputId": "3d133670-b3e2-4492-d00e-8f24730124df"
      },
      "source": [
        "data = pd.read_csv('glass.csv')\n",
        "data.shape"
      ],
      "execution_count": 31,
      "outputs": [
        {
          "output_type": "execute_result",
          "data": {
            "text/plain": [
              "(214, 10)"
            ]
          },
          "metadata": {
            "tags": []
          },
          "execution_count": 31
        }
      ]
    },
    {
      "cell_type": "code",
      "metadata": {
        "colab": {
          "base_uri": "https://localhost:8080/",
          "height": 204
        },
        "id": "WGyRie-NNRVR",
        "outputId": "7d3803b2-f0c2-4ded-bd55-5dce445f03b4"
      },
      "source": [
        "data.head(5)"
      ],
      "execution_count": 32,
      "outputs": [
        {
          "output_type": "execute_result",
          "data": {
            "text/html": [
              "<div>\n",
              "<style scoped>\n",
              "    .dataframe tbody tr th:only-of-type {\n",
              "        vertical-align: middle;\n",
              "    }\n",
              "\n",
              "    .dataframe tbody tr th {\n",
              "        vertical-align: top;\n",
              "    }\n",
              "\n",
              "    .dataframe thead th {\n",
              "        text-align: right;\n",
              "    }\n",
              "</style>\n",
              "<table border=\"1\" class=\"dataframe\">\n",
              "  <thead>\n",
              "    <tr style=\"text-align: right;\">\n",
              "      <th></th>\n",
              "      <th>RI</th>\n",
              "      <th>Na</th>\n",
              "      <th>Mg</th>\n",
              "      <th>Al</th>\n",
              "      <th>Si</th>\n",
              "      <th>K</th>\n",
              "      <th>Ca</th>\n",
              "      <th>Ba</th>\n",
              "      <th>Fe</th>\n",
              "      <th>Type</th>\n",
              "    </tr>\n",
              "  </thead>\n",
              "  <tbody>\n",
              "    <tr>\n",
              "      <th>0</th>\n",
              "      <td>1.52101</td>\n",
              "      <td>13.64</td>\n",
              "      <td>4.49</td>\n",
              "      <td>1.10</td>\n",
              "      <td>71.78</td>\n",
              "      <td>0.06</td>\n",
              "      <td>8.75</td>\n",
              "      <td>0.0</td>\n",
              "      <td>0.0</td>\n",
              "      <td>1</td>\n",
              "    </tr>\n",
              "    <tr>\n",
              "      <th>1</th>\n",
              "      <td>1.51761</td>\n",
              "      <td>13.89</td>\n",
              "      <td>3.60</td>\n",
              "      <td>1.36</td>\n",
              "      <td>72.73</td>\n",
              "      <td>0.48</td>\n",
              "      <td>7.83</td>\n",
              "      <td>0.0</td>\n",
              "      <td>0.0</td>\n",
              "      <td>1</td>\n",
              "    </tr>\n",
              "    <tr>\n",
              "      <th>2</th>\n",
              "      <td>1.51618</td>\n",
              "      <td>13.53</td>\n",
              "      <td>3.55</td>\n",
              "      <td>1.54</td>\n",
              "      <td>72.99</td>\n",
              "      <td>0.39</td>\n",
              "      <td>7.78</td>\n",
              "      <td>0.0</td>\n",
              "      <td>0.0</td>\n",
              "      <td>1</td>\n",
              "    </tr>\n",
              "    <tr>\n",
              "      <th>3</th>\n",
              "      <td>1.51766</td>\n",
              "      <td>13.21</td>\n",
              "      <td>3.69</td>\n",
              "      <td>1.29</td>\n",
              "      <td>72.61</td>\n",
              "      <td>0.57</td>\n",
              "      <td>8.22</td>\n",
              "      <td>0.0</td>\n",
              "      <td>0.0</td>\n",
              "      <td>1</td>\n",
              "    </tr>\n",
              "    <tr>\n",
              "      <th>4</th>\n",
              "      <td>1.51742</td>\n",
              "      <td>13.27</td>\n",
              "      <td>3.62</td>\n",
              "      <td>1.24</td>\n",
              "      <td>73.08</td>\n",
              "      <td>0.55</td>\n",
              "      <td>8.07</td>\n",
              "      <td>0.0</td>\n",
              "      <td>0.0</td>\n",
              "      <td>1</td>\n",
              "    </tr>\n",
              "  </tbody>\n",
              "</table>\n",
              "</div>"
            ],
            "text/plain": [
              "        RI     Na    Mg    Al     Si     K    Ca   Ba   Fe  Type\n",
              "0  1.52101  13.64  4.49  1.10  71.78  0.06  8.75  0.0  0.0     1\n",
              "1  1.51761  13.89  3.60  1.36  72.73  0.48  7.83  0.0  0.0     1\n",
              "2  1.51618  13.53  3.55  1.54  72.99  0.39  7.78  0.0  0.0     1\n",
              "3  1.51766  13.21  3.69  1.29  72.61  0.57  8.22  0.0  0.0     1\n",
              "4  1.51742  13.27  3.62  1.24  73.08  0.55  8.07  0.0  0.0     1"
            ]
          },
          "metadata": {
            "tags": []
          },
          "execution_count": 32
        }
      ]
    },
    {
      "cell_type": "code",
      "metadata": {
        "id": "KmGUL_f0NRaJ"
      },
      "source": [
        "labels = ['building_windows_float_processed', 'building_windows_nonfloat_processed', 'vehicle_windows_float_processed', 'vehicle_windows_nonfloat_processed', 'containers', 'tableware', 'headlamps']"
      ],
      "execution_count": 33,
      "outputs": []
    },
    {
      "cell_type": "code",
      "metadata": {
        "colab": {
          "base_uri": "https://localhost:8080/"
        },
        "id": "y08UixPCNRel",
        "outputId": "a75e4a13-ea80-45f7-d7ed-f83e751227e1"
      },
      "source": [
        "data['Type'] = data['Type']-1\n",
        "data['Type'].value_counts()\n"
      ],
      "execution_count": 34,
      "outputs": [
        {
          "output_type": "execute_result",
          "data": {
            "text/plain": [
              "1    76\n",
              "0    70\n",
              "6    29\n",
              "2    17\n",
              "4    13\n",
              "5     9\n",
              "Name: Type, dtype: int64"
            ]
          },
          "metadata": {
            "tags": []
          },
          "execution_count": 34
        }
      ]
    },
    {
      "cell_type": "code",
      "metadata": {
        "id": "nV91mzTCOHJs"
      },
      "source": [
        "Y = data['Type']\n",
        "data = data.drop(columns=['Type'], axis=1)\n",
        "ss = SS()\n",
        "data = ss.fit_transform(data)"
      ],
      "execution_count": 35,
      "outputs": []
    },
    {
      "cell_type": "code",
      "metadata": {
        "id": "H5iA3UL0Ojmv"
      },
      "source": [
        "trainX,testX,trainY,testY = tts(data,Y,test_size=0.1,random_state=10)"
      ],
      "execution_count": 36,
      "outputs": []
    },
    {
      "cell_type": "code",
      "metadata": {
        "colab": {
          "base_uri": "https://localhost:8080/"
        },
        "id": "Bh4_mA_jOysV",
        "outputId": "f8622419-88e6-43f2-d323-8d14088f3021"
      },
      "source": [
        "#create architectures\n",
        "def arch(trainX, trainY):\n",
        "  lr = LR(random_state = 42)\n",
        "  lr.fit(trainX, trainY)\n",
        "\n",
        "  dtc = DTC(criterion='entropy', random_state = 42)\n",
        "  dtc.fit(trainX, trainY)\n",
        "\n",
        "  rfc = RFC(n_estimators = 10, criterion = 'entropy', random_state = 42)\n",
        "  rfc.fit(trainX, trainY)\n",
        "\n",
        "  knc=KNC(n_neighbors=8)\n",
        "  knc.fit(trainX,trainY)\n",
        "\n",
        "  svc = SVC()\n",
        "  svc.fit(trainX,trainY)\n",
        "\n",
        "  print('Logistic Regression Training Accuracy: ', lr.score(trainX,trainY) * 100, '%')\n",
        "  print('Decision Tree Classifier Accuracy: ', dtc.score(trainX,trainY)*100, '%')\n",
        "  print('Random Forest Classifier Accuracy: ', rfc.score(trainX,trainY)*100, '%') \n",
        "  print('K-Neighbors Classifier Accuracy: ', knc.score(trainX,trainY)*100, '%')\n",
        "  print('Support Vector Classifier Accuracy: ', svc.score(trainX,trainY)*100, '%') \n",
        "\n",
        "  return lr, dtc, rfc, knc, svc\n",
        "build = arch(trainX,trainY)"
      ],
      "execution_count": 37,
      "outputs": [
        {
          "output_type": "stream",
          "text": [
            "Logistic Regression Training Accuracy:  71.875 %\n",
            "Decision Tree Classifier Accuracy:  100.0 %\n",
            "Random Forest Classifier Accuracy:  98.95833333333334 %\n",
            "K-Neighbors Classifier Accuracy:  75.0 %\n",
            "Support Vector Classifier Accuracy:  80.72916666666666 %\n"
          ],
          "name": "stdout"
        }
      ]
    },
    {
      "cell_type": "code",
      "metadata": {
        "colab": {
          "base_uri": "https://localhost:8080/"
        },
        "id": "JvlQ9yLoPDgz",
        "outputId": "dd54f1b1-be23-4c2e-b277-1d916563383d"
      },
      "source": [
        "names = ['Logistic Regression', 'Decision Tree Classifier', 'Random Forest Classifier', 'K-Neighbors Classifier', 'Support Vector Classifier']\n",
        "for i in range(len(build)):\n",
        "  accuracy = acc( build[i].predict(testX), testY)\n",
        "  print(names[i], ':')\n",
        "  conf = cm( build[i].predict(testX), testY)\n",
        "  print(conf)\n",
        "  print('Accuracy: ', accuracy * 100, '%')\n",
        "  print()"
      ],
      "execution_count": 38,
      "outputs": [
        {
          "output_type": "stream",
          "text": [
            "Logistic Regression :\n",
            "[[5 2 1 0 0 0]\n",
            " [2 4 3 1 0 0]\n",
            " [1 0 0 0 0 0]\n",
            " [0 1 0 0 0 0]\n",
            " [0 0 0 0 1 0]\n",
            " [0 0 0 0 0 1]]\n",
            "Accuracy:  50.0 %\n",
            "\n",
            "Decision Tree Classifier :\n",
            "[[4 0 1 0 0 0]\n",
            " [2 4 1 1 0 0]\n",
            " [2 0 2 0 0 0]\n",
            " [0 2 0 0 0 0]\n",
            " [0 0 0 0 1 0]\n",
            " [0 1 0 0 0 1]]\n",
            "Accuracy:  54.54545454545454 %\n",
            "\n",
            "Random Forest Classifier :\n",
            "[[6 1 1 0 0 0]\n",
            " [1 4 2 0 0 0]\n",
            " [1 0 1 0 0 0]\n",
            " [0 2 0 1 0 0]\n",
            " [0 0 0 0 1 0]\n",
            " [0 0 0 0 0 1]]\n",
            "Accuracy:  63.63636363636363 %\n",
            "\n",
            "K-Neighbors Classifier :\n",
            "[[6 1 3 0 0 0]\n",
            " [1 4 1 1 1 0]\n",
            " [1 0 0 0 0 0]\n",
            " [0 2 0 0 0 0]\n",
            " [0 0 0 0 0 0]\n",
            " [0 0 0 0 0 1]]\n",
            "Accuracy:  50.0 %\n",
            "\n",
            "Support Vector Classifier :\n",
            "[[5 1 3 0 0 0]\n",
            " [3 6 1 1 1 0]\n",
            " [0 0 0 0 0 0]\n",
            " [0 0 0 0 0 0]\n",
            " [0 0 0 0 0 0]\n",
            " [0 0 0 0 0 1]]\n",
            "Accuracy:  54.54545454545454 %\n",
            "\n"
          ],
          "name": "stdout"
        }
      ]
    },
    {
      "cell_type": "code",
      "metadata": {
        "id": "mYMUA_I0PsNm"
      },
      "source": [
        "from keras.models import Sequential as seq\n",
        "from keras.layers import Dense, Flatten, Dropout\n",
        "from tensorflow.keras import layers"
      ],
      "execution_count": 39,
      "outputs": []
    },
    {
      "cell_type": "code",
      "metadata": {
        "colab": {
          "base_uri": "https://localhost:8080/"
        },
        "id": "MzCqJQnTP1-w",
        "outputId": "e5a5942e-1512-4ad9-d602-f4a290620e46"
      },
      "source": [
        "trainX.shape"
      ],
      "execution_count": 40,
      "outputs": [
        {
          "output_type": "execute_result",
          "data": {
            "text/plain": [
              "(192, 9)"
            ]
          },
          "metadata": {
            "tags": []
          },
          "execution_count": 40
        }
      ]
    },
    {
      "cell_type": "code",
      "metadata": {
        "id": "SUhKpMc-Pw08"
      },
      "source": [
        "arch = seq()\n",
        "arch.add(Dense(units = 10, input_shape= (9,), activation = 'relu')) #input layer\n",
        "arch.add(Dense(units = 12, activation = 'relu')) #first dense layer\n",
        "arch.add(Dense(units = 16, activation = 'relu')) #second dense layer\n",
        "arch.add(Dense(units = 7, activation = 'softmax')) #output layer\n",
        "arch.compile(optimizer= 'adam', loss = 'sparse_categorical_crossentropy', metrics = ['accuracy'])\n"
      ],
      "execution_count": 45,
      "outputs": []
    },
    {
      "cell_type": "code",
      "metadata": {
        "colab": {
          "base_uri": "https://localhost:8080/"
        },
        "id": "917Ke3z_QQpV",
        "outputId": "7539ca4b-2caf-4861-9871-34fc98344d7d"
      },
      "source": [
        "arch.fit(trainX, trainY, batch_size= 2, epochs = 30, validation_split= 0.1, shuffle = True,verbose = 2)"
      ],
      "execution_count": 46,
      "outputs": [
        {
          "output_type": "stream",
          "text": [
            "Epoch 1/30\n",
            "86/86 - 1s - loss: 1.8210 - accuracy: 0.3488 - val_loss: 1.7345 - val_accuracy: 0.4000\n",
            "Epoch 2/30\n",
            "86/86 - 0s - loss: 1.6439 - accuracy: 0.3547 - val_loss: 1.5514 - val_accuracy: 0.4500\n",
            "Epoch 3/30\n",
            "86/86 - 0s - loss: 1.4868 - accuracy: 0.5058 - val_loss: 1.3849 - val_accuracy: 0.5500\n",
            "Epoch 4/30\n",
            "86/86 - 0s - loss: 1.3353 - accuracy: 0.5698 - val_loss: 1.2410 - val_accuracy: 0.5000\n",
            "Epoch 5/30\n",
            "86/86 - 0s - loss: 1.2086 - accuracy: 0.5465 - val_loss: 1.1418 - val_accuracy: 0.5000\n",
            "Epoch 6/30\n",
            "86/86 - 0s - loss: 1.1200 - accuracy: 0.5814 - val_loss: 1.0685 - val_accuracy: 0.5000\n",
            "Epoch 7/30\n",
            "86/86 - 0s - loss: 1.0583 - accuracy: 0.6047 - val_loss: 1.0251 - val_accuracy: 0.5000\n",
            "Epoch 8/30\n",
            "86/86 - 0s - loss: 1.0167 - accuracy: 0.5872 - val_loss: 0.9849 - val_accuracy: 0.5000\n",
            "Epoch 9/30\n",
            "86/86 - 0s - loss: 0.9733 - accuracy: 0.5872 - val_loss: 0.9395 - val_accuracy: 0.6000\n",
            "Epoch 10/30\n",
            "86/86 - 0s - loss: 0.9399 - accuracy: 0.6163 - val_loss: 0.9068 - val_accuracy: 0.5500\n",
            "Epoch 11/30\n",
            "86/86 - 0s - loss: 0.9050 - accuracy: 0.6163 - val_loss: 0.8708 - val_accuracy: 0.6500\n",
            "Epoch 12/30\n",
            "86/86 - 0s - loss: 0.8770 - accuracy: 0.6570 - val_loss: 0.8398 - val_accuracy: 0.6500\n",
            "Epoch 13/30\n",
            "86/86 - 0s - loss: 0.8428 - accuracy: 0.6570 - val_loss: 0.8129 - val_accuracy: 0.7000\n",
            "Epoch 14/30\n",
            "86/86 - 0s - loss: 0.8136 - accuracy: 0.6977 - val_loss: 0.7771 - val_accuracy: 0.7500\n",
            "Epoch 15/30\n",
            "86/86 - 0s - loss: 0.7808 - accuracy: 0.6860 - val_loss: 0.7509 - val_accuracy: 0.7500\n",
            "Epoch 16/30\n",
            "86/86 - 0s - loss: 0.7546 - accuracy: 0.7035 - val_loss: 0.7237 - val_accuracy: 0.7500\n",
            "Epoch 17/30\n",
            "86/86 - 0s - loss: 0.7340 - accuracy: 0.7384 - val_loss: 0.6976 - val_accuracy: 0.7500\n",
            "Epoch 18/30\n",
            "86/86 - 0s - loss: 0.7119 - accuracy: 0.7151 - val_loss: 0.6829 - val_accuracy: 0.7500\n",
            "Epoch 19/30\n",
            "86/86 - 0s - loss: 0.6943 - accuracy: 0.7035 - val_loss: 0.6612 - val_accuracy: 0.7500\n",
            "Epoch 20/30\n",
            "86/86 - 0s - loss: 0.6790 - accuracy: 0.7151 - val_loss: 0.6607 - val_accuracy: 0.7000\n",
            "Epoch 21/30\n",
            "86/86 - 0s - loss: 0.6594 - accuracy: 0.7674 - val_loss: 0.6428 - val_accuracy: 0.7500\n",
            "Epoch 22/30\n",
            "86/86 - 0s - loss: 0.6404 - accuracy: 0.7384 - val_loss: 0.6428 - val_accuracy: 0.7500\n",
            "Epoch 23/30\n",
            "86/86 - 0s - loss: 0.6195 - accuracy: 0.7849 - val_loss: 0.6319 - val_accuracy: 0.7500\n",
            "Epoch 24/30\n",
            "86/86 - 0s - loss: 0.6109 - accuracy: 0.7849 - val_loss: 0.6224 - val_accuracy: 0.7500\n",
            "Epoch 25/30\n",
            "86/86 - 0s - loss: 0.5982 - accuracy: 0.7965 - val_loss: 0.6149 - val_accuracy: 0.7000\n",
            "Epoch 26/30\n",
            "86/86 - 0s - loss: 0.5799 - accuracy: 0.7907 - val_loss: 0.6150 - val_accuracy: 0.7500\n",
            "Epoch 27/30\n",
            "86/86 - 0s - loss: 0.5793 - accuracy: 0.8023 - val_loss: 0.6225 - val_accuracy: 0.7500\n",
            "Epoch 28/30\n",
            "86/86 - 0s - loss: 0.5710 - accuracy: 0.7965 - val_loss: 0.5969 - val_accuracy: 0.7500\n",
            "Epoch 29/30\n",
            "86/86 - 0s - loss: 0.5506 - accuracy: 0.8081 - val_loss: 0.5708 - val_accuracy: 0.7500\n",
            "Epoch 30/30\n",
            "86/86 - 0s - loss: 0.5372 - accuracy: 0.8081 - val_loss: 0.5726 - val_accuracy: 0.7500\n"
          ],
          "name": "stdout"
        },
        {
          "output_type": "execute_result",
          "data": {
            "text/plain": [
              "<tensorflow.python.keras.callbacks.History at 0x7fc815e908d0>"
            ]
          },
          "metadata": {
            "tags": []
          },
          "execution_count": 46
        }
      ]
    },
    {
      "cell_type": "code",
      "metadata": {
        "colab": {
          "base_uri": "https://localhost:8080/"
        },
        "id": "tf_CM6p9QpGQ",
        "outputId": "715bf56f-aaf0-41c9-8f7d-788a5d31be8e"
      },
      "source": [
        "predictions = arch.predict(testX)\n",
        "answers = predictions.argmax(axis=1)\n",
        "print(cm(answers,testY))\n",
        "print(\"accuracy: \", acc(answers,testY)*100,'%')"
      ],
      "execution_count": 51,
      "outputs": [
        {
          "output_type": "stream",
          "text": [
            "[[6 1 2 0 0 0]\n",
            " [2 5 2 0 0 0]\n",
            " [0 0 0 0 0 0]\n",
            " [0 1 0 1 0 0]\n",
            " [0 0 0 0 0 0]\n",
            " [0 0 0 0 1 1]]\n",
            "accuracy:  59.09090909090909 %\n"
          ],
          "name": "stdout"
        }
      ]
    }
  ]
}