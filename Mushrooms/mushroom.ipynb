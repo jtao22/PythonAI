{
  "nbformat": 4,
  "nbformat_minor": 0,
  "metadata": {
    "colab": {
      "name": "mushroom.ipynb",
      "provenance": [],
      "authorship_tag": "ABX9TyNnFNYRkXl4OPHNHrUzd6uG",
      "include_colab_link": true
    },
    "kernelspec": {
      "name": "python3",
      "display_name": "Python 3"
    }
  },
  "cells": [
    {
      "cell_type": "markdown",
      "metadata": {
        "id": "view-in-github",
        "colab_type": "text"
      },
      "source": [
        "<a href=\"https://colab.research.google.com/github/jtao22/PythonAI/blob/main/Mushrooms/mushroom.ipynb\" target=\"_parent\"><img src=\"https://colab.research.google.com/assets/colab-badge.svg\" alt=\"Open In Colab\"/></a>"
      ]
    },
    {
      "cell_type": "code",
      "metadata": {
        "id": "tDw0VzgTEBYl"
      },
      "source": [
        "#import \n",
        "import numpy as np\n",
        "import pandas as pd \n",
        "from sklearn.model_selection import train_test_split as tts\n",
        "from sklearn.preprocessing import LabelEncoder as LE\n",
        "from sklearn.preprocessing import MinMaxScaler as MMS\n",
        "from sklearn.metrics import accuracy_score as acc\n",
        "from sklearn.ensemble import RandomForestClassifier as RFC\n",
        "from xgboost import XGBClassifier as XGBC\n",
        "import tensorflow as tf\n",
        "from tensorflow import keras\n",
        "from keras.models import Sequential as seq\n",
        "from keras.layers import Dense, Flatten, Conv2D, Dropout\n",
        "from keras.layers import MaxPooling2D as mp2d \n",
        "from tensorflow.keras import layers\n",
        "from sklearn.metrics import confusion_matrix as cm"
      ],
      "execution_count": 27,
      "outputs": []
    },
    {
      "cell_type": "code",
      "metadata": {
        "id": "k70oSZN3FDDp"
      },
      "source": [
        "from google.colab import files \n",
        "files.upload()"
      ],
      "execution_count": null,
      "outputs": []
    },
    {
      "cell_type": "code",
      "metadata": {
        "colab": {
          "base_uri": "https://localhost:8080/",
          "height": 275
        },
        "id": "BZjxGpHoFRbV",
        "outputId": "fa2b8726-7352-4a17-efc5-b686bc9f062a"
      },
      "source": [
        "data = pd.read_csv('mushrooms.csv')\n",
        "data = data.dropna(axis=0)\n",
        "data.head(5)"
      ],
      "execution_count": 10,
      "outputs": [
        {
          "output_type": "execute_result",
          "data": {
            "text/html": [
              "<div>\n",
              "<style scoped>\n",
              "    .dataframe tbody tr th:only-of-type {\n",
              "        vertical-align: middle;\n",
              "    }\n",
              "\n",
              "    .dataframe tbody tr th {\n",
              "        vertical-align: top;\n",
              "    }\n",
              "\n",
              "    .dataframe thead th {\n",
              "        text-align: right;\n",
              "    }\n",
              "</style>\n",
              "<table border=\"1\" class=\"dataframe\">\n",
              "  <thead>\n",
              "    <tr style=\"text-align: right;\">\n",
              "      <th></th>\n",
              "      <th>class</th>\n",
              "      <th>cap-shape</th>\n",
              "      <th>cap-surface</th>\n",
              "      <th>cap-color</th>\n",
              "      <th>bruises</th>\n",
              "      <th>odor</th>\n",
              "      <th>gill-attachment</th>\n",
              "      <th>gill-spacing</th>\n",
              "      <th>gill-size</th>\n",
              "      <th>gill-color</th>\n",
              "      <th>stalk-shape</th>\n",
              "      <th>stalk-root</th>\n",
              "      <th>stalk-surface-above-ring</th>\n",
              "      <th>stalk-surface-below-ring</th>\n",
              "      <th>stalk-color-above-ring</th>\n",
              "      <th>stalk-color-below-ring</th>\n",
              "      <th>veil-type</th>\n",
              "      <th>veil-color</th>\n",
              "      <th>ring-number</th>\n",
              "      <th>ring-type</th>\n",
              "      <th>spore-print-color</th>\n",
              "      <th>population</th>\n",
              "      <th>habitat</th>\n",
              "    </tr>\n",
              "  </thead>\n",
              "  <tbody>\n",
              "    <tr>\n",
              "      <th>0</th>\n",
              "      <td>p</td>\n",
              "      <td>x</td>\n",
              "      <td>s</td>\n",
              "      <td>n</td>\n",
              "      <td>t</td>\n",
              "      <td>p</td>\n",
              "      <td>f</td>\n",
              "      <td>c</td>\n",
              "      <td>n</td>\n",
              "      <td>k</td>\n",
              "      <td>e</td>\n",
              "      <td>e</td>\n",
              "      <td>s</td>\n",
              "      <td>s</td>\n",
              "      <td>w</td>\n",
              "      <td>w</td>\n",
              "      <td>p</td>\n",
              "      <td>w</td>\n",
              "      <td>o</td>\n",
              "      <td>p</td>\n",
              "      <td>k</td>\n",
              "      <td>s</td>\n",
              "      <td>u</td>\n",
              "    </tr>\n",
              "    <tr>\n",
              "      <th>1</th>\n",
              "      <td>e</td>\n",
              "      <td>x</td>\n",
              "      <td>s</td>\n",
              "      <td>y</td>\n",
              "      <td>t</td>\n",
              "      <td>a</td>\n",
              "      <td>f</td>\n",
              "      <td>c</td>\n",
              "      <td>b</td>\n",
              "      <td>k</td>\n",
              "      <td>e</td>\n",
              "      <td>c</td>\n",
              "      <td>s</td>\n",
              "      <td>s</td>\n",
              "      <td>w</td>\n",
              "      <td>w</td>\n",
              "      <td>p</td>\n",
              "      <td>w</td>\n",
              "      <td>o</td>\n",
              "      <td>p</td>\n",
              "      <td>n</td>\n",
              "      <td>n</td>\n",
              "      <td>g</td>\n",
              "    </tr>\n",
              "    <tr>\n",
              "      <th>2</th>\n",
              "      <td>e</td>\n",
              "      <td>b</td>\n",
              "      <td>s</td>\n",
              "      <td>w</td>\n",
              "      <td>t</td>\n",
              "      <td>l</td>\n",
              "      <td>f</td>\n",
              "      <td>c</td>\n",
              "      <td>b</td>\n",
              "      <td>n</td>\n",
              "      <td>e</td>\n",
              "      <td>c</td>\n",
              "      <td>s</td>\n",
              "      <td>s</td>\n",
              "      <td>w</td>\n",
              "      <td>w</td>\n",
              "      <td>p</td>\n",
              "      <td>w</td>\n",
              "      <td>o</td>\n",
              "      <td>p</td>\n",
              "      <td>n</td>\n",
              "      <td>n</td>\n",
              "      <td>m</td>\n",
              "    </tr>\n",
              "    <tr>\n",
              "      <th>3</th>\n",
              "      <td>p</td>\n",
              "      <td>x</td>\n",
              "      <td>y</td>\n",
              "      <td>w</td>\n",
              "      <td>t</td>\n",
              "      <td>p</td>\n",
              "      <td>f</td>\n",
              "      <td>c</td>\n",
              "      <td>n</td>\n",
              "      <td>n</td>\n",
              "      <td>e</td>\n",
              "      <td>e</td>\n",
              "      <td>s</td>\n",
              "      <td>s</td>\n",
              "      <td>w</td>\n",
              "      <td>w</td>\n",
              "      <td>p</td>\n",
              "      <td>w</td>\n",
              "      <td>o</td>\n",
              "      <td>p</td>\n",
              "      <td>k</td>\n",
              "      <td>s</td>\n",
              "      <td>u</td>\n",
              "    </tr>\n",
              "    <tr>\n",
              "      <th>4</th>\n",
              "      <td>e</td>\n",
              "      <td>x</td>\n",
              "      <td>s</td>\n",
              "      <td>g</td>\n",
              "      <td>f</td>\n",
              "      <td>n</td>\n",
              "      <td>f</td>\n",
              "      <td>w</td>\n",
              "      <td>b</td>\n",
              "      <td>k</td>\n",
              "      <td>t</td>\n",
              "      <td>e</td>\n",
              "      <td>s</td>\n",
              "      <td>s</td>\n",
              "      <td>w</td>\n",
              "      <td>w</td>\n",
              "      <td>p</td>\n",
              "      <td>w</td>\n",
              "      <td>o</td>\n",
              "      <td>e</td>\n",
              "      <td>n</td>\n",
              "      <td>a</td>\n",
              "      <td>g</td>\n",
              "    </tr>\n",
              "  </tbody>\n",
              "</table>\n",
              "</div>"
            ],
            "text/plain": [
              "  class cap-shape cap-surface  ... spore-print-color population habitat\n",
              "0     p         x           s  ...                 k          s       u\n",
              "1     e         x           s  ...                 n          n       g\n",
              "2     e         b           s  ...                 n          n       m\n",
              "3     p         x           y  ...                 k          s       u\n",
              "4     e         x           s  ...                 n          a       g\n",
              "\n",
              "[5 rows x 23 columns]"
            ]
          },
          "metadata": {
            "tags": []
          },
          "execution_count": 10
        }
      ]
    },
    {
      "cell_type": "code",
      "metadata": {
        "id": "5ui35RHPFei2"
      },
      "source": [
        "#one-hot encoding \n",
        "le = LE()\n",
        "Y = data['class']\n",
        "data = data.drop(columns=['class'])\n",
        "Y = le.fit_transform(Y)\n",
        "for col in data:\n",
        "  data[col] = le.fit_transform(data[col])\n",
        "data = data.values"
      ],
      "execution_count": 11,
      "outputs": []
    },
    {
      "cell_type": "code",
      "metadata": {
        "id": "8lnRYOf7GBkR"
      },
      "source": [
        "#split\n",
        "trainX,testX,trainY,testY = tts(data,Y,test_size=0.15, random_state=42)"
      ],
      "execution_count": 12,
      "outputs": []
    },
    {
      "cell_type": "code",
      "metadata": {
        "id": "wLAgZB3YGNIc"
      },
      "source": [
        "#create Random Forest Classifier\n",
        "rfc = RFC(n_estimators = 30, criterion = 'entropy', random_state = 42)\n",
        "rfc.fit(trainX,trainY)\n",
        "\n",
        "#create XGBC\n",
        "xgbc = XGBC()\n",
        "xgbc.fit(trainX,trainY)\n",
        "\n",
        "#create ANN\n",
        "arch = seq()\n",
        "arch.add(Dense(units = 22, input_shape= (22,), activation = 'relu')) #input layer\n",
        "arch.add(Dense(units = 32, activation = 'relu')) #first dense layer\n",
        "arch.add(Dense(units = 1, activation = 'sigmoid')) #output layer\n",
        "arch.compile(optimizer= 'adam', loss = 'binary_crossentropy', metrics = ['accuracy'])"
      ],
      "execution_count": 22,
      "outputs": []
    },
    {
      "cell_type": "code",
      "metadata": {
        "colab": {
          "base_uri": "https://localhost:8080/"
        },
        "id": "bESB4K8HIinr",
        "outputId": "e75e069e-6e34-4ad4-f99a-fddd1c7a7700"
      },
      "source": [
        "#train ANN\n",
        "arch.fit(trainX,trainY,batch_size=10,epochs=15)"
      ],
      "execution_count": 23,
      "outputs": [
        {
          "output_type": "stream",
          "text": [
            "Epoch 1/15\n",
            "691/691 [==============================] - 2s 1ms/step - loss: 0.3934 - accuracy: 0.8311\n",
            "Epoch 2/15\n",
            "691/691 [==============================] - 1s 1ms/step - loss: 0.1634 - accuracy: 0.9357\n",
            "Epoch 3/15\n",
            "691/691 [==============================] - 1s 1ms/step - loss: 0.0728 - accuracy: 0.9808\n",
            "Epoch 4/15\n",
            "691/691 [==============================] - 1s 1ms/step - loss: 0.0340 - accuracy: 0.9916\n",
            "Epoch 5/15\n",
            "691/691 [==============================] - 1s 1ms/step - loss: 0.0188 - accuracy: 0.9952\n",
            "Epoch 6/15\n",
            "691/691 [==============================] - 1s 1ms/step - loss: 0.0129 - accuracy: 0.9965\n",
            "Epoch 7/15\n",
            "691/691 [==============================] - 1s 1ms/step - loss: 0.0070 - accuracy: 0.9984\n",
            "Epoch 8/15\n",
            "691/691 [==============================] - 1s 1ms/step - loss: 0.0065 - accuracy: 0.9986\n",
            "Epoch 9/15\n",
            "691/691 [==============================] - 1s 1ms/step - loss: 0.0032 - accuracy: 0.9995\n",
            "Epoch 10/15\n",
            "691/691 [==============================] - 1s 1ms/step - loss: 0.0037 - accuracy: 0.9989\n",
            "Epoch 11/15\n",
            "691/691 [==============================] - 1s 1ms/step - loss: 0.0047 - accuracy: 0.9991\n",
            "Epoch 12/15\n",
            "691/691 [==============================] - 1s 1ms/step - loss: 0.0011 - accuracy: 1.0000\n",
            "Epoch 13/15\n",
            "691/691 [==============================] - 1s 1ms/step - loss: 8.8602e-04 - accuracy: 1.0000\n",
            "Epoch 14/15\n",
            "691/691 [==============================] - 1s 1ms/step - loss: 0.0018 - accuracy: 0.9997\n",
            "Epoch 15/15\n",
            "691/691 [==============================] - 1s 1ms/step - loss: 2.1682e-04 - accuracy: 1.0000\n"
          ],
          "name": "stdout"
        },
        {
          "output_type": "execute_result",
          "data": {
            "text/plain": [
              "<tensorflow.python.keras.callbacks.History at 0x7fc200f2a650>"
            ]
          },
          "metadata": {
            "tags": []
          },
          "execution_count": 23
        }
      ]
    },
    {
      "cell_type": "code",
      "metadata": {
        "colab": {
          "base_uri": "https://localhost:8080/"
        },
        "id": "nrscHolHI9yT",
        "outputId": "2252940f-06fd-43a4-b1e5-05f48f59af7f"
      },
      "source": [
        "rfcpredict = rfc.predict(testX)\n",
        "xgbpredict = xgbc.predict(testX)\n",
        "annpredict = arch.predict(testX)\n",
        "annpredict = annpredict>0.5\n",
        "annacc = cm(annpredict,testY)\n",
        "print(\"RFC accuracy: \", acc(rfcpredict,testY)*100, '%')\n",
        "print(\"XGBC accuracy: \", acc(xgbpredict,testY)*100, '%')\n",
        "print(\"ANN accuracy: \", (annacc[0][0] + annacc[1][1])/(annacc[0][0] + annacc[1][1] + annacc[1][0] + annacc[0][1]) *100, '%')\n"
      ],
      "execution_count": 30,
      "outputs": [
        {
          "output_type": "stream",
          "text": [
            "RFC accuracy:  100.0 %\n",
            "XGBC accuracy:  100.0 %\n",
            "ANN accuracy:  100.0 %\n"
          ],
          "name": "stdout"
        }
      ]
    }
  ]
}