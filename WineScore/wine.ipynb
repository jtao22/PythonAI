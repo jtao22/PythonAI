{
  "nbformat": 4,
  "nbformat_minor": 0,
  "metadata": {
    "colab": {
      "name": "wine.ipynb",
      "provenance": [],
      "authorship_tag": "ABX9TyPfzQhYsBFN2w/HPXUPI5mq",
      "include_colab_link": true
    },
    "kernelspec": {
      "name": "python3",
      "display_name": "Python 3"
    },
    "language_info": {
      "name": "python"
    }
  },
  "cells": [
    {
      "cell_type": "markdown",
      "metadata": {
        "id": "view-in-github",
        "colab_type": "text"
      },
      "source": [
        "<a href=\"https://colab.research.google.com/github/jtao22/PythonAI/blob/main/WineScore/wine.ipynb\" target=\"_parent\"><img src=\"https://colab.research.google.com/assets/colab-badge.svg\" alt=\"Open In Colab\"/></a>"
      ]
    },
    {
      "cell_type": "code",
      "metadata": {
        "id": "KAXvf1-5an5B"
      },
      "source": [
        "#import \n",
        "import numpy as np\n",
        "import pandas as pd \n",
        "from google.colab import files \n",
        "from sklearn.preprocessing import LabelEncoder as LE\n",
        "from sklearn.preprocessing import StandardScaler as SS\n",
        "from sklearn.model_selection import train_test_split as tts\n",
        "from tensorflow.keras.utils import to_categorical as tc\n",
        "import seaborn as sns\n",
        "import matplotlib.pyplot as plt \n",
        "from matplotlib import cm\n",
        "from keras.models import Sequential as seq\n",
        "from keras.layers import Dense\n",
        "from sklearn.metrics import accuracy_score as acc"
      ],
      "execution_count": 22,
      "outputs": []
    },
    {
      "cell_type": "code",
      "metadata": {
        "id": "L6s7CbP0a4Pl"
      },
      "source": [
        "files.upload()\n"
      ],
      "execution_count": null,
      "outputs": []
    },
    {
      "cell_type": "code",
      "metadata": {
        "colab": {
          "base_uri": "https://localhost:8080/",
          "height": 221
        },
        "id": "Rxay5utvhnx3",
        "outputId": "cb286633-5a82-4fc2-eb8c-a8d82eb4e592"
      },
      "source": [
        "data = pd.read_csv('wine.csv')\n",
        "data.head(5)"
      ],
      "execution_count": 31,
      "outputs": [
        {
          "output_type": "execute_result",
          "data": {
            "text/html": [
              "<div>\n",
              "<style scoped>\n",
              "    .dataframe tbody tr th:only-of-type {\n",
              "        vertical-align: middle;\n",
              "    }\n",
              "\n",
              "    .dataframe tbody tr th {\n",
              "        vertical-align: top;\n",
              "    }\n",
              "\n",
              "    .dataframe thead th {\n",
              "        text-align: right;\n",
              "    }\n",
              "</style>\n",
              "<table border=\"1\" class=\"dataframe\">\n",
              "  <thead>\n",
              "    <tr style=\"text-align: right;\">\n",
              "      <th></th>\n",
              "      <th>fixed acidity</th>\n",
              "      <th>volatile acidity</th>\n",
              "      <th>citric acid</th>\n",
              "      <th>residual sugar</th>\n",
              "      <th>chlorides</th>\n",
              "      <th>free sulfur dioxide</th>\n",
              "      <th>total sulfur dioxide</th>\n",
              "      <th>density</th>\n",
              "      <th>pH</th>\n",
              "      <th>sulphates</th>\n",
              "      <th>alcohol</th>\n",
              "      <th>quality</th>\n",
              "    </tr>\n",
              "  </thead>\n",
              "  <tbody>\n",
              "    <tr>\n",
              "      <th>0</th>\n",
              "      <td>7.4</td>\n",
              "      <td>0.70</td>\n",
              "      <td>0.00</td>\n",
              "      <td>1.9</td>\n",
              "      <td>0.076</td>\n",
              "      <td>11.0</td>\n",
              "      <td>34.0</td>\n",
              "      <td>0.9978</td>\n",
              "      <td>3.51</td>\n",
              "      <td>0.56</td>\n",
              "      <td>9.4</td>\n",
              "      <td>5</td>\n",
              "    </tr>\n",
              "    <tr>\n",
              "      <th>1</th>\n",
              "      <td>7.8</td>\n",
              "      <td>0.88</td>\n",
              "      <td>0.00</td>\n",
              "      <td>2.6</td>\n",
              "      <td>0.098</td>\n",
              "      <td>25.0</td>\n",
              "      <td>67.0</td>\n",
              "      <td>0.9968</td>\n",
              "      <td>3.20</td>\n",
              "      <td>0.68</td>\n",
              "      <td>9.8</td>\n",
              "      <td>5</td>\n",
              "    </tr>\n",
              "    <tr>\n",
              "      <th>2</th>\n",
              "      <td>7.8</td>\n",
              "      <td>0.76</td>\n",
              "      <td>0.04</td>\n",
              "      <td>2.3</td>\n",
              "      <td>0.092</td>\n",
              "      <td>15.0</td>\n",
              "      <td>54.0</td>\n",
              "      <td>0.9970</td>\n",
              "      <td>3.26</td>\n",
              "      <td>0.65</td>\n",
              "      <td>9.8</td>\n",
              "      <td>5</td>\n",
              "    </tr>\n",
              "    <tr>\n",
              "      <th>3</th>\n",
              "      <td>11.2</td>\n",
              "      <td>0.28</td>\n",
              "      <td>0.56</td>\n",
              "      <td>1.9</td>\n",
              "      <td>0.075</td>\n",
              "      <td>17.0</td>\n",
              "      <td>60.0</td>\n",
              "      <td>0.9980</td>\n",
              "      <td>3.16</td>\n",
              "      <td>0.58</td>\n",
              "      <td>9.8</td>\n",
              "      <td>6</td>\n",
              "    </tr>\n",
              "    <tr>\n",
              "      <th>4</th>\n",
              "      <td>7.4</td>\n",
              "      <td>0.70</td>\n",
              "      <td>0.00</td>\n",
              "      <td>1.9</td>\n",
              "      <td>0.076</td>\n",
              "      <td>11.0</td>\n",
              "      <td>34.0</td>\n",
              "      <td>0.9978</td>\n",
              "      <td>3.51</td>\n",
              "      <td>0.56</td>\n",
              "      <td>9.4</td>\n",
              "      <td>5</td>\n",
              "    </tr>\n",
              "  </tbody>\n",
              "</table>\n",
              "</div>"
            ],
            "text/plain": [
              "   fixed acidity  volatile acidity  citric acid  ...  sulphates  alcohol  quality\n",
              "0            7.4              0.70         0.00  ...       0.56      9.4        5\n",
              "1            7.8              0.88         0.00  ...       0.68      9.8        5\n",
              "2            7.8              0.76         0.04  ...       0.65      9.8        5\n",
              "3           11.2              0.28         0.56  ...       0.58      9.8        6\n",
              "4            7.4              0.70         0.00  ...       0.56      9.4        5\n",
              "\n",
              "[5 rows x 12 columns]"
            ]
          },
          "metadata": {
            "tags": []
          },
          "execution_count": 31
        }
      ]
    },
    {
      "cell_type": "code",
      "metadata": {
        "colab": {
          "base_uri": "https://localhost:8080/"
        },
        "id": "-2MLhJuShw_e",
        "outputId": "f49e56d9-9b91-4f7f-f165-8e3fe3f161a9"
      },
      "source": [
        "data['quality'] = data['quality']-3\n",
        "data['quality'].value_counts()"
      ],
      "execution_count": 32,
      "outputs": [
        {
          "output_type": "execute_result",
          "data": {
            "text/plain": [
              "2    681\n",
              "3    638\n",
              "4    199\n",
              "1     53\n",
              "5     18\n",
              "0     10\n",
              "Name: quality, dtype: int64"
            ]
          },
          "metadata": {
            "tags": []
          },
          "execution_count": 32
        }
      ]
    },
    {
      "cell_type": "code",
      "metadata": {
        "id": "YmcDDHElizR2"
      },
      "source": [
        "le = LE()\n",
        "Y = tc(data['quality'],6)\n",
        "data = data.drop(columns=['quality'], axis=1)\n",
        "ss = SS()\n",
        "data = ss.fit_transform(data)"
      ],
      "execution_count": 33,
      "outputs": []
    },
    {
      "cell_type": "code",
      "metadata": {
        "id": "46p9FpWGjLLV"
      },
      "source": [
        "trainX,testX,trainY,testY = tts(data,Y,test_size=0.2,random_state=16)"
      ],
      "execution_count": 34,
      "outputs": []
    },
    {
      "cell_type": "code",
      "metadata": {
        "colab": {
          "base_uri": "https://localhost:8080/"
        },
        "id": "culhRzjJk9GU",
        "outputId": "83a0492e-5816-4093-c947-890313cfbbc0"
      },
      "source": [
        "trainY.shape"
      ],
      "execution_count": 35,
      "outputs": [
        {
          "output_type": "execute_result",
          "data": {
            "text/plain": [
              "(1279, 6)"
            ]
          },
          "metadata": {
            "tags": []
          },
          "execution_count": 35
        }
      ]
    },
    {
      "cell_type": "code",
      "metadata": {
        "id": "86NId8PQj95F"
      },
      "source": [
        "#create model\n",
        "arch = seq()\n",
        "arch.add(Dense(units = 12, input_shape= (11,), activation = 'relu')) \n",
        "arch.add(Dense(units = 64, activation = 'relu'))\n",
        "arch.add(Dense(units = 128, activation = 'relu')) \n",
        "arch.add(Dense(units = 256, activation = 'relu')) \n",
        "arch.add(Dense(units = 256, activation = 'relu')) \n",
        "arch.add(Dense(units = 64, activation = 'relu')) \n",
        "arch.add(Dense(units = 32, activation = 'relu')) \n",
        "arch.add(Dense(units = 16, activation = 'relu')) \n",
        "arch.add(Dense(units = 6, activation = 'sigmoid'))\n",
        "arch.compile(optimizer= 'adam', loss = 'categorical_crossentropy', metrics = ['accuracy'])"
      ],
      "execution_count": 47,
      "outputs": []
    },
    {
      "cell_type": "code",
      "metadata": {
        "colab": {
          "base_uri": "https://localhost:8080/"
        },
        "id": "eDgMFXhUnVAF",
        "outputId": "414fa4f7-72f2-467b-c156-e0b2a6b321bd"
      },
      "source": [
        "arch.fit(trainX,trainY,batch_size=8,epochs=50)"
      ],
      "execution_count": 48,
      "outputs": [
        {
          "output_type": "stream",
          "text": [
            "Epoch 1/50\n",
            "160/160 [==============================] - 1s 3ms/step - loss: 1.3876 - accuracy: 0.4889\n",
            "Epoch 2/50\n",
            "160/160 [==============================] - 0s 3ms/step - loss: 1.0636 - accuracy: 0.5637\n",
            "Epoch 3/50\n",
            "160/160 [==============================] - 0s 3ms/step - loss: 0.9725 - accuracy: 0.5786\n",
            "Epoch 4/50\n",
            "160/160 [==============================] - 0s 3ms/step - loss: 0.9760 - accuracy: 0.6043\n",
            "Epoch 5/50\n",
            "160/160 [==============================] - 0s 3ms/step - loss: 0.9715 - accuracy: 0.6272\n",
            "Epoch 6/50\n",
            "160/160 [==============================] - 0s 3ms/step - loss: 0.9350 - accuracy: 0.6157\n",
            "Epoch 7/50\n",
            "160/160 [==============================] - 0s 3ms/step - loss: 0.8981 - accuracy: 0.6345\n",
            "Epoch 8/50\n",
            "160/160 [==============================] - 0s 3ms/step - loss: 0.9074 - accuracy: 0.6180\n",
            "Epoch 9/50\n",
            "160/160 [==============================] - 0s 3ms/step - loss: 0.8718 - accuracy: 0.6309\n",
            "Epoch 10/50\n",
            "160/160 [==============================] - 0s 3ms/step - loss: 0.8226 - accuracy: 0.6595\n",
            "Epoch 11/50\n",
            "160/160 [==============================] - 0s 3ms/step - loss: 0.8380 - accuracy: 0.6299\n",
            "Epoch 12/50\n",
            "160/160 [==============================] - 0s 3ms/step - loss: 0.8492 - accuracy: 0.6609\n",
            "Epoch 13/50\n",
            "160/160 [==============================] - 0s 3ms/step - loss: 0.8137 - accuracy: 0.6618\n",
            "Epoch 14/50\n",
            "160/160 [==============================] - 0s 3ms/step - loss: 0.7623 - accuracy: 0.6821\n",
            "Epoch 15/50\n",
            "160/160 [==============================] - 0s 3ms/step - loss: 0.7553 - accuracy: 0.6880\n",
            "Epoch 16/50\n",
            "160/160 [==============================] - 0s 3ms/step - loss: 0.7178 - accuracy: 0.7069\n",
            "Epoch 17/50\n",
            "160/160 [==============================] - 0s 3ms/step - loss: 0.7551 - accuracy: 0.6935\n",
            "Epoch 18/50\n",
            "160/160 [==============================] - 0s 3ms/step - loss: 0.7118 - accuracy: 0.7278\n",
            "Epoch 19/50\n",
            "160/160 [==============================] - 0s 3ms/step - loss: 0.6838 - accuracy: 0.7059\n",
            "Epoch 20/50\n",
            "160/160 [==============================] - 0s 3ms/step - loss: 0.6660 - accuracy: 0.7192\n",
            "Epoch 21/50\n",
            "160/160 [==============================] - 0s 3ms/step - loss: 0.6492 - accuracy: 0.7247\n",
            "Epoch 22/50\n",
            "160/160 [==============================] - 0s 3ms/step - loss: 0.6882 - accuracy: 0.7247\n",
            "Epoch 23/50\n",
            "160/160 [==============================] - 0s 3ms/step - loss: 0.6180 - accuracy: 0.7354\n",
            "Epoch 24/50\n",
            "160/160 [==============================] - 0s 3ms/step - loss: 0.6169 - accuracy: 0.7406\n",
            "Epoch 25/50\n",
            "160/160 [==============================] - 0s 3ms/step - loss: 0.5834 - accuracy: 0.7571\n",
            "Epoch 26/50\n",
            "160/160 [==============================] - 0s 3ms/step - loss: 0.5674 - accuracy: 0.7598\n",
            "Epoch 27/50\n",
            "160/160 [==============================] - 0s 3ms/step - loss: 0.5742 - accuracy: 0.7352\n",
            "Epoch 28/50\n",
            "160/160 [==============================] - 0s 3ms/step - loss: 0.5181 - accuracy: 0.7984\n",
            "Epoch 29/50\n",
            "160/160 [==============================] - 0s 3ms/step - loss: 0.5650 - accuracy: 0.7631\n",
            "Epoch 30/50\n",
            "160/160 [==============================] - 0s 3ms/step - loss: 0.4983 - accuracy: 0.7888\n",
            "Epoch 31/50\n",
            "160/160 [==============================] - 0s 3ms/step - loss: 0.4815 - accuracy: 0.7991\n",
            "Epoch 32/50\n",
            "160/160 [==============================] - 0s 3ms/step - loss: 0.4486 - accuracy: 0.8202\n",
            "Epoch 33/50\n",
            "160/160 [==============================] - 0s 3ms/step - loss: 0.4086 - accuracy: 0.8275\n",
            "Epoch 34/50\n",
            "160/160 [==============================] - 0s 3ms/step - loss: 0.4230 - accuracy: 0.8271\n",
            "Epoch 35/50\n",
            "160/160 [==============================] - 0s 3ms/step - loss: 0.4558 - accuracy: 0.8104\n",
            "Epoch 36/50\n",
            "160/160 [==============================] - 0s 3ms/step - loss: 0.4512 - accuracy: 0.8202\n",
            "Epoch 37/50\n",
            "160/160 [==============================] - 0s 3ms/step - loss: 0.3916 - accuracy: 0.8243\n",
            "Epoch 38/50\n",
            "160/160 [==============================] - 0s 3ms/step - loss: 0.3424 - accuracy: 0.8509\n",
            "Epoch 39/50\n",
            "160/160 [==============================] - 0s 3ms/step - loss: 0.3931 - accuracy: 0.8233\n",
            "Epoch 40/50\n",
            "160/160 [==============================] - 0s 3ms/step - loss: 0.2674 - accuracy: 0.8951\n",
            "Epoch 41/50\n",
            "160/160 [==============================] - 0s 3ms/step - loss: 0.3446 - accuracy: 0.8581\n",
            "Epoch 42/50\n",
            "160/160 [==============================] - 0s 3ms/step - loss: 0.2759 - accuracy: 0.8905\n",
            "Epoch 43/50\n",
            "160/160 [==============================] - 0s 3ms/step - loss: 0.3483 - accuracy: 0.8546\n",
            "Epoch 44/50\n",
            "160/160 [==============================] - 0s 3ms/step - loss: 0.3413 - accuracy: 0.8647\n",
            "Epoch 45/50\n",
            "160/160 [==============================] - 0s 3ms/step - loss: 0.2545 - accuracy: 0.8941\n",
            "Epoch 46/50\n",
            "160/160 [==============================] - 0s 3ms/step - loss: 0.2471 - accuracy: 0.9025\n",
            "Epoch 47/50\n",
            "160/160 [==============================] - 0s 3ms/step - loss: 0.3136 - accuracy: 0.8928\n",
            "Epoch 48/50\n",
            "160/160 [==============================] - 0s 3ms/step - loss: 0.3407 - accuracy: 0.8730\n",
            "Epoch 49/50\n",
            "160/160 [==============================] - 0s 3ms/step - loss: 0.2820 - accuracy: 0.8888\n",
            "Epoch 50/50\n",
            "160/160 [==============================] - 0s 3ms/step - loss: 0.1846 - accuracy: 0.9248\n"
          ],
          "name": "stdout"
        },
        {
          "output_type": "execute_result",
          "data": {
            "text/plain": [
              "<tensorflow.python.keras.callbacks.History at 0x7f55a6f98810>"
            ]
          },
          "metadata": {
            "tags": []
          },
          "execution_count": 48
        }
      ]
    },
    {
      "cell_type": "code",
      "metadata": {
        "colab": {
          "base_uri": "https://localhost:8080/"
        },
        "id": "1q8ZlScQo5VH",
        "outputId": "2fd625b4-ddaa-4298-bfb3-b7e1cadf9bce"
      },
      "source": [
        "predictions = arch.predict(testX).argmax(axis=0)\n",
        "actual = testY.argmax(axis=0)\n",
        "print(acc(predictions,actual)*100,'%')"
      ],
      "execution_count": 50,
      "outputs": [
        {
          "output_type": "stream",
          "text": [
            "33.33333333333333 %\n"
          ],
          "name": "stdout"
        }
      ]
    }
  ]
}