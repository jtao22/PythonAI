{
  "nbformat": 4,
  "nbformat_minor": 0,
  "metadata": {
    "colab": {
      "name": "breastcancer2.ipynb",
      "provenance": [],
      "authorship_tag": "ABX9TyMiZFYPz+LtbAr71Q6QsE9+",
      "include_colab_link": true
    },
    "kernelspec": {
      "name": "python3",
      "display_name": "Python 3"
    }
  },
  "cells": [
    {
      "cell_type": "markdown",
      "metadata": {
        "id": "view-in-github",
        "colab_type": "text"
      },
      "source": [
        "<a href=\"https://colab.research.google.com/github/jtao22/PythonAI/blob/main/BreastCancer/breastcancer2.ipynb\" target=\"_parent\"><img src=\"https://colab.research.google.com/assets/colab-badge.svg\" alt=\"Open In Colab\"/></a>"
      ]
    },
    {
      "cell_type": "code",
      "metadata": {
        "id": "_QP5fanGrkAU"
      },
      "source": [
        "#Import\n",
        "import tensorflow as tf\n",
        "from tensorflow import keras\n",
        "from keras.models import Sequential as seq\n",
        "from keras.layers import Dense, Flatten, Conv2D, Dropout\n",
        "from keras.layers import MaxPooling2D as mp2d \n",
        "from tensorflow.keras import layers\n",
        "from keras.utils import to_categorical\n",
        "from sklearn.model_selection import train_test_split as tts\n",
        "import numpy as np\n",
        "import pandas as pd\n",
        "from sklearn.preprocessing import LabelEncoder as le\n",
        "from sklearn.preprocessing import MinMaxScaler as mms\n",
        "import matplotlib.pyplot as pyplot\n",
        "pyplot.style.use('fivethirtyeight')"
      ],
      "execution_count": 43,
      "outputs": []
    },
    {
      "cell_type": "code",
      "metadata": {
        "id": "7tpeC135sVnd"
      },
      "source": [
        "#Upload data\n",
        "from google.colab import files \n",
        "files.upload()"
      ],
      "execution_count": null,
      "outputs": []
    },
    {
      "cell_type": "code",
      "metadata": {
        "colab": {
          "base_uri": "https://localhost:8080/",
          "height": 204
        },
        "id": "ur3b7HZ9teih",
        "outputId": "4b2349ee-22d9-4bd4-ea2c-1cc096cd2090"
      },
      "source": [
        "data = pd.read_csv('Breast_cancer_data.csv')\n",
        "#filter\n",
        "data = data.dropna(axis=0)\n",
        "data.head(5)"
      ],
      "execution_count": 50,
      "outputs": [
        {
          "output_type": "execute_result",
          "data": {
            "text/html": [
              "<div>\n",
              "<style scoped>\n",
              "    .dataframe tbody tr th:only-of-type {\n",
              "        vertical-align: middle;\n",
              "    }\n",
              "\n",
              "    .dataframe tbody tr th {\n",
              "        vertical-align: top;\n",
              "    }\n",
              "\n",
              "    .dataframe thead th {\n",
              "        text-align: right;\n",
              "    }\n",
              "</style>\n",
              "<table border=\"1\" class=\"dataframe\">\n",
              "  <thead>\n",
              "    <tr style=\"text-align: right;\">\n",
              "      <th></th>\n",
              "      <th>mean_radius</th>\n",
              "      <th>mean_texture</th>\n",
              "      <th>mean_perimeter</th>\n",
              "      <th>mean_area</th>\n",
              "      <th>mean_smoothness</th>\n",
              "      <th>diagnosis</th>\n",
              "    </tr>\n",
              "  </thead>\n",
              "  <tbody>\n",
              "    <tr>\n",
              "      <th>0</th>\n",
              "      <td>17.99</td>\n",
              "      <td>10.38</td>\n",
              "      <td>122.80</td>\n",
              "      <td>1001.0</td>\n",
              "      <td>0.11840</td>\n",
              "      <td>0</td>\n",
              "    </tr>\n",
              "    <tr>\n",
              "      <th>1</th>\n",
              "      <td>20.57</td>\n",
              "      <td>17.77</td>\n",
              "      <td>132.90</td>\n",
              "      <td>1326.0</td>\n",
              "      <td>0.08474</td>\n",
              "      <td>0</td>\n",
              "    </tr>\n",
              "    <tr>\n",
              "      <th>2</th>\n",
              "      <td>19.69</td>\n",
              "      <td>21.25</td>\n",
              "      <td>130.00</td>\n",
              "      <td>1203.0</td>\n",
              "      <td>0.10960</td>\n",
              "      <td>0</td>\n",
              "    </tr>\n",
              "    <tr>\n",
              "      <th>3</th>\n",
              "      <td>11.42</td>\n",
              "      <td>20.38</td>\n",
              "      <td>77.58</td>\n",
              "      <td>386.1</td>\n",
              "      <td>0.14250</td>\n",
              "      <td>0</td>\n",
              "    </tr>\n",
              "    <tr>\n",
              "      <th>4</th>\n",
              "      <td>20.29</td>\n",
              "      <td>14.34</td>\n",
              "      <td>135.10</td>\n",
              "      <td>1297.0</td>\n",
              "      <td>0.10030</td>\n",
              "      <td>0</td>\n",
              "    </tr>\n",
              "  </tbody>\n",
              "</table>\n",
              "</div>"
            ],
            "text/plain": [
              "   mean_radius  mean_texture  ...  mean_smoothness  diagnosis\n",
              "0        17.99         10.38  ...          0.11840          0\n",
              "1        20.57         17.77  ...          0.08474          0\n",
              "2        19.69         21.25  ...          0.10960          0\n",
              "3        11.42         20.38  ...          0.14250          0\n",
              "4        20.29         14.34  ...          0.10030          0\n",
              "\n",
              "[5 rows x 6 columns]"
            ]
          },
          "metadata": {
            "tags": []
          },
          "execution_count": 50
        }
      ]
    },
    {
      "cell_type": "code",
      "metadata": {
        "id": "8Ap0faqIZ3e5"
      },
      "source": [
        "#split data\n",
        "trainX,testX,trainY,testY = tts(data.iloc[:,0:4].values, data.iloc[:,-1].values, test_size = 0.1, random_state = 42)\n",
        "#scale features\n",
        "scaler = mms(feature_range = (0,1))\n",
        "trainX = scaler.fit_transform(trainX)\n",
        "testX = scaler.fit_transform(testX)"
      ],
      "execution_count": 44,
      "outputs": []
    },
    {
      "cell_type": "code",
      "metadata": {
        "id": "lKJNPVA_W4r9"
      },
      "source": [
        "#create architecture\n",
        "arch = seq()\n",
        "arch.add(Dense(units = 8, input_shape= (4,), activation = 'relu')) #first dense layer\n",
        "arch.add(Dense(units = 16, activation = 'relu')) #second dense layer\n",
        "arch.add(Dense(units = 2, activation = 'softmax')) #last hidden layer\n",
        "arch.compile(optimizer= 'adam', loss = 'sparse_categorical_crossentropy', metrics = ['accuracy'])"
      ],
      "execution_count": 40,
      "outputs": []
    },
    {
      "cell_type": "code",
      "metadata": {
        "colab": {
          "base_uri": "https://localhost:8080/"
        },
        "id": "RFS23wkZZlq0",
        "outputId": "1622adff-9bff-4e76-ce8a-232fd068e0b3"
      },
      "source": [
        "#train \n",
        "arch.fit(trainX, trainY, batch_size= 2, epochs = 20, validation_split= 0.10, shuffle = True,verbose = 2)"
      ],
      "execution_count": 51,
      "outputs": [
        {
          "output_type": "stream",
          "text": [
            "Epoch 1/20\n",
            "230/230 - 1s - loss: 0.2513 - accuracy: 0.8978 - val_loss: 0.2296 - val_accuracy: 0.8654\n",
            "Epoch 2/20\n",
            "230/230 - 0s - loss: 0.2459 - accuracy: 0.8957 - val_loss: 0.2220 - val_accuracy: 0.8846\n",
            "Epoch 3/20\n",
            "230/230 - 0s - loss: 0.2523 - accuracy: 0.8913 - val_loss: 0.2313 - val_accuracy: 0.9038\n",
            "Epoch 4/20\n",
            "230/230 - 0s - loss: 0.2519 - accuracy: 0.8935 - val_loss: 0.2268 - val_accuracy: 0.8846\n",
            "Epoch 5/20\n",
            "230/230 - 0s - loss: 0.2414 - accuracy: 0.8978 - val_loss: 0.2262 - val_accuracy: 0.8846\n",
            "Epoch 6/20\n",
            "230/230 - 0s - loss: 0.2435 - accuracy: 0.9000 - val_loss: 0.2210 - val_accuracy: 0.8846\n",
            "Epoch 7/20\n",
            "230/230 - 0s - loss: 0.2478 - accuracy: 0.8913 - val_loss: 0.2318 - val_accuracy: 0.8846\n",
            "Epoch 8/20\n",
            "230/230 - 0s - loss: 0.2443 - accuracy: 0.9000 - val_loss: 0.2477 - val_accuracy: 0.9038\n",
            "Epoch 9/20\n",
            "230/230 - 0s - loss: 0.2442 - accuracy: 0.9000 - val_loss: 0.2197 - val_accuracy: 0.8846\n",
            "Epoch 10/20\n",
            "230/230 - 0s - loss: 0.2450 - accuracy: 0.9022 - val_loss: 0.2241 - val_accuracy: 0.8846\n",
            "Epoch 11/20\n",
            "230/230 - 0s - loss: 0.2422 - accuracy: 0.9022 - val_loss: 0.2175 - val_accuracy: 0.8846\n",
            "Epoch 12/20\n",
            "230/230 - 0s - loss: 0.2486 - accuracy: 0.8913 - val_loss: 0.2172 - val_accuracy: 0.8654\n",
            "Epoch 13/20\n",
            "230/230 - 0s - loss: 0.2414 - accuracy: 0.9065 - val_loss: 0.2427 - val_accuracy: 0.8846\n",
            "Epoch 14/20\n",
            "230/230 - 0s - loss: 0.2375 - accuracy: 0.9022 - val_loss: 0.2168 - val_accuracy: 0.8846\n",
            "Epoch 15/20\n",
            "230/230 - 0s - loss: 0.2427 - accuracy: 0.9087 - val_loss: 0.2212 - val_accuracy: 0.8846\n",
            "Epoch 16/20\n",
            "230/230 - 0s - loss: 0.2396 - accuracy: 0.9022 - val_loss: 0.2166 - val_accuracy: 0.8846\n",
            "Epoch 17/20\n",
            "230/230 - 0s - loss: 0.2415 - accuracy: 0.9000 - val_loss: 0.2271 - val_accuracy: 0.8846\n",
            "Epoch 18/20\n",
            "230/230 - 0s - loss: 0.2446 - accuracy: 0.8978 - val_loss: 0.2202 - val_accuracy: 0.8846\n",
            "Epoch 19/20\n",
            "230/230 - 0s - loss: 0.2410 - accuracy: 0.9043 - val_loss: 0.2416 - val_accuracy: 0.8846\n",
            "Epoch 20/20\n",
            "230/230 - 0s - loss: 0.2373 - accuracy: 0.9022 - val_loss: 0.2162 - val_accuracy: 0.8846\n"
          ],
          "name": "stdout"
        },
        {
          "output_type": "execute_result",
          "data": {
            "text/plain": [
              "<tensorflow.python.keras.callbacks.History at 0x7fe4da5a4748>"
            ]
          },
          "metadata": {
            "tags": []
          },
          "execution_count": 51
        }
      ]
    },
    {
      "cell_type": "code",
      "metadata": {
        "colab": {
          "base_uri": "https://localhost:8080/"
        },
        "id": "pSWvvYQ2cbYY",
        "outputId": "80f92d6e-f470-47a3-e338-16239417e8ed"
      },
      "source": [
        "#test\n",
        "predictions = arch.predict(testX, batch_size= 5, verbose=0)\n",
        "rounded = np.argmax(predictions, axis = 1)\n",
        "count = 0\n",
        "total = len(rounded)\n",
        "for i in range(len(rounded)):\n",
        "  if (rounded[i] == testY[i]):\n",
        "    count = count+1\n",
        "\n",
        "print(count/total)"
      ],
      "execution_count": 52,
      "outputs": [
        {
          "output_type": "stream",
          "text": [
            "0.7192982456140351\n"
          ],
          "name": "stdout"
        }
      ]
    }
  ]
}