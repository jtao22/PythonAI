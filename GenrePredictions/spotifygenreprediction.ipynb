{
  "nbformat": 4,
  "nbformat_minor": 0,
  "metadata": {
    "colab": {
      "name": "spotifygenreprediction.ipynb",
      "provenance": [],
      "authorship_tag": "ABX9TyOQz+8FRkkPxKG7oaAGe5ew",
      "include_colab_link": true
    },
    "kernelspec": {
      "display_name": "Python 3",
      "name": "python3"
    }
  },
  "cells": [
    {
      "cell_type": "markdown",
      "metadata": {
        "id": "view-in-github",
        "colab_type": "text"
      },
      "source": [
        "<a href=\"https://colab.research.google.com/github/jtao22/PythonAI/blob/main/GenrePredictions/spotifygenreprediction.ipynb\" target=\"_parent\"><img src=\"https://colab.research.google.com/assets/colab-badge.svg\" alt=\"Open In Colab\"/></a>"
      ]
    },
    {
      "cell_type": "code",
      "metadata": {
        "id": "omuj2J_r5lRj"
      },
      "source": [
        "#import\n",
        "import numpy as np\n",
        "import pandas as pd\n",
        "import matplotlib.pyplot as pyplot\n",
        "import seaborn as sb\n",
        "from sklearn.preprocessing import LabelEncoder as le\n",
        "from sklearn.model_selection import train_test_split as tts\n",
        "from sklearn.preprocessing import MinMaxScaler as mms\n",
        "from sklearn.preprocessing import StandardScaler as ss\n",
        "from sklearn.linear_model import LogisticRegression as lr\n",
        "from sklearn.tree import DecisionTreeClassifier as dtc\n",
        "from sklearn.ensemble import RandomForestClassifier as rfc\n",
        "from sklearn.metrics import confusion_matrix as cm"
      ],
      "execution_count": null,
      "outputs": []
    },
    {
      "cell_type": "code",
      "metadata": {
        "colab": {
          "background_save": true
        },
        "id": "BCqqiSQf6nFf"
      },
      "source": [
        "#Upload data\n",
        "from google.colab import files \n",
        "files.upload()"
      ],
      "execution_count": null,
      "outputs": []
    },
    {
      "cell_type": "code",
      "metadata": {
        "colab": {
          "base_uri": "https://localhost:8080/"
        },
        "id": "JKEamf2T7F6Z",
        "outputId": "62ace0f2-bd66-423f-925f-5d6a1510cad7"
      },
      "source": [
        "data = pd.read_csv('songs.csv')\n",
        "#filter\n",
        "data = data.drop([\"title\",\"Unnamed: 0\",\"song_name\",\"analysis_url\",\"track_href\",\"uri\",\"id\",\"type\"],axis=1)"
      ],
      "execution_count": 8,
      "outputs": [
        {
          "output_type": "stream",
          "text": [
            "/usr/local/lib/python3.6/dist-packages/IPython/core/interactiveshell.py:2718: DtypeWarning: Columns (19) have mixed types.Specify dtype option on import or set low_memory=False.\n",
            "  interactivity=interactivity, compiler=compiler, result=result)\n"
          ],
          "name": "stderr"
        }
      ]
    },
    {
      "cell_type": "code",
      "metadata": {
        "colab": {
          "base_uri": "https://localhost:8080/",
          "height": 204
        },
        "id": "JJFi4kur7UyW",
        "outputId": "838bfa69-60cb-43c9-8efb-3302fc49eddf"
      },
      "source": [
        "#check\n",
        "data.head(5)"
      ],
      "execution_count": 9,
      "outputs": [
        {
          "output_type": "execute_result",
          "data": {
            "text/html": [
              "<div>\n",
              "<style scoped>\n",
              "    .dataframe tbody tr th:only-of-type {\n",
              "        vertical-align: middle;\n",
              "    }\n",
              "\n",
              "    .dataframe tbody tr th {\n",
              "        vertical-align: top;\n",
              "    }\n",
              "\n",
              "    .dataframe thead th {\n",
              "        text-align: right;\n",
              "    }\n",
              "</style>\n",
              "<table border=\"1\" class=\"dataframe\">\n",
              "  <thead>\n",
              "    <tr style=\"text-align: right;\">\n",
              "      <th></th>\n",
              "      <th>danceability</th>\n",
              "      <th>energy</th>\n",
              "      <th>key</th>\n",
              "      <th>loudness</th>\n",
              "      <th>mode</th>\n",
              "      <th>speechiness</th>\n",
              "      <th>acousticness</th>\n",
              "      <th>instrumentalness</th>\n",
              "      <th>liveness</th>\n",
              "      <th>valence</th>\n",
              "      <th>tempo</th>\n",
              "      <th>duration_ms</th>\n",
              "      <th>time_signature</th>\n",
              "      <th>genre</th>\n",
              "    </tr>\n",
              "  </thead>\n",
              "  <tbody>\n",
              "    <tr>\n",
              "      <th>0</th>\n",
              "      <td>0.831</td>\n",
              "      <td>0.814</td>\n",
              "      <td>2</td>\n",
              "      <td>-7.364</td>\n",
              "      <td>1</td>\n",
              "      <td>0.4200</td>\n",
              "      <td>0.0598</td>\n",
              "      <td>0.013400</td>\n",
              "      <td>0.0556</td>\n",
              "      <td>0.3890</td>\n",
              "      <td>156.985</td>\n",
              "      <td>124539</td>\n",
              "      <td>4</td>\n",
              "      <td>Dark Trap</td>\n",
              "    </tr>\n",
              "    <tr>\n",
              "      <th>1</th>\n",
              "      <td>0.719</td>\n",
              "      <td>0.493</td>\n",
              "      <td>8</td>\n",
              "      <td>-7.230</td>\n",
              "      <td>1</td>\n",
              "      <td>0.0794</td>\n",
              "      <td>0.4010</td>\n",
              "      <td>0.000000</td>\n",
              "      <td>0.1180</td>\n",
              "      <td>0.1240</td>\n",
              "      <td>115.080</td>\n",
              "      <td>224427</td>\n",
              "      <td>4</td>\n",
              "      <td>Dark Trap</td>\n",
              "    </tr>\n",
              "    <tr>\n",
              "      <th>2</th>\n",
              "      <td>0.850</td>\n",
              "      <td>0.893</td>\n",
              "      <td>5</td>\n",
              "      <td>-4.783</td>\n",
              "      <td>1</td>\n",
              "      <td>0.0623</td>\n",
              "      <td>0.0138</td>\n",
              "      <td>0.000004</td>\n",
              "      <td>0.3720</td>\n",
              "      <td>0.0391</td>\n",
              "      <td>218.050</td>\n",
              "      <td>98821</td>\n",
              "      <td>4</td>\n",
              "      <td>Dark Trap</td>\n",
              "    </tr>\n",
              "    <tr>\n",
              "      <th>3</th>\n",
              "      <td>0.476</td>\n",
              "      <td>0.781</td>\n",
              "      <td>0</td>\n",
              "      <td>-4.710</td>\n",
              "      <td>1</td>\n",
              "      <td>0.1030</td>\n",
              "      <td>0.0237</td>\n",
              "      <td>0.000000</td>\n",
              "      <td>0.1140</td>\n",
              "      <td>0.1750</td>\n",
              "      <td>186.948</td>\n",
              "      <td>123661</td>\n",
              "      <td>3</td>\n",
              "      <td>Dark Trap</td>\n",
              "    </tr>\n",
              "    <tr>\n",
              "      <th>4</th>\n",
              "      <td>0.798</td>\n",
              "      <td>0.624</td>\n",
              "      <td>2</td>\n",
              "      <td>-7.668</td>\n",
              "      <td>1</td>\n",
              "      <td>0.2930</td>\n",
              "      <td>0.2170</td>\n",
              "      <td>0.000000</td>\n",
              "      <td>0.1660</td>\n",
              "      <td>0.5910</td>\n",
              "      <td>147.988</td>\n",
              "      <td>123298</td>\n",
              "      <td>4</td>\n",
              "      <td>Dark Trap</td>\n",
              "    </tr>\n",
              "  </tbody>\n",
              "</table>\n",
              "</div>"
            ],
            "text/plain": [
              "   danceability  energy  key  ...  duration_ms  time_signature      genre\n",
              "0         0.831   0.814    2  ...       124539               4  Dark Trap\n",
              "1         0.719   0.493    8  ...       224427               4  Dark Trap\n",
              "2         0.850   0.893    5  ...        98821               4  Dark Trap\n",
              "3         0.476   0.781    0  ...       123661               3  Dark Trap\n",
              "4         0.798   0.624    2  ...       123298               4  Dark Trap\n",
              "\n",
              "[5 rows x 14 columns]"
            ]
          },
          "metadata": {
            "tags": []
          },
          "execution_count": 9
        }
      ]
    },
    {
      "cell_type": "code",
      "metadata": {
        "id": "16fa86-oAO9U"
      },
      "source": [
        "#split data\n",
        "trainX,testX,trainY,testY = tts(data.iloc[:,0:12].values, data.iloc[:,-1].values, test_size = 0.2, random_state = 42)\n",
        "#scale features\n",
        "scaler = mms(feature_range = (0,1))\n",
        "trainX = scaler.fit_transform(trainX)\n",
        "testX = scaler.fit_transform(testX)\n",
        "# one-hot encoding\n",
        "LE = le()\n",
        "trainY = LE.fit_transform(trainY)\n",
        "testY = LE.fit_transform(testY)"
      ],
      "execution_count": 34,
      "outputs": []
    },
    {
      "cell_type": "code",
      "metadata": {
        "id": "WLSfyuD6AC1V"
      },
      "source": [
        "#create architecture function\n",
        "def arch(trainX, trainY):\n",
        "  #Logistic Regression\n",
        "  logReg = lr(random_state = 42)\n",
        "  logReg.fit(trainX, trainY)\n",
        "  #Decision Tree\n",
        "  DTC = dtc(criterion='entropy', random_state = 42)\n",
        "  DTC.fit(trainX, trainY)\n",
        "  #Random Forest Classifier\n",
        "  RFC = rfc(n_estimators = 20, criterion = 'entropy', random_state = 42)\n",
        "  RFC.fit(trainX, trainY)\n",
        "  #print\n",
        "  print('Logistic Regression Training Accuracy: ', logReg.score(trainX,trainY) * 100, '%')\n",
        "  print('Decision Tree Classifier Accuracy: ', DTC.score(trainX,trainY)*100, '%')\n",
        "  print('Random Forest Classifier Accuracy: ', RFC.score(trainX,trainY)*100, '%') \n",
        "  #return\n",
        "  return logReg, DTC, RFC"
      ],
      "execution_count": 45,
      "outputs": []
    },
    {
      "cell_type": "code",
      "metadata": {
        "colab": {
          "base_uri": "https://localhost:8080/"
        },
        "id": "k0RfjDuKGG_V",
        "outputId": "155e8051-4074-4a46-b158-b83e4299cc37"
      },
      "source": [
        "#create model\n",
        "models = arch(trainX, trainY)"
      ],
      "execution_count": 46,
      "outputs": [
        {
          "output_type": "stream",
          "text": [
            "/usr/local/lib/python3.6/dist-packages/sklearn/linear_model/_logistic.py:940: ConvergenceWarning: lbfgs failed to converge (status=1):\n",
            "STOP: TOTAL NO. of ITERATIONS REACHED LIMIT.\n",
            "\n",
            "Increase the number of iterations (max_iter) or scale the data as shown in:\n",
            "    https://scikit-learn.org/stable/modules/preprocessing.html\n",
            "Please also refer to the documentation for alternative solver options:\n",
            "    https://scikit-learn.org/stable/modules/linear_model.html#logistic-regression\n",
            "  extra_warning_msg=_LOGISTIC_SOLVER_CONVERGENCE_MSG)\n"
          ],
          "name": "stderr"
        },
        {
          "output_type": "stream",
          "text": [
            "Logistic Regression Training Accuracy:  57.72662805814915 %\n",
            "Decision Tree Classifier Accuracy:  93.8718827561754 %\n",
            "Random Forest Classifier Accuracy:  93.77733128471813 %\n"
          ],
          "name": "stdout"
        }
      ]
    },
    {
      "cell_type": "code",
      "metadata": {
        "colab": {
          "base_uri": "https://localhost:8080/"
        },
        "id": "A_JiYvxMsFU5",
        "outputId": "ea7abdf8-44b8-493e-fd43-f0b617e8fd02"
      },
      "source": [
        "#test data\n",
        "names = ['Logistic Regression', 'Decision Tree Classifier', 'Random Forest Classifier']\n",
        "for i in range(3):\n",
        "  predictions = models[i].predict(testX)\n",
        "  count = 0\n",
        "  total = len(predictions)\n",
        "  for j in range(len(predictions)):\n",
        "    if (predictions[j] == testY[j]):\n",
        "      count = count + 1\n",
        "  print(names[i],\": \", count/total*100, '%')"
      ],
      "execution_count": 47,
      "outputs": [
        {
          "output_type": "stream",
          "text": [
            "Logistic Regression :  57.191821297718946 %\n",
            "Decision Tree Classifier :  46.897529842808176 %\n",
            "Random Forest Classifier :  60.90296655241697 %\n"
          ],
          "name": "stdout"
        }
      ]
    }
  ]
}