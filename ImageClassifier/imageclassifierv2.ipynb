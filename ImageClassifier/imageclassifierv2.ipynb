{
  "nbformat": 4,
  "nbformat_minor": 0,
  "metadata": {
    "colab": {
      "name": "imageclassifierv2.ipynb",
      "provenance": [],
      "authorship_tag": "ABX9TyMXL3FcGz8GwWqAdkushdH1",
      "include_colab_link": true
    },
    "kernelspec": {
      "name": "python3",
      "display_name": "Python 3"
    }
  },
  "cells": [
    {
      "cell_type": "markdown",
      "metadata": {
        "id": "view-in-github",
        "colab_type": "text"
      },
      "source": [
        "<a href=\"https://colab.research.google.com/github/jtao22/PythonAI/blob/main/ImageClassifier/imageclassifierv2.ipynb\" target=\"_parent\"><img src=\"https://colab.research.google.com/assets/colab-badge.svg\" alt=\"Open In Colab\"/></a>"
      ]
    },
    {
      "cell_type": "code",
      "metadata": {
        "id": "zBq-kVbGOxNM"
      },
      "source": [
        "#import \n",
        "import tensorflow as tf\n",
        "from tensorflow import keras\n",
        "from keras.models import Sequential as seq\n",
        "from keras.layers import Dense, Flatten, Conv2D, Dropout\n",
        "from keras.layers import MaxPooling2D as mp2d \n",
        "from tensorflow.keras import layers\n",
        "from keras.utils import to_categorical\n",
        "import numpy as np\n",
        "import matplotlib.pyplot as pyplot\n",
        "pyplot.style.use('fivethirtyeight')"
      ],
      "execution_count": 8,
      "outputs": []
    },
    {
      "cell_type": "code",
      "metadata": {
        "id": "WUGtAKBIBJoz",
        "colab": {
          "base_uri": "https://localhost:8080/"
        },
        "outputId": "9a1cce57-7405-4eac-d831-37e2a80acb9f"
      },
      "source": [
        "#upload data\n",
        "data = keras.datasets.fashion_mnist \n",
        "(trainX, trainY), (testX, testY) = data.load_data()"
      ],
      "execution_count": 15,
      "outputs": [
        {
          "output_type": "execute_result",
          "data": {
            "text/plain": [
              "(60000, 28, 28)"
            ]
          },
          "metadata": {
            "tags": []
          },
          "execution_count": 15
        }
      ]
    },
    {
      "cell_type": "code",
      "metadata": {
        "id": "RHBzbRoqBf90"
      },
      "source": [
        "#create ANN architecture\n",
        "arch = keras.Sequential([\n",
        "  keras.layers.Flatten(input_shape = (28,28)), #flattening images\n",
        "  keras.layers.Dense(256, activation='relu'), #256 neuron layer\n",
        "  keras.layers.Dense(128, activation='relu'), #128 neuron layer\n",
        "  keras.layers.Dense(64, activation='relu'),  #64 neuron layer\n",
        "  keras.layers.Dense(10, activation='softmax') #10 neuron output layer\n",
        "])\n",
        "#compile \n",
        "arch.compile(optimizer='adam', loss='sparse_categorical_crossentropy', metrics = ['accuracy'])"
      ],
      "execution_count": 13,
      "outputs": []
    },
    {
      "cell_type": "code",
      "metadata": {
        "colab": {
          "base_uri": "https://localhost:8080/"
        },
        "id": "2jT_uI7QEDt8",
        "outputId": "3a9df9f5-f72f-4c38-df0b-67dea11eee9d"
      },
      "source": [
        "#train architecture \n",
        "arch.fit(trainX, trainY, epochs=12, batch_size=64, shuffle=True)"
      ],
      "execution_count": 16,
      "outputs": [
        {
          "output_type": "stream",
          "text": [
            "Epoch 1/12\n",
            "938/938 [==============================] - 5s 5ms/step - loss: 0.3609 - accuracy: 0.8755\n",
            "Epoch 2/12\n",
            "938/938 [==============================] - 5s 5ms/step - loss: 0.3498 - accuracy: 0.8785\n",
            "Epoch 3/12\n",
            "938/938 [==============================] - 5s 5ms/step - loss: 0.3452 - accuracy: 0.8789\n",
            "Epoch 4/12\n",
            "938/938 [==============================] - 5s 5ms/step - loss: 0.3431 - accuracy: 0.8801\n",
            "Epoch 5/12\n",
            "938/938 [==============================] - 4s 5ms/step - loss: 0.3498 - accuracy: 0.8819\n",
            "Epoch 6/12\n",
            "938/938 [==============================] - 5s 5ms/step - loss: 0.3278 - accuracy: 0.8839\n",
            "Epoch 7/12\n",
            "938/938 [==============================] - 5s 5ms/step - loss: 0.3297 - accuracy: 0.8839\n",
            "Epoch 8/12\n",
            "938/938 [==============================] - 5s 5ms/step - loss: 0.3201 - accuracy: 0.8863\n",
            "Epoch 9/12\n",
            "938/938 [==============================] - 5s 5ms/step - loss: 0.3132 - accuracy: 0.8888\n",
            "Epoch 10/12\n",
            "938/938 [==============================] - 5s 5ms/step - loss: 0.3125 - accuracy: 0.8878\n",
            "Epoch 11/12\n",
            "938/938 [==============================] - 5s 5ms/step - loss: 0.3032 - accuracy: 0.8904\n",
            "Epoch 12/12\n",
            "938/938 [==============================] - 4s 5ms/step - loss: 0.3013 - accuracy: 0.8916\n"
          ],
          "name": "stdout"
        },
        {
          "output_type": "execute_result",
          "data": {
            "text/plain": [
              "<tensorflow.python.keras.callbacks.History at 0x7f7ec46a5710>"
            ]
          },
          "metadata": {
            "tags": []
          },
          "execution_count": 16
        }
      ]
    },
    {
      "cell_type": "code",
      "metadata": {
        "colab": {
          "base_uri": "https://localhost:8080/"
        },
        "id": "6WIciMAUJUuD",
        "outputId": "8f54335c-56ff-448c-c9a4-108043febcc6"
      },
      "source": [
        "#evaluate architecture\n",
        "arch.evaluate(trainX, trainY)"
      ],
      "execution_count": 17,
      "outputs": [
        {
          "output_type": "stream",
          "text": [
            "1875/1875 [==============================] - 3s 1ms/step - loss: 0.3547 - accuracy: 0.8813\n"
          ],
          "name": "stdout"
        },
        {
          "output_type": "execute_result",
          "data": {
            "text/plain": [
              "[0.3546743392944336, 0.8812833428382874]"
            ]
          },
          "metadata": {
            "tags": []
          },
          "execution_count": 17
        }
      ]
    },
    {
      "cell_type": "code",
      "metadata": {
        "colab": {
          "base_uri": "https://localhost:8080/"
        },
        "id": "S_rh9PAyJiP5",
        "outputId": "304df5a2-2093-479e-bc64-4fe5e0f8c4eb"
      },
      "source": [
        "#predict\n",
        "predictions = arch.predict(testX[0:])\n",
        "prediction = np.argmax(predictions, axis=1)\n",
        "print(prediction)\n",
        "print(testY)\n",
        "percentage = 10000\n",
        "for i in range(0,10000):\n",
        "  if (testY[i] != prediction[i]):\n",
        "    percentage - 1\n",
        "    \n",
        "\n",
        "print(percentage/100, \"percent!\")\n",
        "predictions"
      ],
      "execution_count": 20,
      "outputs": [
        {
          "output_type": "stream",
          "text": [
            "[9 2 1 ... 8 1 5]\n",
            "[9 2 1 ... 8 1 5]\n",
            "100.0 percent!\n"
          ],
          "name": "stdout"
        },
        {
          "output_type": "execute_result",
          "data": {
            "text/plain": [
              "array([[2.4666373e-18, 0.0000000e+00, 0.0000000e+00, ..., 1.6091535e-02,\n",
              "        1.5958286e-06, 9.8186952e-01],\n",
              "       [8.8976725e-05, 1.1259620e-03, 9.9299252e-01, ..., 0.0000000e+00,\n",
              "        2.9383905e-04, 1.7695722e-31],\n",
              "       [7.6496392e-34, 1.0000000e+00, 1.6868286e-30, ..., 0.0000000e+00,\n",
              "        1.3872520e-21, 0.0000000e+00],\n",
              "       ...,\n",
              "       [7.3052694e-19, 5.7847260e-33, 0.0000000e+00, ..., 0.0000000e+00,\n",
              "        1.0000000e+00, 0.0000000e+00],\n",
              "       [6.3915432e-17, 1.0000000e+00, 2.4937736e-12, ..., 0.0000000e+00,\n",
              "        4.1640083e-10, 0.0000000e+00],\n",
              "       [9.1893373e-05, 1.7950324e-36, 5.0453745e-14, ..., 1.5033484e-02,\n",
              "        3.8554524e-03, 3.5017775e-03]], dtype=float32)"
            ]
          },
          "metadata": {
            "tags": []
          },
          "execution_count": 20
        }
      ]
    }
  ]
}