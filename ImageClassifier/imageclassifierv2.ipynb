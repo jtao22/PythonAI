{
  "nbformat": 4,
  "nbformat_minor": 0,
  "metadata": {
    "colab": {
      "name": "imageclassifierv2.ipynb",
      "provenance": [],
      "authorship_tag": "ABX9TyNfA459Z2yMq0r7HBMDwF29",
      "include_colab_link": true
    },
    "kernelspec": {
      "name": "python3",
      "display_name": "Python 3"
    }
  },
  "cells": [
    {
      "cell_type": "markdown",
      "metadata": {
        "id": "view-in-github",
        "colab_type": "text"
      },
      "source": [
        "<a href=\"https://colab.research.google.com/github/jtao22/PythonAI/blob/main/imageclassifierv2.ipynb\" target=\"_parent\"><img src=\"https://colab.research.google.com/assets/colab-badge.svg\" alt=\"Open In Colab\"/></a>"
      ]
    },
    {
      "cell_type": "code",
      "metadata": {
        "id": "zBq-kVbGOxNM"
      },
      "source": [
        "#import \n",
        "import tensorflow as tf\n",
        "from tensorflow import keras\n",
        "import numpy as np\n",
        "import matplotlib.pyplot as pyplot\n"
      ],
      "execution_count": 9,
      "outputs": []
    },
    {
      "cell_type": "code",
      "metadata": {
        "id": "WUGtAKBIBJoz"
      },
      "source": [
        "#upload data\n",
        "data = keras.datasets.fashion_mnist \n",
        "(trainX, trainY), (testX, testY) = data.load_data()"
      ],
      "execution_count": 10,
      "outputs": []
    },
    {
      "cell_type": "code",
      "metadata": {
        "id": "RHBzbRoqBf90"
      },
      "source": [
        "#create ANN architecture\n",
        "arch = keras.Sequential([\n",
        "  keras.layers.Flatten(input_shape = (28,28)), #flattening images\n",
        "  keras.layers.Dense(256, activation='relu'), #256 neuron layer\n",
        "  keras.layers.Dense(128, activation='relu'), #128 neuron layer\n",
        "  keras.layers.Dense(64, activation='relu'),  #64 neuron layer\n",
        "  keras.layers.Dense(10, activation='softmax') #10 neuron output layer\n",
        "])\n",
        "#compile \n",
        "arch.compile(optimizer='adam', loss='sparse_categorical_crossentropy', metrics = ['accuracy'])"
      ],
      "execution_count": 13,
      "outputs": []
    },
    {
      "cell_type": "code",
      "metadata": {
        "colab": {
          "base_uri": "https://localhost:8080/"
        },
        "id": "2jT_uI7QEDt8",
        "outputId": "8fcba100-f0c1-4886-8f82-f196f369e5ae"
      },
      "source": [
        "#train architecture \n",
        "arch.fit(trainX, trainY, epochs=6, batch_size=8)"
      ],
      "execution_count": 23,
      "outputs": [
        {
          "output_type": "stream",
          "text": [
            "Epoch 1/6\n",
            "7500/7500 [==============================] - 22s 3ms/step - loss: 0.3766 - accuracy: 0.8768\n",
            "Epoch 2/6\n",
            "7500/7500 [==============================] - 22s 3ms/step - loss: 0.3875 - accuracy: 0.8777\n",
            "Epoch 3/6\n",
            "7500/7500 [==============================] - 22s 3ms/step - loss: 0.3617 - accuracy: 0.8778\n",
            "Epoch 4/6\n",
            "7500/7500 [==============================] - 22s 3ms/step - loss: 0.3886 - accuracy: 0.8763\n",
            "Epoch 5/6\n",
            "7500/7500 [==============================] - 21s 3ms/step - loss: 0.4157 - accuracy: 0.8704\n",
            "Epoch 6/6\n",
            "7500/7500 [==============================] - 22s 3ms/step - loss: 0.3598 - accuracy: 0.8793\n"
          ],
          "name": "stdout"
        },
        {
          "output_type": "execute_result",
          "data": {
            "text/plain": [
              "<tensorflow.python.keras.callbacks.History at 0x7f2fa52982b0>"
            ]
          },
          "metadata": {
            "tags": []
          },
          "execution_count": 23
        }
      ]
    },
    {
      "cell_type": "code",
      "metadata": {
        "colab": {
          "base_uri": "https://localhost:8080/"
        },
        "id": "6WIciMAUJUuD",
        "outputId": "d52059aa-8f46-4b97-b640-a2d0e5aef131"
      },
      "source": [
        "#evaluate architecture\n",
        "arch.evaluate(testX, testY)"
      ],
      "execution_count": 24,
      "outputs": [
        {
          "output_type": "stream",
          "text": [
            "313/313 [==============================] - 1s 2ms/step - loss: 1.0132 - accuracy: 0.8613\n"
          ],
          "name": "stdout"
        },
        {
          "output_type": "execute_result",
          "data": {
            "text/plain": [
              "[1.0131734609603882, 0.861299991607666]"
            ]
          },
          "metadata": {
            "tags": []
          },
          "execution_count": 24
        }
      ]
    },
    {
      "cell_type": "code",
      "metadata": {
        "colab": {
          "base_uri": "https://localhost:8080/"
        },
        "id": "S_rh9PAyJiP5",
        "outputId": "2793a012-853d-4bdd-f344-5c120a496b04"
      },
      "source": [
        "#predict\n",
        "predictions = arch.predict(testX[0:])\n",
        "prediction = np.argmax(predictions, axis=1)\n",
        "print(prediction)\n",
        "print(testY)\n",
        "percentage = 10000\n",
        "for i in range(0,10000):\n",
        "  if (testY[i] != prediction[i]):\n",
        "    percentage - 1\n",
        "    \n",
        "\n",
        "print(percentage/100, \"percent!\")"
      ],
      "execution_count": 47,
      "outputs": [
        {
          "output_type": "stream",
          "text": [
            "[9 2 1 ... 8 1 5]\n",
            "[9 2 1 ... 8 1 5]\n",
            "100.0 percent\n"
          ],
          "name": "stdout"
        }
      ]
    }
  ]
}
