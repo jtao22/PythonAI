{
  "nbformat": 4,
  "nbformat_minor": 0,
  "metadata": {
    "accelerator": "GPU",
    "colab": {
      "name": "handwritingclassification.ipynb",
      "provenance": [],
      "authorship_tag": "ABX9TyPLm5Jjq7m4Grzeb7LlhwLp",
      "include_colab_link": true
    },
    "kernelspec": {
      "display_name": "Python 3",
      "name": "python3"
    }
  },
  "cells": [
    {
      "cell_type": "markdown",
      "metadata": {
        "id": "view-in-github",
        "colab_type": "text"
      },
      "source": [
        "<a href=\"https://colab.research.google.com/github/jtao22/PythonAI/blob/main/ImageClassifier/digitclassification.ipynb\" target=\"_parent\"><img src=\"https://colab.research.google.com/assets/colab-badge.svg\" alt=\"Open In Colab\"/></a>"
      ]
    },
    {
      "cell_type": "code",
      "metadata": {
        "id": "i5KO8jTvqdsv"
      },
      "source": [
        "!pip install tensorflow keras mnist numpy matplotlib"
      ],
      "execution_count": null,
      "outputs": []
    },
    {
      "cell_type": "code",
      "metadata": {
        "id": "8mWkoLjasGk2"
      },
      "source": [
        "#Import\n",
        "import tensorflow as tf\n",
        "from tensorflow import keras\n",
        "import mnist\n",
        "from keras.models import Sequential as seq\n",
        "from keras.layers import Dense, Flatten, Conv2D, Dropout\n",
        "from keras.layers import MaxPooling2D as mp2d \n",
        "from tensorflow.keras import layers\n",
        "from keras.utils import to_categorical as tc\n",
        "import numpy as np\n",
        "import matplotlib.pyplot as pyplot\n",
        "pyplot.style.use('fivethirtyeight')"
      ],
      "execution_count": null,
      "outputs": []
    },
    {
      "cell_type": "code",
      "metadata": {
        "id": "oTKEs94ZslYX"
      },
      "source": [
        "#Upload data\n",
        "trainX = mnist.train_images()\n",
        "trainY = mnist.train_labels()\n",
        "testX = mnist.test_images()\n",
        "testY = mnist.test_labels()"
      ],
      "execution_count": null,
      "outputs": []
    },
    {
      "cell_type": "code",
      "metadata": {
        "colab": {
          "base_uri": "https://localhost:8080/"
        },
        "id": "LPLQaPYBs1sI",
        "outputId": "afc1daa8-5752-41f5-9867-599305a696f5"
      },
      "source": [
        "#Normalize to 0-1 values\n",
        "trainX = trainX/255\n",
        "testX = testX/255\n",
        "#one-hot encoding \n",
        "trainY1h = tc(trainY)\n",
        "testY1h = tc(testY)\n",
        "trainX = trainX.reshape(trainX.shape[0], 28, 28, 1)\n",
        "testX = testX.reshape(testX.shape[0], 28, 28, -1)\n",
        "print(trainX.shape)"
      ],
      "execution_count": null,
      "outputs": [
        {
          "output_type": "stream",
          "text": [
            "(60000, 28, 28, 1)\n"
          ],
          "name": "stdout"
        }
      ]
    },
    {
      "cell_type": "code",
      "metadata": {
        "id": "s5zSUCXCthOA"
      },
      "source": [
        "#create architecture\n",
        "arch = seq()\n",
        "#create NN\n",
        "arch.add(Conv2D(28, (2,2), activation='relu', input_shape=(28,28,1))) #first convolution layer\n",
        "arch.add(mp2d(pool_size=(2,2))) # first pooling layer\n",
        "arch.add(Conv2D(28, (2,2), activation='relu')) #second convolution layer\n",
        "arch.add(mp2d(pool_size=(2,2))) # second pooling layer\n",
        "arch.add(Flatten()) #flattening layer\n",
        "arch.add(Dense(1024, activation='relu')) #1024 neuron layer\n",
        "arch.add(Dropout(0.5)) #first dropout layer\n",
        "arch.add(Dense(512, activation='relu')) #512 neuron layer\n",
        "arch.add(Dropout(0.5)) #second dropout layer\n",
        "arch.add(Dense(256, activation='relu')) #256 neuron layer\n",
        "arch.add(Dense(10, activation='softmax')) #10 neuron layer\n",
        "#compile\n",
        "arch.compile(loss='categorical_crossentropy', optimizer='adam', metrics=['accuracy'])"
      ],
      "execution_count": null,
      "outputs": []
    },
    {
      "cell_type": "code",
      "metadata": {
        "colab": {
          "background_save": true,
          "base_uri": "https://localhost:8080/"
        },
        "id": "GInz80tYxBaN",
        "outputId": "87c42036-d1af-4966-fcc0-db7a3a6b4f9c"
      },
      "source": [
        "#train\n",
        "hist = arch.fit(trainX,trainY1h, batch_size=10, epochs=12, validation_split = 0.15)"
      ],
      "execution_count": null,
      "outputs": [
        {
          "output_type": "stream",
          "text": [
            "Epoch 1/12\n",
            "5100/5100 [==============================] - 23s 3ms/step - loss: 0.3866 - accuracy: 0.8744 - val_loss: 0.0600 - val_accuracy: 0.9827\n",
            "Epoch 2/12\n",
            "5100/5100 [==============================] - 16s 3ms/step - loss: 0.0985 - accuracy: 0.9734 - val_loss: 0.0752 - val_accuracy: 0.9822\n",
            "Epoch 3/12\n",
            "5100/5100 [==============================] - 16s 3ms/step - loss: 0.0807 - accuracy: 0.9790 - val_loss: 0.0480 - val_accuracy: 0.9888\n",
            "Epoch 4/12\n",
            "5100/5100 [==============================] - 15s 3ms/step - loss: 0.0625 - accuracy: 0.9835 - val_loss: 0.0483 - val_accuracy: 0.9884\n",
            "Epoch 5/12\n",
            "5100/5100 [==============================] - 15s 3ms/step - loss: 0.0603 - accuracy: 0.9846 - val_loss: 0.0803 - val_accuracy: 0.9831\n",
            "Epoch 6/12\n",
            "5100/5100 [==============================] - 16s 3ms/step - loss: 0.0570 - accuracy: 0.9854 - val_loss: 0.0558 - val_accuracy: 0.9869\n",
            "Epoch 7/12\n",
            "5100/5100 [==============================] - 16s 3ms/step - loss: 0.0544 - accuracy: 0.9865 - val_loss: 0.0588 - val_accuracy: 0.9853\n",
            "Epoch 8/12\n",
            "5100/5100 [==============================] - 17s 3ms/step - loss: 0.0485 - accuracy: 0.9876 - val_loss: 0.0589 - val_accuracy: 0.9880\n",
            "Epoch 9/12\n",
            "5100/5100 [==============================] - 16s 3ms/step - loss: 0.0492 - accuracy: 0.9875 - val_loss: 0.0623 - val_accuracy: 0.9871\n",
            "Epoch 10/12\n",
            "5100/5100 [==============================] - 15s 3ms/step - loss: 0.0484 - accuracy: 0.9885 - val_loss: 0.0670 - val_accuracy: 0.9889\n",
            "Epoch 11/12\n",
            "5100/5100 [==============================] - 15s 3ms/step - loss: 0.0477 - accuracy: 0.9887 - val_loss: 0.0643 - val_accuracy: 0.9869\n",
            "Epoch 12/12\n",
            "5100/5100 [==============================] - 15s 3ms/step - loss: 0.0467 - accuracy: 0.9894 - val_loss: 0.0489 - val_accuracy: 0.9893\n"
          ],
          "name": "stdout"
        }
      ]
    },
    {
      "cell_type": "code",
      "metadata": {
        "colab": {
          "base_uri": "https://localhost:8080/",
          "height": 342
        },
        "id": "6kWiYYy-jG6L",
        "outputId": "17f80fee-d736-4945-bdbc-9d65f60baaf3"
      },
      "source": [
        "#check test data\n",
        "arch.evaluate(testX,testY1h)[1]\n",
        "#plot\n",
        "pyplot.plot(hist.history['accuracy'])\n",
        "pyplot.plot(hist.history['val_accuracy'])\n",
        "pyplot.title('Arch Acc.')\n",
        "pyplot.xlabel('epoch')\n",
        "pyplot.ylabel('Accuracy /1')\n",
        "pyplot.legend(['Train', 'Validation'], loc = 'upper right')\n",
        "pyplot.show()"
      ],
      "execution_count": 26,
      "outputs": [
        {
          "output_type": "stream",
          "text": [
            "313/313 [==============================] - 1s 3ms/step - loss: 0.0482 - accuracy: 0.9864\n"
          ],
          "name": "stdout"
        },
        {
          "output_type": "display_data",
          "data": {
            "image/png": "[encoded data removed]",
            "text/plain": [
              "<Figure size 432x288 with 1 Axes>"
            ]
          },
          "metadata": {
            "tags": []
          }
        }
      ]
    },
    {
      "cell_type": "code",
      "metadata": {
        "id": "YagWcQD2jR0R"
      },
      "source": [
        "#test a random image from online \n",
        "from google.colab import files \n",
        "uploaded = files.upload()"
      ],
      "execution_count": null,
      "outputs": []
    },
    {
      "cell_type": "code",
      "metadata": {
        "id": "y3PGq25smJfM"
      },
      "source": [
        "#structure input\n",
        "image = pyplot.imread('imagename.png')\n",
        "from skimage.transform import resize\n",
        "resized = resize(image,(28,28,1))\n",
        "#predict\n",
        "predictions = arch.predict(np.array([resized]))\n",
        "best = 0\n",
        "for i in range(10):\n",
        "  if (predictions[0][i] > predictions[0][best]):\n",
        "    best = i\n",
        "\n",
        "print(best)"
      ],
      "execution_count": null,
      "outputs": []
    }
  ]
}