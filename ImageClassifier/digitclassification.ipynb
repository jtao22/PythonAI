{
  "nbformat": 4,
  "nbformat_minor": 0,
  "metadata": {
    "accelerator": "GPU",
    "colab": {
      "name": "digitclassification.ipynb",
      "provenance": [],
      "authorship_tag": "ABX9TyMxT2l1kWKS38jCvQbJfsj8",
      "include_colab_link": true
    },
    "kernelspec": {
      "display_name": "Python 3",
      "name": "python3"
    }
  },
  "cells": [
    {
      "cell_type": "markdown",
      "metadata": {
        "id": "view-in-github",
        "colab_type": "text"
      },
      "source": [
        "<a href=\"https://colab.research.google.com/github/jtao22/PythonAI/blob/main/ImageClassifier/digitclassification.ipynb\" target=\"_parent\"><img src=\"https://colab.research.google.com/assets/colab-badge.svg\" alt=\"Open In Colab\"/></a>"
      ]
    },
    {
      "cell_type": "code",
      "metadata": {
        "id": "i5KO8jTvqdsv",
        "colab": {
          "base_uri": "https://localhost:8080/"
        },
        "outputId": "3b91c770-d685-4371-d493-25872d43033e"
      },
      "source": [
        "!pip install tensorflow keras mnist numpy matplotlib"
      ],
      "execution_count": 2,
      "outputs": [
        {
          "output_type": "stream",
          "text": [
            "Installing collected packages: mnist\n",
            "Successfully installed mnist-0.2.2\n"
          ],
          "name": "stdout"
        }
      ]
    },
    {
      "cell_type": "code",
      "metadata": {
        "id": "8mWkoLjasGk2"
      },
      "source": [
        "#Import\n",
        "import tensorflow as tf\n",
        "from tensorflow import keras\n",
        "import mnist\n",
        "from keras.models import Sequential as seq\n",
        "from keras.layers import Dense, Flatten, Conv2D, Dropout\n",
        "from keras.layers import MaxPooling2D as mp2d \n",
        "from tensorflow.keras import layers\n",
        "from keras.utils import to_categorical as tc\n",
        "import numpy as np\n",
        "import matplotlib.pyplot as pyplot\n",
        "pyplot.style.use('fivethirtyeight')"
      ],
      "execution_count": 3,
      "outputs": []
    },
    {
      "cell_type": "code",
      "metadata": {
        "id": "oTKEs94ZslYX"
      },
      "source": [
        "#Upload data\n",
        "trainX = mnist.train_images()\n",
        "trainY = mnist.train_labels()\n",
        "testX = mnist.test_images()\n",
        "testY = mnist.test_labels()"
      ],
      "execution_count": 4,
      "outputs": []
    },
    {
      "cell_type": "code",
      "metadata": {
        "colab": {
          "base_uri": "https://localhost:8080/"
        },
        "id": "LPLQaPYBs1sI",
        "outputId": "9412a72d-2ebe-4a17-bc69-010f5a128a3f"
      },
      "source": [
        "#Normalize to 0-1 values\n",
        "trainX = trainX/255\n",
        "testX = testX/255\n",
        "#one-hot encoding \n",
        "trainY1h = tc(trainY)\n",
        "testY1h = tc(testY)\n",
        "trainX = trainX.reshape(trainX.shape[0], 28, 28, 1)\n",
        "testX = testX.reshape(testX.shape[0], 28, 28, -1)\n",
        "print(trainX.shape)"
      ],
      "execution_count": 5,
      "outputs": [
        {
          "output_type": "stream",
          "text": [
            "(60000, 28, 28, 1)\n"
          ],
          "name": "stdout"
        }
      ]
    },
    {
      "cell_type": "code",
      "metadata": {
        "id": "s5zSUCXCthOA"
      },
      "source": [
        "#create architecture\n",
        "arch = seq()\n",
        "#create NN\n",
        "arch.add(Conv2D(28, (2,2), activation='relu', input_shape=(28,28,1))) #first convolution layer\n",
        "arch.add(mp2d(pool_size=(2,2))) # first pooling layer\n",
        "arch.add(Conv2D(28, (2,2), activation='relu')) #second convolution layer\n",
        "arch.add(mp2d(pool_size=(2,2))) # second pooling layer\n",
        "arch.add(Flatten()) #flattening layer\n",
        "arch.add(Dense(1024, activation='relu')) #1024 neuron layer\n",
        "arch.add(Dropout(0.5)) #first dropout layer\n",
        "arch.add(Dense(512, activation='relu')) #512 neuron layer\n",
        "arch.add(Dropout(0.5)) #second dropout layer\n",
        "arch.add(Dense(256, activation='relu')) #256 neuron layer\n",
        "arch.add(Dense(10, activation='softmax')) #10 neuron layer\n",
        "#compile\n",
        "arch.compile(loss='categorical_crossentropy', optimizer='adam', metrics=['accuracy'])"
      ],
      "execution_count": 6,
      "outputs": []
    },
    {
      "cell_type": "code",
      "metadata": {
        "colab": {
          "base_uri": "https://localhost:8080/"
        },
        "id": "GInz80tYxBaN",
        "outputId": "874e6be1-d91f-4632-ca12-74bd9567e356"
      },
      "source": [
        "#train\n",
        "hist = arch.fit(trainX,trainY1h, batch_size=128, epochs=20, validation_split = 0.15)"
      ],
      "execution_count": 9,
      "outputs": [
        {
          "output_type": "stream",
          "text": [
            "Epoch 1/20\n",
            "399/399 [==============================] - 2s 4ms/step - loss: 0.0052 - accuracy: 0.9986 - val_loss: 0.0768 - val_accuracy: 0.9914\n",
            "Epoch 2/20\n",
            "399/399 [==============================] - 2s 5ms/step - loss: 0.0053 - accuracy: 0.9987 - val_loss: 0.0762 - val_accuracy: 0.9902\n",
            "Epoch 3/20\n",
            "399/399 [==============================] - 2s 4ms/step - loss: 0.0038 - accuracy: 0.9989 - val_loss: 0.0878 - val_accuracy: 0.9891\n",
            "Epoch 4/20\n",
            "399/399 [==============================] - 2s 5ms/step - loss: 0.0044 - accuracy: 0.9989 - val_loss: 0.0804 - val_accuracy: 0.9908\n",
            "Epoch 5/20\n",
            "399/399 [==============================] - 2s 5ms/step - loss: 0.0033 - accuracy: 0.9990 - val_loss: 0.0743 - val_accuracy: 0.9910\n",
            "Epoch 6/20\n",
            "399/399 [==============================] - 2s 5ms/step - loss: 0.0050 - accuracy: 0.9989 - val_loss: 0.0846 - val_accuracy: 0.9903\n",
            "Epoch 7/20\n",
            "399/399 [==============================] - 2s 5ms/step - loss: 0.0039 - accuracy: 0.9990 - val_loss: 0.0873 - val_accuracy: 0.9904\n",
            "Epoch 8/20\n",
            "399/399 [==============================] - 2s 5ms/step - loss: 0.0048 - accuracy: 0.9987 - val_loss: 0.0729 - val_accuracy: 0.9910\n",
            "Epoch 9/20\n",
            "399/399 [==============================] - 2s 4ms/step - loss: 0.0054 - accuracy: 0.9985 - val_loss: 0.0765 - val_accuracy: 0.9914\n",
            "Epoch 10/20\n",
            "399/399 [==============================] - 2s 5ms/step - loss: 0.0057 - accuracy: 0.9985 - val_loss: 0.0780 - val_accuracy: 0.9911\n",
            "Epoch 11/20\n",
            "399/399 [==============================] - 2s 5ms/step - loss: 0.0059 - accuracy: 0.9986 - val_loss: 0.1017 - val_accuracy: 0.9894\n",
            "Epoch 12/20\n",
            "399/399 [==============================] - 2s 5ms/step - loss: 0.0041 - accuracy: 0.9986 - val_loss: 0.1058 - val_accuracy: 0.9899\n",
            "Epoch 13/20\n",
            "399/399 [==============================] - 2s 5ms/step - loss: 0.0064 - accuracy: 0.9984 - val_loss: 0.0794 - val_accuracy: 0.9906\n",
            "Epoch 14/20\n",
            "399/399 [==============================] - 2s 5ms/step - loss: 0.0046 - accuracy: 0.9987 - val_loss: 0.1013 - val_accuracy: 0.9897\n",
            "Epoch 15/20\n",
            "399/399 [==============================] - 2s 5ms/step - loss: 0.0039 - accuracy: 0.9990 - val_loss: 0.0839 - val_accuracy: 0.9907\n",
            "Epoch 16/20\n",
            "399/399 [==============================] - 2s 5ms/step - loss: 0.0041 - accuracy: 0.9988 - val_loss: 0.0890 - val_accuracy: 0.9899\n",
            "Epoch 17/20\n",
            "399/399 [==============================] - 2s 5ms/step - loss: 0.0041 - accuracy: 0.9990 - val_loss: 0.0885 - val_accuracy: 0.9901\n",
            "Epoch 18/20\n",
            "399/399 [==============================] - 2s 5ms/step - loss: 0.0037 - accuracy: 0.9987 - val_loss: 0.0948 - val_accuracy: 0.9902\n",
            "Epoch 19/20\n",
            "399/399 [==============================] - 2s 5ms/step - loss: 0.0074 - accuracy: 0.9984 - val_loss: 0.0947 - val_accuracy: 0.9908\n",
            "Epoch 20/20\n",
            "399/399 [==============================] - 2s 5ms/step - loss: 0.0043 - accuracy: 0.9989 - val_loss: 0.1167 - val_accuracy: 0.9896\n"
          ],
          "name": "stdout"
        }
      ]
    },
    {
      "cell_type": "code",
      "metadata": {
        "colab": {
          "base_uri": "https://localhost:8080/"
        },
        "id": "DZsI9c-WQH-6",
        "outputId": "b1ca9e08-e283-4fb4-cb5f-070950e8ac85"
      },
      "source": [
        "#check test data\n",
        "arch.evaluate(testX,testY1h)[1]"
      ],
      "execution_count": 11,
      "outputs": [
        {
          "output_type": "stream",
          "text": [
            "313/313 [==============================] - 1s 3ms/step - loss: 0.0774 - accuracy: 0.9900\n"
          ],
          "name": "stdout"
        },
        {
          "output_type": "execute_result",
          "data": {
            "text/plain": [
              "0.9900000095367432"
            ]
          },
          "metadata": {
            "tags": []
          },
          "execution_count": 11
        }
      ]
    },
    {
      "cell_type": "code",
      "metadata": {
        "colab": {
          "base_uri": "https://localhost:8080/",
          "height": 325
        },
        "id": "6kWiYYy-jG6L",
        "outputId": "48645678-123d-4927-ddee-a9616155fa94"
      },
      "source": [
        "#plot\n",
        "pyplot.plot(hist.history['accuracy'])\n",
        "pyplot.plot(hist.history['val_accuracy'])\n",
        "pyplot.title('Arch Acc.')\n",
        "pyplot.xlabel('epoch')\n",
        "pyplot.ylabel('Accuracy /1')\n",
        "pyplot.legend(['Train', 'Validation'], loc = 'upper right')\n",
        "pyplot.show()"
      ],
      "execution_count": 12,
      "outputs": [
        {
          "output_type": "display_data",
          "data": {
            "image/png": "[encoded data removed]",
            "text/plain": [
              "<Figure size 432x288 with 1 Axes>"
            ]
          },
          "metadata": {
            "tags": []
          }
        }
      ]
    },
    {
      "cell_type": "code",
      "metadata": {
        "id": "YagWcQD2jR0R"
      },
      "source": [
        "#test a random image from online \n",
        "from google.colab import files \n",
        "uploaded = files.upload()"
      ],
      "execution_count": null,
      "outputs": []
    },
    {
      "cell_type": "code",
      "metadata": {
        "id": "y3PGq25smJfM"
      },
      "source": [
        "#structure input\n",
        "image = pyplot.imread('imagename.png')\n",
        "from skimage.transform import resize\n",
        "resized = resize(image,(28,28,1))\n",
        "#predict\n",
        "predictions = arch.predict(np.array([resized]))\n",
        "best = 0\n",
        "for i in range(10):\n",
        "  if (predictions[0][i] > predictions[0][best]):\n",
        "    best = i\n",
        "\n",
        "print(best)"
      ],
      "execution_count": null,
      "outputs": []
    }
  ]
}