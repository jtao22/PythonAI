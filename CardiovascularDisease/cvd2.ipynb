{
  "nbformat": 4,
  "nbformat_minor": 0,
  "metadata": {
    "colab": {
      "name": "cvd2.ipynb",
      "provenance": [],
      "authorship_tag": "ABX9TyMCEM3z60bpLlXtvHVz8e/M",
      "include_colab_link": true
    },
    "kernelspec": {
      "name": "python3",
      "display_name": "Python 3"
    }
  },
  "cells": [
    {
      "cell_type": "markdown",
      "metadata": {
        "id": "view-in-github",
        "colab_type": "text"
      },
      "source": [
        "<a href=\"https://colab.research.google.com/github/jtao22/PythonAI/blob/main/CardiovascularDisease/cvd2.ipynb\" target=\"_parent\"><img src=\"https://colab.research.google.com/assets/colab-badge.svg\" alt=\"Open In Colab\"/></a>"
      ]
    },
    {
      "cell_type": "code",
      "metadata": {
        "id": "OBz3Np5hadc9"
      },
      "source": [
        "#import\n",
        "import numpy as np\n",
        "import pandas as pd\n",
        "import matplotlib.pyplot as pyplot\n",
        "import seaborn as sb\n",
        "from sklearn.linear_model import LogisticRegression as lr\n",
        "from sklearn.tree import DecisionTreeClassifier as dtc\n",
        "from sklearn.ensemble import RandomForestClassifier as rfc\n",
        "from sklearn.preprocessing import LabelEncoder as le\n",
        "from sklearn.model_selection import train_test_split as tts\n",
        "from sklearn.preprocessing import StandardScaler as ss\n",
        "from sklearn.metrics import confusion_matrix as cm"
      ],
      "execution_count": 2,
      "outputs": []
    },
    {
      "cell_type": "code",
      "metadata": {
        "id": "SPA3b6Sya3i_"
      },
      "source": [
        "#Upload data\n",
        "from google.colab import files \n",
        "files.upload()"
      ],
      "execution_count": null,
      "outputs": []
    },
    {
      "cell_type": "code",
      "metadata": {
        "colab": {
          "base_uri": "https://localhost:8080/",
          "height": 204
        },
        "id": "bfpM-SJ2a_8Z",
        "outputId": "8717f8ba-debf-40ef-88b8-81e0dc199c9a"
      },
      "source": [
        "#clean data\n",
        "data = pd.read_csv('heartv2.csv')\n",
        "data = data.dropna(axis=0)\n",
        "data.head(5)"
      ],
      "execution_count": 13,
      "outputs": [
        {
          "output_type": "execute_result",
          "data": {
            "text/html": [
              "<div>\n",
              "<style scoped>\n",
              "    .dataframe tbody tr th:only-of-type {\n",
              "        vertical-align: middle;\n",
              "    }\n",
              "\n",
              "    .dataframe tbody tr th {\n",
              "        vertical-align: top;\n",
              "    }\n",
              "\n",
              "    .dataframe thead th {\n",
              "        text-align: right;\n",
              "    }\n",
              "</style>\n",
              "<table border=\"1\" class=\"dataframe\">\n",
              "  <thead>\n",
              "    <tr style=\"text-align: right;\">\n",
              "      <th></th>\n",
              "      <th>age</th>\n",
              "      <th>sex</th>\n",
              "      <th>cp</th>\n",
              "      <th>trestbps</th>\n",
              "      <th>chol</th>\n",
              "      <th>fbs</th>\n",
              "      <th>restecg</th>\n",
              "      <th>thalach</th>\n",
              "      <th>exang</th>\n",
              "      <th>oldpeak</th>\n",
              "      <th>slope</th>\n",
              "      <th>ca</th>\n",
              "      <th>thal</th>\n",
              "      <th>target</th>\n",
              "    </tr>\n",
              "  </thead>\n",
              "  <tbody>\n",
              "    <tr>\n",
              "      <th>0</th>\n",
              "      <td>63</td>\n",
              "      <td>1</td>\n",
              "      <td>3</td>\n",
              "      <td>145</td>\n",
              "      <td>233</td>\n",
              "      <td>1</td>\n",
              "      <td>0</td>\n",
              "      <td>150</td>\n",
              "      <td>0</td>\n",
              "      <td>2.3</td>\n",
              "      <td>0</td>\n",
              "      <td>0</td>\n",
              "      <td>1</td>\n",
              "      <td>1</td>\n",
              "    </tr>\n",
              "    <tr>\n",
              "      <th>1</th>\n",
              "      <td>37</td>\n",
              "      <td>1</td>\n",
              "      <td>2</td>\n",
              "      <td>130</td>\n",
              "      <td>250</td>\n",
              "      <td>0</td>\n",
              "      <td>1</td>\n",
              "      <td>187</td>\n",
              "      <td>0</td>\n",
              "      <td>3.5</td>\n",
              "      <td>0</td>\n",
              "      <td>0</td>\n",
              "      <td>2</td>\n",
              "      <td>1</td>\n",
              "    </tr>\n",
              "    <tr>\n",
              "      <th>2</th>\n",
              "      <td>41</td>\n",
              "      <td>0</td>\n",
              "      <td>1</td>\n",
              "      <td>130</td>\n",
              "      <td>204</td>\n",
              "      <td>0</td>\n",
              "      <td>0</td>\n",
              "      <td>172</td>\n",
              "      <td>0</td>\n",
              "      <td>1.4</td>\n",
              "      <td>2</td>\n",
              "      <td>0</td>\n",
              "      <td>2</td>\n",
              "      <td>1</td>\n",
              "    </tr>\n",
              "    <tr>\n",
              "      <th>3</th>\n",
              "      <td>56</td>\n",
              "      <td>1</td>\n",
              "      <td>1</td>\n",
              "      <td>120</td>\n",
              "      <td>236</td>\n",
              "      <td>0</td>\n",
              "      <td>1</td>\n",
              "      <td>178</td>\n",
              "      <td>0</td>\n",
              "      <td>0.8</td>\n",
              "      <td>2</td>\n",
              "      <td>0</td>\n",
              "      <td>2</td>\n",
              "      <td>1</td>\n",
              "    </tr>\n",
              "    <tr>\n",
              "      <th>4</th>\n",
              "      <td>57</td>\n",
              "      <td>0</td>\n",
              "      <td>0</td>\n",
              "      <td>120</td>\n",
              "      <td>354</td>\n",
              "      <td>0</td>\n",
              "      <td>1</td>\n",
              "      <td>163</td>\n",
              "      <td>1</td>\n",
              "      <td>0.6</td>\n",
              "      <td>2</td>\n",
              "      <td>0</td>\n",
              "      <td>2</td>\n",
              "      <td>1</td>\n",
              "    </tr>\n",
              "  </tbody>\n",
              "</table>\n",
              "</div>"
            ],
            "text/plain": [
              "   age  sex  cp  trestbps  chol  fbs  ...  exang  oldpeak  slope  ca  thal  target\n",
              "0   63    1   3       145   233    1  ...      0      2.3      0   0     1       1\n",
              "1   37    1   2       130   250    0  ...      0      3.5      0   0     2       1\n",
              "2   41    0   1       130   204    0  ...      0      1.4      2   0     2       1\n",
              "3   56    1   1       120   236    0  ...      0      0.8      2   0     2       1\n",
              "4   57    0   0       120   354    0  ...      1      0.6      2   0     2       1\n",
              "\n",
              "[5 rows x 14 columns]"
            ]
          },
          "metadata": {
            "tags": []
          },
          "execution_count": 13
        }
      ]
    },
    {
      "cell_type": "code",
      "metadata": {
        "id": "4ZsdZ0tmcDZB"
      },
      "source": [
        "#split\n",
        "trainX,testX,trainY,testY = tts(data.iloc[:,0:13].values, data.iloc[:,-1].values, test_size = 0.20, random_state = 42)\n"
      ],
      "execution_count": 21,
      "outputs": []
    },
    {
      "cell_type": "code",
      "metadata": {
        "id": "PSdKYS4hcfbC"
      },
      "source": [
        "#create architecture \n",
        "def arch(trainX, trainY):\n",
        "  #Logistic Regression\n",
        "  logReg = lr(random_state = 42)\n",
        "  logReg.fit(trainX, trainY)\n",
        "  #Decision Tree\n",
        "  DTC = dtc(criterion='entropy', random_state = 42)\n",
        "  DTC.fit(trainX, trainY)\n",
        "  #Random Forest Classifier\n",
        "  RFC = rfc(n_estimators = 10, criterion = 'entropy', random_state = 42)\n",
        "  RFC.fit(trainX, trainY)\n",
        "  #print\n",
        "  print('Logistic Regression Training Accuracy: ', logReg.score(trainX,trainY) * 100, '%')\n",
        "  print('Decision Tree Classifier Accuracy: ', DTC.score(trainX,trainY)*100, '%')\n",
        "  print('Random Forest Classifier Accuracy: ', RFC.score(trainX,trainY)*100, '%') \n",
        "  #return\n",
        "  return logReg, DTC, RFC"
      ],
      "execution_count": 22,
      "outputs": []
    },
    {
      "cell_type": "code",
      "metadata": {
        "colab": {
          "base_uri": "https://localhost:8080/"
        },
        "id": "62BGiLpLcjpN",
        "outputId": "a163c4e5-8302-45c4-f6db-a8b4cbcf827c"
      },
      "source": [
        "#create model\n",
        "models = arch(trainX, trainY)"
      ],
      "execution_count": 23,
      "outputs": [
        {
          "output_type": "stream",
          "text": [
            "Logistic Regression Training Accuracy:  85.53719008264463 %\n",
            "Decision Tree Classifier Accuracy:  100.0 %\n",
            "Random Forest Classifier Accuracy:  100.0 %\n"
          ],
          "name": "stdout"
        },
        {
          "output_type": "stream",
          "text": [
            "/usr/local/lib/python3.6/dist-packages/sklearn/linear_model/_logistic.py:940: ConvergenceWarning: lbfgs failed to converge (status=1):\n",
            "STOP: TOTAL NO. of ITERATIONS REACHED LIMIT.\n",
            "\n",
            "Increase the number of iterations (max_iter) or scale the data as shown in:\n",
            "    https://scikit-learn.org/stable/modules/preprocessing.html\n",
            "Please also refer to the documentation for alternative solver options:\n",
            "    https://scikit-learn.org/stable/modules/linear_model.html#logistic-regression\n",
            "  extra_warning_msg=_LOGISTIC_SOLVER_CONVERGENCE_MSG)\n"
          ],
          "name": "stderr"
        }
      ]
    },
    {
      "cell_type": "code",
      "metadata": {
        "colab": {
          "base_uri": "https://localhost:8080/"
        },
        "id": "DSLLSHR0cqZv",
        "outputId": "a043c20c-aba3-484d-d454-bf9ba4a97fdf"
      },
      "source": [
        "\n",
        "#test data\n",
        "CM = cm(testY, models[0].predict(testX))\n",
        "names = ['Logistic Regression', 'Decision Tree Classifier', 'Random Forest Classifier']\n",
        "for i in range(len(models)):\n",
        "  print(names[i])\n",
        "  CM = cm(testY, models[i].predict(testX))\n",
        "  print(CM) \n",
        "  print('Accuracy: ', (CM[0][0] + CM[1][1])/(CM[0][0] + CM[1][1] + CM[1][0] + CM[0][1]) * 100, '%')\n",
        "  print()\n",
        "#Diagram is:\n",
        "# TP FP\n",
        "# FN TN"
      ],
      "execution_count": 24,
      "outputs": [
        {
          "output_type": "stream",
          "text": [
            "Logistic Regression\n",
            "[[25  4]\n",
            " [ 3 29]]\n",
            "Accuracy:  88.52459016393442 %\n",
            "\n",
            "Decision Tree Classifier\n",
            "[[26  3]\n",
            " [ 8 24]]\n",
            "Accuracy:  81.9672131147541 %\n",
            "\n",
            "Random Forest Classifier\n",
            "[[26  3]\n",
            " [ 7 25]]\n",
            "Accuracy:  83.60655737704919 %\n",
            "\n"
          ],
          "name": "stdout"
        }
      ]
    }
  ]
}