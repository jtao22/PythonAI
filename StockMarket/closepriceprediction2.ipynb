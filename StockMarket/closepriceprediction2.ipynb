{
  "nbformat": 4,
  "nbformat_minor": 0,
  "metadata": {
    "colab": {
      "name": "closepriceprediction2.ipynb",
      "provenance": [],
      "authorship_tag": "ABX9TyOsJY8HXgNLVYExa5bbLNKT",
      "include_colab_link": true
    },
    "kernelspec": {
      "name": "python3",
      "display_name": "Python 3"
    }
  },
  "cells": [
    {
      "cell_type": "markdown",
      "metadata": {
        "id": "view-in-github",
        "colab_type": "text"
      },
      "source": [
        "<a href=\"https://colab.research.google.com/github/jtao22/PythonAI/blob/main/StockMarket/closepriceprediction2.ipynb\" target=\"_parent\"><img src=\"https://colab.research.google.com/assets/colab-badge.svg\" alt=\"Open In Colab\"/></a>"
      ]
    },
    {
      "cell_type": "code",
      "metadata": {
        "id": "qyK6BnaC1znZ"
      },
      "source": [
        "#import \n",
        "from sklearn.svm import SVR\n",
        "import numpy as np\n",
        "import pandas as pd\n",
        "import matplotlib.pyplot as pyplot \n",
        "from sklearn.preprocessing import MinMaxScaler as mms\n",
        "import datetime as dt\n",
        "from sklearn.model_selection import train_test_split as tts\n",
        "from sklearn.linear_model import LogisticRegression as lr\n",
        "from sklearn.tree import DecisionTreeClassifier as dtc\n",
        "from sklearn.ensemble import RandomForestClassifier as rfc\n",
        "pyplot.style.use('seaborn-darkgrid')"
      ],
      "execution_count": 2,
      "outputs": []
    },
    {
      "cell_type": "code",
      "metadata": {
        "id": "rk9C3qGI2KpK"
      },
      "source": [
        "#upload data\n",
        "from google.colab import files\n",
        "files.upload()\n"
      ],
      "execution_count": null,
      "outputs": []
    },
    {
      "cell_type": "code",
      "metadata": {
        "colab": {
          "base_uri": "https://localhost:8080/",
          "height": 204
        },
        "id": "lGA9dh3m3FAr",
        "outputId": "d01eabc3-26a2-442f-f958-59a575e09792"
      },
      "source": [
        "data = pd.read_csv('tesla.csv')\n",
        "data.head(5)"
      ],
      "execution_count": 6,
      "outputs": [
        {
          "output_type": "execute_result",
          "data": {
            "text/html": [
              "<div>\n",
              "<style scoped>\n",
              "    .dataframe tbody tr th:only-of-type {\n",
              "        vertical-align: middle;\n",
              "    }\n",
              "\n",
              "    .dataframe tbody tr th {\n",
              "        vertical-align: top;\n",
              "    }\n",
              "\n",
              "    .dataframe thead th {\n",
              "        text-align: right;\n",
              "    }\n",
              "</style>\n",
              "<table border=\"1\" class=\"dataframe\">\n",
              "  <thead>\n",
              "    <tr style=\"text-align: right;\">\n",
              "      <th></th>\n",
              "      <th>Date</th>\n",
              "      <th>Open</th>\n",
              "      <th>High</th>\n",
              "      <th>Low</th>\n",
              "      <th>Close</th>\n",
              "      <th>Volume</th>\n",
              "      <th>Adj Close</th>\n",
              "    </tr>\n",
              "  </thead>\n",
              "  <tbody>\n",
              "    <tr>\n",
              "      <th>0</th>\n",
              "      <td>6/29/2010</td>\n",
              "      <td>19.000000</td>\n",
              "      <td>25.00</td>\n",
              "      <td>17.540001</td>\n",
              "      <td>23.889999</td>\n",
              "      <td>18766300</td>\n",
              "      <td>23.889999</td>\n",
              "    </tr>\n",
              "    <tr>\n",
              "      <th>1</th>\n",
              "      <td>6/30/2010</td>\n",
              "      <td>25.790001</td>\n",
              "      <td>30.42</td>\n",
              "      <td>23.299999</td>\n",
              "      <td>23.830000</td>\n",
              "      <td>17187100</td>\n",
              "      <td>23.830000</td>\n",
              "    </tr>\n",
              "    <tr>\n",
              "      <th>2</th>\n",
              "      <td>7/1/2010</td>\n",
              "      <td>25.000000</td>\n",
              "      <td>25.92</td>\n",
              "      <td>20.270000</td>\n",
              "      <td>21.959999</td>\n",
              "      <td>8218800</td>\n",
              "      <td>21.959999</td>\n",
              "    </tr>\n",
              "    <tr>\n",
              "      <th>3</th>\n",
              "      <td>7/2/2010</td>\n",
              "      <td>23.000000</td>\n",
              "      <td>23.10</td>\n",
              "      <td>18.709999</td>\n",
              "      <td>19.200001</td>\n",
              "      <td>5139800</td>\n",
              "      <td>19.200001</td>\n",
              "    </tr>\n",
              "    <tr>\n",
              "      <th>4</th>\n",
              "      <td>7/6/2010</td>\n",
              "      <td>20.000000</td>\n",
              "      <td>20.00</td>\n",
              "      <td>15.830000</td>\n",
              "      <td>16.110001</td>\n",
              "      <td>6866900</td>\n",
              "      <td>16.110001</td>\n",
              "    </tr>\n",
              "  </tbody>\n",
              "</table>\n",
              "</div>"
            ],
            "text/plain": [
              "        Date       Open   High        Low      Close    Volume  Adj Close\n",
              "0  6/29/2010  19.000000  25.00  17.540001  23.889999  18766300  23.889999\n",
              "1  6/30/2010  25.790001  30.42  23.299999  23.830000  17187100  23.830000\n",
              "2   7/1/2010  25.000000  25.92  20.270000  21.959999   8218800  21.959999\n",
              "3   7/2/2010  23.000000  23.10  18.709999  19.200001   5139800  19.200001\n",
              "4   7/6/2010  20.000000  20.00  15.830000  16.110001   6866900  16.110001"
            ]
          },
          "metadata": {
            "tags": []
          },
          "execution_count": 6
        }
      ]
    },
    {
      "cell_type": "code",
      "metadata": {
        "colab": {
          "base_uri": "https://localhost:8080/"
        },
        "id": "J2lFQ1ua3bA2",
        "outputId": "855c5167-f2e3-4b4c-b5d9-9444ff42961b"
      },
      "source": [
        "#filter\n",
        "Y = data['Adj Close'].values\n",
        "data = data.drop(labels=['Adj Close', 'Close'], axis = 1)\n",
        "for i in range(len(data['Date'])):\n",
        " temp = data['Date'][i]\n",
        " data['Date'][i] = dt.datetime.strptime(temp,\"%m/%d/%Y\")\n",
        "data['day'] = data['Date'].apply(lambda r:r.day)\n",
        "data['month'] = data['Date'].apply(lambda r:r.month)\n",
        "data['year'] = data['Date'].apply(lambda r:r.year)\n",
        "data = data.drop(labels=['Date'], axis=1)\n",
        "scaler = mms(feature_range=(0,1))\n",
        "data.iloc[:,-7:] = scaler.fit_transform(data.iloc[:,-7:])\n",
        "data = data.values"
      ],
      "execution_count": 7,
      "outputs": [
        {
          "output_type": "stream",
          "text": [
            "/usr/local/lib/python3.6/dist-packages/ipykernel_launcher.py:6: SettingWithCopyWarning: \n",
            "A value is trying to be set on a copy of a slice from a DataFrame\n",
            "\n",
            "See the caveats in the documentation: https://pandas.pydata.org/pandas-docs/stable/user_guide/indexing.html#returning-a-view-versus-a-copy\n",
            "  \n"
          ],
          "name": "stderr"
        }
      ]
    },
    {
      "cell_type": "code",
      "metadata": {
        "id": "K_y18jBH5VJq"
      },
      "source": [
        "#split\n",
        "trainX,testX,trainY,testY = tts(data, Y, test_size = 0.25, random_state = 42)\n"
      ],
      "execution_count": 8,
      "outputs": []
    },
    {
      "cell_type": "code",
      "metadata": {
        "colab": {
          "base_uri": "https://localhost:8080/"
        },
        "id": "qK9qrN2h52YL",
        "outputId": "ce1b1d93-1141-44ea-bd5c-0a3cdf018623"
      },
      "source": [
        "#Create SVR\n",
        "lsvr = SVR(kernel='linear', C=1000.0)\n",
        "lsvr.fit(trainX,trainY)\n",
        "psvr = SVR(kernel='poly', C=1000.0, degree=2)\n",
        "psvr.fit(trainX, trainY)\n",
        "rsvr = SVR(kernel='rbf', C=1000.0, gamma=0.15)\n",
        "rsvr.fit(trainX, trainY)"
      ],
      "execution_count": 9,
      "outputs": [
        {
          "output_type": "execute_result",
          "data": {
            "text/plain": [
              "SVR(C=1000.0, cache_size=200, coef0=0.0, degree=3, epsilon=0.1, gamma=0.15,\n",
              "    kernel='rbf', max_iter=-1, shrinking=True, tol=0.001, verbose=False)"
            ]
          },
          "metadata": {
            "tags": []
          },
          "execution_count": 9
        }
      ]
    },
    {
      "cell_type": "code",
      "metadata": {
        "colab": {
          "base_uri": "https://localhost:8080/"
        },
        "id": "2uN5rUwr6bOU",
        "outputId": "27bf8e62-c09a-4da7-844e-0d6b07185e7a"
      },
      "source": [
        "#test\n",
        "lpredict = lsvr.predict(testX)\n",
        "ppredict = psvr.predict(testX)\n",
        "rpredict = rsvr.predict(testX)\n",
        "lcount = 0\n",
        "pcount = 0\n",
        "rcount = 0\n",
        "total = len(testY)\n",
        "for i in range(len(testY)):\n",
        "  if (lpredict[i] <= testY[i]+2 and lpredict[i] >= testY[i]-2):\n",
        "    lcount = lcount + 1\n",
        "  if (ppredict[i] <= testY[i]+2 and ppredict[i] >= testY[i]-2):\n",
        "    pcount = pcount + 1\n",
        "  if (rpredict[i] <= testY[i]+2 and rpredict[i] >= testY[i]-2):\n",
        "    rcount = rcount + 1\n",
        "print(\"linear:\", lcount/total*100,'%')\n",
        "print(\"polynomial:\", pcount/total*100,'%')\n",
        "print(\"rbf:\", rcount/total*100,'%')"
      ],
      "execution_count": 14,
      "outputs": [
        {
          "output_type": "stream",
          "text": [
            "linear: 82.26950354609929 %\n",
            "polynomial: 26.95035460992908 %\n",
            "rbf: 79.66903073286052 %\n"
          ],
          "name": "stdout"
        }
      ]
    },
    {
      "cell_type": "code",
      "metadata": {
        "id": "0yqRUEaF3Lyl"
      },
      "source": [
        ""
      ],
      "execution_count": null,
      "outputs": []
    }
  ]
}