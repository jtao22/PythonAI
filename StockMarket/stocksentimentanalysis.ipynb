{
  "nbformat": 4,
  "nbformat_minor": 0,
  "metadata": {
    "colab": {
      "name": "stocksentimentanalysis.ipynb",
      "provenance": [],
      "authorship_tag": "ABX9TyPYYW1PvwuZwmxAyUvourlg",
      "include_colab_link": true
    },
    "kernelspec": {
      "name": "python3",
      "display_name": "Python 3"
    }
  },
  "cells": [
    {
      "cell_type": "markdown",
      "metadata": {
        "id": "view-in-github",
        "colab_type": "text"
      },
      "source": [
        "<a href=\"https://colab.research.google.com/github/jtao22/PythonAI/blob/main/StockMarket/stocksentimentanalysis.ipynb\" target=\"_parent\"><img src=\"https://colab.research.google.com/assets/colab-badge.svg\" alt=\"Open In Colab\"/></a>"
      ]
    },
    {
      "cell_type": "code",
      "metadata": {
        "colab": {
          "base_uri": "https://localhost:8080/"
        },
        "id": "CqJXHcXOGjrA",
        "outputId": "246c63c8-1bb4-4918-828f-ddfd9ef11b70"
      },
      "source": [
        "pip install vaderSentiment"
      ],
      "execution_count": null,
      "outputs": [
        {
          "output_type": "stream",
          "text": [
            "Collecting vaderSentiment\n",
            "\u001b[?25l  Downloading https://files.pythonhosted.org/packages/76/fc/310e16254683c1ed35eeb97386986d6c00bc29df17ce280aed64d55537e9/vaderSentiment-3.3.2-py2.py3-none-any.whl (125kB)\n",
            "\r\u001b[K     |██▋                             | 10kB 17.0MB/s eta 0:00:01\r\u001b[K     |█████▏                          | 20kB 11.7MB/s eta 0:00:01\r\u001b[K     |███████▉                        | 30kB 8.6MB/s eta 0:00:01\r\u001b[K     |██████████▍                     | 40kB 7.5MB/s eta 0:00:01\r\u001b[K     |█████████████                   | 51kB 5.2MB/s eta 0:00:01\r\u001b[K     |███████████████▋                | 61kB 4.9MB/s eta 0:00:01\r\u001b[K     |██████████████████▏             | 71kB 5.4MB/s eta 0:00:01\r\u001b[K     |████████████████████▉           | 81kB 5.8MB/s eta 0:00:01\r\u001b[K     |███████████████████████▍        | 92kB 5.7MB/s eta 0:00:01\r\u001b[K     |██████████████████████████      | 102kB 5.9MB/s eta 0:00:01\r\u001b[K     |████████████████████████████▋   | 112kB 5.9MB/s eta 0:00:01\r\u001b[K     |███████████████████████████████▏| 122kB 5.9MB/s eta 0:00:01\r\u001b[K     |████████████████████████████████| 133kB 5.9MB/s \n",
            "\u001b[?25hRequirement already satisfied: requests in /usr/local/lib/python3.6/dist-packages (from vaderSentiment) (2.23.0)\n",
            "Requirement already satisfied: idna<3,>=2.5 in /usr/local/lib/python3.6/dist-packages (from requests->vaderSentiment) (2.10)\n",
            "Requirement already satisfied: urllib3!=1.25.0,!=1.25.1,<1.26,>=1.21.1 in /usr/local/lib/python3.6/dist-packages (from requests->vaderSentiment) (1.24.3)\n",
            "Requirement already satisfied: chardet<4,>=3.0.2 in /usr/local/lib/python3.6/dist-packages (from requests->vaderSentiment) (3.0.4)\n",
            "Requirement already satisfied: certifi>=2017.4.17 in /usr/local/lib/python3.6/dist-packages (from requests->vaderSentiment) (2020.12.5)\n",
            "Installing collected packages: vaderSentiment\n",
            "Successfully installed vaderSentiment-3.3.2\n"
          ],
          "name": "stdout"
        }
      ]
    },
    {
      "cell_type": "code",
      "metadata": {
        "id": "V0AjQP5oJCyj"
      },
      "source": [
        "#import\n",
        "from vaderSentiment.vaderSentiment import SentimentIntensityAnalyzer as SIA\n",
        "import pandas as pd\n",
        "import numpy as np\n",
        "import re\n",
        "from textblob import TextBlob as TB\n",
        "from sklearn.model_selection import train_test_split as tts\n",
        "from sklearn.metrics import classification_report\n",
        "from sklearn.discriminant_analysis import LinearDiscriminantAnalysis as LDA"
      ],
      "execution_count": null,
      "outputs": []
    },
    {
      "cell_type": "code",
      "metadata": {
        "id": "Q3sYO4T4JNgA"
      },
      "source": [
        "#upload data\n",
        "from google.colab import files\n",
        "files.upload()"
      ],
      "execution_count": null,
      "outputs": []
    },
    {
      "cell_type": "code",
      "metadata": {
        "id": "3FgFPr6gKiS0"
      },
      "source": [
        "newsdata = pd.read_csv('Combined_News_DJIA.csv')\n",
        "tabledata = pd.read_csv('upload_DJIA_table.csv')\n",
        "#merge on date\n",
        "merged = newsdata.merge(tabledata, how = 'inner', on = 'Date', left_index = True)\n",
        "merged #check"
      ],
      "execution_count": null,
      "outputs": []
    },
    {
      "cell_type": "code",
      "metadata": {
        "id": "WtJGWyLZNFLj"
      },
      "source": [
        "#flatten\n",
        "headlines = []\n",
        "for i in range(0, len(merged.index)):\n",
        "  headlines.append(' '.join(str(string) for string in merged.iloc[i, 2:27]))\n",
        "#filter/clean data\n",
        "cleaned_data = []\n",
        "for i in range(0, len(headlines)):\n",
        "  cleaned_data.append(re.sub(\"b[(')]\",'',headlines[i]))\n",
        "  cleaned_data[i] = re.sub('b[(\")]', '', cleaned_data[i])\n",
        "  cleaned_data[i] = re.sub(\"\\'\", '', cleaned_data[i])\n",
        "merged['Cleaned News'] = cleaned_data"
      ],
      "execution_count": null,
      "outputs": []
    },
    {
      "cell_type": "code",
      "metadata": {
        "id": "CqH_Md-rPCYV"
      },
      "source": [
        "#subjectivity function (how biased the text is)\n",
        "def getSub(text):\n",
        "  return TB(text).sentiment.subjectivity\n",
        "#polarity function (how opinionated the text is)\n",
        "def getPol(text):\n",
        "  return TB(text).sentiment.polarity\n",
        "#sentiment score function\n",
        "def getSIA(text):\n",
        "  sia = SIA()\n",
        "  sentiment = sia.polarity_scores(text)\n",
        "  return sentiment"
      ],
      "execution_count": null,
      "outputs": []
    },
    {
      "cell_type": "code",
      "metadata": {
        "id": "WzoE1ycTrSI7"
      },
      "source": [
        "#add new features\n",
        "merged['Subjectivity'] = merged['Cleaned News'].apply(getSub)\n",
        "merged['Polarity'] = merged['Cleaned News'].apply(getPol)"
      ],
      "execution_count": null,
      "outputs": []
    },
    {
      "cell_type": "code",
      "metadata": {
        "id": "p_G_YQ8Przaz"
      },
      "source": [
        "#get sentiment scores/day\n",
        "compound = []\n",
        "pos = []\n",
        "neg = []\n",
        "neu = []\n",
        "S_I_A = 0\n",
        "for i in range(0,len(merged['Cleaned News'])):\n",
        "  S_I_A = getSIA(merged['Cleaned News'][i])\n",
        "  compound.append(S_I_A['compound'])\n",
        "  pos.append(S_I_A['pos'])\n",
        "  neg.append(S_I_A['neg'])\n",
        "  neu.append(S_I_A['neu'])\n",
        "#store sentiment scores\n",
        "merged['Compound'] = compound\n",
        "merged['Positive'] = pos\n",
        "merged['Negative'] = neg\n",
        "merged['Neutral'] = neu"
      ],
      "execution_count": null,
      "outputs": []
    },
    {
      "cell_type": "code",
      "metadata": {
        "id": "HhxkTZz72dQg"
      },
      "source": [
        "#create data to train architecture\n",
        "X = np.array(merged[['Open', 'High', 'Low', 'Volume', 'Subjectivity', 'Polarity', 'Compound', 'Positive', 'Negative', 'Neutral']])\n",
        "Y = np.array(merged['Label'])\n",
        "trainX, testX, trainY, testY = tts(X, Y, test_size = 0.2, random_state = 0)"
      ],
      "execution_count": null,
      "outputs": []
    },
    {
      "cell_type": "code",
      "metadata": {
        "colab": {
          "base_uri": "https://localhost:8080/"
        },
        "id": "W2HbDplR3osy",
        "outputId": "458e138c-beb3-48b7-e581-ba06d9342b6f"
      },
      "source": [
        "#create architecture\n",
        "arch = LDA().fit(trainX, trainY)\n",
        "#predict\n",
        "predictions = arch.predict(testX)\n",
        "#check\n",
        "print(classification_report(testY, predictions))"
      ],
      "execution_count": null,
      "outputs": [
        {
          "output_type": "stream",
          "text": [
            "              precision    recall  f1-score   support\n",
            "\n",
            "           0       0.87      0.79      0.83       193\n",
            "           1       0.82      0.89      0.85       205\n",
            "\n",
            "    accuracy                           0.84       398\n",
            "   macro avg       0.84      0.84      0.84       398\n",
            "weighted avg       0.84      0.84      0.84       398\n",
            "\n"
          ],
          "name": "stdout"
        }
      ]
    }
  ]
}